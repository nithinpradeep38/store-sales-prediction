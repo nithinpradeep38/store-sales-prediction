{
 "cells": [
  {
   "cell_type": "code",
   "execution_count": 3,
   "metadata": {},
   "outputs": [],
   "source": [
    "from sales.entity.model_factory import ModelFactory, get_sample_model_config_yaml_file"
   ]
  },
  {
   "cell_type": "code",
   "execution_count": 5,
   "metadata": {},
   "outputs": [
    {
     "data": {
      "text/plain": [
       "'/Users/np10002274373/ineuron/Projects/store-sales-prediction/notebooks'"
      ]
     },
     "execution_count": 5,
     "metadata": {},
     "output_type": "execute_result"
    }
   ],
   "source": [
    "import os\n",
    "os.getcwd()"
   ]
  },
  {
   "cell_type": "code",
   "execution_count": 14,
   "metadata": {},
   "outputs": [
    {
     "data": {
      "text/plain": [
       "'config/model.yaml'"
      ]
     },
     "execution_count": 14,
     "metadata": {},
     "output_type": "execute_result"
    }
   ],
   "source": [
    "get_sample_model_config_yaml_file(export_dir=\"config\")"
   ]
  },
  {
   "cell_type": "code",
   "execution_count": 15,
   "metadata": {},
   "outputs": [
    {
     "data": {
      "text/plain": [
       "LinearRegression()"
      ]
     },
     "execution_count": 15,
     "metadata": {},
     "output_type": "execute_result"
    }
   ],
   "source": [
    "from sklearn.linear_model import LinearRegression\n",
    "LinearRegression()\n"
   ]
  },
  {
   "cell_type": "code",
   "execution_count": 16,
   "metadata": {},
   "outputs": [],
   "source": [
    "model_config_file= r\"/Users/np10002274373/ineuron/Projects/store-sales-prediction/notebooks/config/model.yaml\""
   ]
  },
  {
   "cell_type": "code",
   "execution_count": 35,
   "metadata": {},
   "outputs": [],
   "source": [
    "model_factory = ModelFactory(model_config_path=model_config_file)"
   ]
  },
  {
   "cell_type": "code",
   "execution_count": 36,
   "metadata": {},
   "outputs": [
    {
     "name": "stdout",
     "output_type": "stream",
     "text": [
      "{'fit_intercept': True}\n",
      "{'n_estimators': 40, 'min_samples_leaf': 2}\n",
      "{'n_estimators': 100, 'learning_rate': 0.1}\n"
     ]
    }
   ],
   "source": [
    "model_list = model_factory.get_initialized_model_list()"
   ]
  },
  {
   "cell_type": "code",
   "execution_count": 21,
   "metadata": {},
   "outputs": [
    {
     "data": {
      "text/plain": [
       "InitializedModelDetail(model_serial_number='module_0', model=LinearRegression(), param_grid_search={'fit_intercept': [True, False]}, model_name='sklearn.linear_model.LinearRegression')"
      ]
     },
     "execution_count": 21,
     "metadata": {},
     "output_type": "execute_result"
    }
   ],
   "source": [
    "model_list[0]"
   ]
  },
  {
   "cell_type": "code",
   "execution_count": 22,
   "metadata": {},
   "outputs": [
    {
     "data": {
      "text/plain": [
       "InitializedModelDetail(model_serial_number='module_1', model=RandomForestRegressor(min_samples_leaf=2, n_estimators=40), param_grid_search={'min_samples_leaf': [2, 4, 6], 'n_estimators': [50, 100, 80]}, model_name='sklearn.ensemble.RandomForestRegressor')"
      ]
     },
     "execution_count": 22,
     "metadata": {},
     "output_type": "execute_result"
    }
   ],
   "source": [
    "model_list[1]"
   ]
  },
  {
   "cell_type": "code",
   "execution_count": 23,
   "metadata": {},
   "outputs": [],
   "source": [
    "from sales.util.util import load_numpy_array_data\n"
   ]
  },
  {
   "cell_type": "code",
   "execution_count": 24,
   "metadata": {},
   "outputs": [],
   "source": [
    "data_file_path= r\"/Users/np10002274373/ineuron/Projects/store-sales-prediction/sales/artifact/data_transformation/2022-08-09-22-56-30/transformed_data/train/sales.npz\""
   ]
  },
  {
   "cell_type": "code",
   "execution_count": 25,
   "metadata": {},
   "outputs": [],
   "source": [
    "data = load_numpy_array_data(data_file_path)"
   ]
  },
  {
   "cell_type": "code",
   "execution_count": 26,
   "metadata": {},
   "outputs": [],
   "source": [
    "x,y = data[:,:-1],data[:,-1]"
   ]
  },
  {
   "cell_type": "code",
   "execution_count": 38,
   "metadata": {},
   "outputs": [
    {
     "name": "stdout",
     "output_type": "stream",
     "text": [
      "{'fit_intercept': True}\n",
      "{'n_estimators': 40, 'min_samples_leaf': 2}\n",
      "{'n_estimators': 100, 'learning_rate': 0.1}\n",
      "{'cv': 4, 'verbose': 2}\n",
      "Fitting 4 folds for each of 2 candidates, totalling 8 fits\n",
      "[CV] END .................................fit_intercept=True; total time=   0.0s\n",
      "[CV] END .................................fit_intercept=True; total time=   0.0s\n",
      "[CV] END .................................fit_intercept=True; total time=   0.0s\n",
      "[CV] END .................................fit_intercept=True; total time=   0.0s\n",
      "[CV] END ................................fit_intercept=False; total time=   0.0s\n",
      "[CV] END ................................fit_intercept=False; total time=   0.0s\n",
      "[CV] END ................................fit_intercept=False; total time=   0.0s\n",
      "[CV] END ................................fit_intercept=False; total time=   0.0s\n",
      "{'cv': 4, 'verbose': 2}\n",
      "Fitting 4 folds for each of 6 candidates, totalling 24 fits\n",
      "[CV] END ......................max_depth=4, n_estimators=100; total time=   0.9s\n",
      "[CV] END ......................max_depth=4, n_estimators=100; total time=   0.8s\n",
      "[CV] END ......................max_depth=4, n_estimators=100; total time=   0.8s\n",
      "[CV] END ......................max_depth=4, n_estimators=100; total time=   0.8s\n",
      "[CV] END ......................max_depth=4, n_estimators=200; total time=   1.7s\n",
      "[CV] END ......................max_depth=4, n_estimators=200; total time=   1.6s\n",
      "[CV] END ......................max_depth=4, n_estimators=200; total time=   1.6s\n",
      "[CV] END ......................max_depth=4, n_estimators=200; total time=   1.6s\n",
      "[CV] END ......................max_depth=5, n_estimators=100; total time=   1.0s\n",
      "[CV] END ......................max_depth=5, n_estimators=100; total time=   1.1s\n",
      "[CV] END ......................max_depth=5, n_estimators=100; total time=   0.9s\n",
      "[CV] END ......................max_depth=5, n_estimators=100; total time=   1.0s\n",
      "[CV] END ......................max_depth=5, n_estimators=200; total time=   1.8s\n",
      "[CV] END ......................max_depth=5, n_estimators=200; total time=   1.9s\n",
      "[CV] END ......................max_depth=5, n_estimators=200; total time=   2.0s\n",
      "[CV] END ......................max_depth=5, n_estimators=200; total time=   1.8s\n",
      "[CV] END ......................max_depth=6, n_estimators=100; total time=   1.1s\n",
      "[CV] END ......................max_depth=6, n_estimators=100; total time=   1.1s\n",
      "[CV] END ......................max_depth=6, n_estimators=100; total time=   1.1s\n",
      "[CV] END ......................max_depth=6, n_estimators=100; total time=   1.0s\n",
      "[CV] END ......................max_depth=6, n_estimators=200; total time=   2.1s\n",
      "[CV] END ......................max_depth=6, n_estimators=200; total time=   2.1s\n",
      "[CV] END ......................max_depth=6, n_estimators=200; total time=   2.3s\n",
      "[CV] END ......................max_depth=6, n_estimators=200; total time=   2.1s\n",
      "{'cv': 4, 'verbose': 2}\n",
      "Fitting 4 folds for each of 6 candidates, totalling 24 fits\n",
      "[CV] END ................learning_rate=0.1, n_estimators=100; total time=   0.6s\n",
      "[CV] END ................learning_rate=0.1, n_estimators=100; total time=   0.7s\n",
      "[CV] END ................learning_rate=0.1, n_estimators=100; total time=   0.6s\n",
      "[CV] END ................learning_rate=0.1, n_estimators=100; total time=   0.6s\n",
      "[CV] END ................learning_rate=0.1, n_estimators=200; total time=   1.1s\n",
      "[CV] END ................learning_rate=0.1, n_estimators=200; total time=   1.1s\n",
      "[CV] END ................learning_rate=0.1, n_estimators=200; total time=   1.3s\n",
      "[CV] END ................learning_rate=0.1, n_estimators=200; total time=   1.7s\n",
      "[CV] END ..............learning_rate=0.001, n_estimators=100; total time=   0.6s\n",
      "[CV] END ..............learning_rate=0.001, n_estimators=100; total time=   0.6s\n",
      "[CV] END ..............learning_rate=0.001, n_estimators=100; total time=   0.6s\n",
      "[CV] END ..............learning_rate=0.001, n_estimators=100; total time=   0.7s\n",
      "[CV] END ..............learning_rate=0.001, n_estimators=200; total time=   1.3s\n",
      "[CV] END ..............learning_rate=0.001, n_estimators=200; total time=   1.3s\n",
      "[CV] END ..............learning_rate=0.001, n_estimators=200; total time=   1.2s\n",
      "[CV] END ..............learning_rate=0.001, n_estimators=200; total time=   1.3s\n",
      "[CV] END ...............learning_rate=0.05, n_estimators=100; total time=   0.6s\n",
      "[CV] END ...............learning_rate=0.05, n_estimators=100; total time=   0.7s\n",
      "[CV] END ...............learning_rate=0.05, n_estimators=100; total time=   0.6s\n",
      "[CV] END ...............learning_rate=0.05, n_estimators=100; total time=   0.6s\n",
      "[CV] END ...............learning_rate=0.05, n_estimators=200; total time=   1.1s\n",
      "[CV] END ...............learning_rate=0.05, n_estimators=200; total time=   1.2s\n",
      "[CV] END ...............learning_rate=0.05, n_estimators=200; total time=   1.1s\n",
      "[CV] END ...............learning_rate=0.05, n_estimators=200; total time=   1.2s\n"
     ]
    }
   ],
   "source": [
    "best_model = model_factory.get_best_model(x,y,0.5)"
   ]
  },
  {
   "cell_type": "code",
   "execution_count": 39,
   "metadata": {},
   "outputs": [
    {
     "data": {
      "text/plain": [
       "RandomForestRegressor(max_depth=5, min_samples_leaf=2, n_estimators=200)"
      ]
     },
     "execution_count": 39,
     "metadata": {},
     "output_type": "execute_result"
    }
   ],
   "source": [
    "best_model.best_model\n"
   ]
  },
  {
   "cell_type": "code",
   "execution_count": 42,
   "metadata": {},
   "outputs": [
    {
     "data": {
      "text/plain": [
       "GridSearchedBestModel(model_serial_number='module_2', model=XGBRegressor(base_score=None, booster=None, callbacks=None,\n",
       "             colsample_bylevel=None, colsample_bynode=None,\n",
       "             colsample_bytree=None, early_stopping_rounds=None,\n",
       "             enable_categorical=False, eval_metric=None, gamma=None,\n",
       "             gpu_id=None, grow_policy=None, importance_type=None,\n",
       "             interaction_constraints=None, learning_rate=0.1, max_bin=None,\n",
       "             max_cat_to_onehot=None, max_delta_step=None, max_depth=None,\n",
       "             max_leaves=None, min_child_weight=None, missing=nan,\n",
       "             monotone_constraints=None, n_estimators=100, n_jobs=None,\n",
       "             num_parallel_tree=None, predictor=None, random_state=None,\n",
       "             reg_alpha=None, reg_lambda=None, ...), best_model=XGBRegressor(base_score=0.5, booster='gbtree', callbacks=None,\n",
       "             colsample_bylevel=1, colsample_bynode=1, colsample_bytree=1,\n",
       "             early_stopping_rounds=None, enable_categorical=False,\n",
       "             eval_metric=None, gamma=0, gpu_id=-1, grow_policy='depthwise',\n",
       "             importance_type=None, interaction_constraints='',\n",
       "             learning_rate=0.05, max_bin=256, max_cat_to_onehot=4,\n",
       "             max_delta_step=0, max_depth=6, max_leaves=0, min_child_weight=1,\n",
       "             missing=nan, monotone_constraints='()', n_estimators=100, n_jobs=0,\n",
       "             num_parallel_tree=1, predictor='auto', random_state=0, reg_alpha=0,\n",
       "             reg_lambda=1, ...), best_parameters={'learning_rate': 0.05, 'n_estimators': 100}, best_score=0.5897648593250711)"
      ]
     },
     "execution_count": 42,
     "metadata": {},
     "output_type": "execute_result"
    }
   ],
   "source": [
    "model_factory.grid_searched_best_model_list[2]\n"
   ]
  },
  {
   "cell_type": "code",
   "execution_count": null,
   "metadata": {},
   "outputs": [],
   "source": []
  }
 ],
 "metadata": {
  "kernelspec": {
   "display_name": "Python 3",
   "language": "python",
   "name": "python3"
  },
  "language_info": {
   "codemirror_mode": {
    "name": "ipython",
    "version": 3
   },
   "file_extension": ".py",
   "mimetype": "text/x-python",
   "name": "python",
   "nbconvert_exporter": "python",
   "pygments_lexer": "ipython3",
   "version": "3.7.6"
  },
  "vscode": {
   "interpreter": {
    "hash": "21aa39dee07bbc7ca45d0b914b30ede3b8de48fbf80f95a488e769e99c97231d"
   }
  }
 },
 "nbformat": 4,
 "nbformat_minor": 2
}
