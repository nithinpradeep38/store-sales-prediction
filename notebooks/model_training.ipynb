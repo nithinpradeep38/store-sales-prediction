{
 "cells": [
  {
   "cell_type": "code",
   "execution_count": 1,
   "metadata": {},
   "outputs": [],
   "source": [
    "from sales.entity.model_factory import ModelFactory, get_sample_model_config_yaml_file"
   ]
  },
  {
   "cell_type": "code",
   "execution_count": 2,
   "metadata": {},
   "outputs": [
    {
     "data": {
      "text/plain": [
       "'/Users/np10002274373/ineuron/Projects/store-sales-prediction/notebooks'"
      ]
     },
     "execution_count": 2,
     "metadata": {},
     "output_type": "execute_result"
    }
   ],
   "source": [
    "import os\n",
    "os.getcwd()"
   ]
  },
  {
   "cell_type": "code",
   "execution_count": 3,
   "metadata": {},
   "outputs": [
    {
     "data": {
      "text/plain": [
       "'config/model.yaml'"
      ]
     },
     "execution_count": 3,
     "metadata": {},
     "output_type": "execute_result"
    }
   ],
   "source": [
    "get_sample_model_config_yaml_file(export_dir=\"config\")"
   ]
  },
  {
   "cell_type": "code",
   "execution_count": 15,
   "metadata": {},
   "outputs": [
    {
     "data": {
      "text/plain": [
       "LinearRegression()"
      ]
     },
     "execution_count": 15,
     "metadata": {},
     "output_type": "execute_result"
    }
   ],
   "source": [
    "from sklearn.linear_model import LinearRegression\n",
    "LinearRegression()\n"
   ]
  },
  {
   "cell_type": "code",
   "execution_count": 29,
   "metadata": {},
   "outputs": [],
   "source": [
    "model_config_file= r\"/Users/np10002274373/ineuron/Projects/store-sales-prediction/notebooks/config/model.yaml\""
   ]
  },
  {
   "cell_type": "code",
   "execution_count": 30,
   "metadata": {},
   "outputs": [],
   "source": [
    "model_factory = ModelFactory(model_config_path=model_config_file)"
   ]
  },
  {
   "cell_type": "code",
   "execution_count": 31,
   "metadata": {},
   "outputs": [
    {
     "name": "stdout",
     "output_type": "stream",
     "text": [
      "{'fit_intercept': True}\n",
      "{'min_samples_leaf': 5, 'n_estimators': 500, 'max_features': 21, 'max_depth': 6}\n"
     ]
    }
   ],
   "source": [
    "model_list = model_factory.get_initialized_model_list()"
   ]
  },
  {
   "cell_type": "code",
   "execution_count": 32,
   "metadata": {},
   "outputs": [
    {
     "data": {
      "text/plain": [
       "InitializedModelDetail(model_serial_number='module_0', model=LinearRegression(), param_grid_search={'fit_intercept': [True, False]}, model_name='sklearn.linear_model.LinearRegression')"
      ]
     },
     "execution_count": 32,
     "metadata": {},
     "output_type": "execute_result"
    }
   ],
   "source": [
    "model_list[0]"
   ]
  },
  {
   "cell_type": "code",
   "execution_count": 33,
   "metadata": {},
   "outputs": [
    {
     "data": {
      "text/plain": [
       "InitializedModelDetail(model_serial_number='module_1', model=RandomForestRegressor(max_depth=6, max_features=21, min_samples_leaf=5,\n",
       "                      n_estimators=500), param_grid_search={'min_samples_leaf': [4, 5], 'n_estimators': [100, 500], 'max_features': [12, 18, 21]}, model_name='sklearn.ensemble.RandomForestRegressor')"
      ]
     },
     "execution_count": 33,
     "metadata": {},
     "output_type": "execute_result"
    }
   ],
   "source": [
    "model_list[1]"
   ]
  },
  {
   "cell_type": "code",
   "execution_count": 34,
   "metadata": {},
   "outputs": [],
   "source": [
    "from sales.util.util import load_numpy_array_data\n"
   ]
  },
  {
   "cell_type": "code",
   "execution_count": 35,
   "metadata": {},
   "outputs": [],
   "source": [
    "data_file_path= r\"/Users/np10002274373/ineuron/Projects/store-sales-prediction/sales/artifact/data_transformation/2022-08-18-20-04-38/transformed_data/train/sales.npz\""
   ]
  },
  {
   "cell_type": "code",
   "execution_count": 36,
   "metadata": {},
   "outputs": [],
   "source": [
    "data = load_numpy_array_data(data_file_path)"
   ]
  },
  {
   "cell_type": "code",
   "execution_count": 37,
   "metadata": {},
   "outputs": [],
   "source": [
    "x,y = data[:,:-1],data[:,-1]"
   ]
  },
  {
   "cell_type": "code",
   "execution_count": 38,
   "metadata": {},
   "outputs": [
    {
     "name": "stdout",
     "output_type": "stream",
     "text": [
      "{'fit_intercept': True}\n",
      "{'min_samples_leaf': 5, 'n_estimators': 500, 'max_features': 21, 'max_depth': 6}\n",
      "{'cv': 4, 'verbose': 2}\n",
      "Fitting 4 folds for each of 2 candidates, totalling 8 fits\n",
      "[CV] END .................................fit_intercept=True; total time=   0.0s\n",
      "[CV] END .................................fit_intercept=True; total time=   0.0s\n",
      "[CV] END .................................fit_intercept=True; total time=   0.0s\n",
      "[CV] END .................................fit_intercept=True; total time=   0.0s\n",
      "[CV] END ................................fit_intercept=False; total time=   0.0s\n",
      "[CV] END ................................fit_intercept=False; total time=   0.0s\n",
      "[CV] END ................................fit_intercept=False; total time=   0.0s\n",
      "[CV] END ................................fit_intercept=False; total time=   0.0s\n",
      "{'cv': 4, 'verbose': 2}\n",
      "Fitting 4 folds for each of 12 candidates, totalling 48 fits\n",
      "[CV] END max_features=12, min_samples_leaf=4, n_estimators=100; total time=   0.5s\n",
      "[CV] END max_features=12, min_samples_leaf=4, n_estimators=100; total time=   0.6s\n",
      "[CV] END max_features=12, min_samples_leaf=4, n_estimators=100; total time=   0.5s\n",
      "[CV] END max_features=12, min_samples_leaf=4, n_estimators=100; total time=   0.6s\n",
      "[CV] END max_features=12, min_samples_leaf=4, n_estimators=500; total time=   2.3s\n",
      "[CV] END max_features=12, min_samples_leaf=4, n_estimators=500; total time=   2.2s\n",
      "[CV] END max_features=12, min_samples_leaf=4, n_estimators=500; total time=   2.1s\n",
      "[CV] END max_features=12, min_samples_leaf=4, n_estimators=500; total time=   2.3s\n",
      "[CV] END max_features=12, min_samples_leaf=5, n_estimators=100; total time=   0.6s\n",
      "[CV] END max_features=12, min_samples_leaf=5, n_estimators=100; total time=   0.4s\n",
      "[CV] END max_features=12, min_samples_leaf=5, n_estimators=100; total time=   0.4s\n",
      "[CV] END max_features=12, min_samples_leaf=5, n_estimators=100; total time=   0.4s\n",
      "[CV] END max_features=12, min_samples_leaf=5, n_estimators=500; total time=   2.2s\n",
      "[CV] END max_features=12, min_samples_leaf=5, n_estimators=500; total time=   2.0s\n",
      "[CV] END max_features=12, min_samples_leaf=5, n_estimators=500; total time=   2.1s\n",
      "[CV] END max_features=12, min_samples_leaf=5, n_estimators=500; total time=   2.1s\n",
      "[CV] END max_features=18, min_samples_leaf=4, n_estimators=100; total time=   0.5s\n",
      "[CV] END max_features=18, min_samples_leaf=4, n_estimators=100; total time=   0.5s\n",
      "[CV] END max_features=18, min_samples_leaf=4, n_estimators=100; total time=   0.6s\n",
      "[CV] END max_features=18, min_samples_leaf=4, n_estimators=100; total time=   0.5s\n",
      "[CV] END max_features=18, min_samples_leaf=4, n_estimators=500; total time=   2.8s\n",
      "[CV] END max_features=18, min_samples_leaf=4, n_estimators=500; total time=   2.7s\n",
      "[CV] END max_features=18, min_samples_leaf=4, n_estimators=500; total time=   2.9s\n",
      "[CV] END max_features=18, min_samples_leaf=4, n_estimators=500; total time=   3.3s\n",
      "[CV] END max_features=18, min_samples_leaf=5, n_estimators=100; total time=   0.6s\n",
      "[CV] END max_features=18, min_samples_leaf=5, n_estimators=100; total time=   0.7s\n",
      "[CV] END max_features=18, min_samples_leaf=5, n_estimators=100; total time=   0.6s\n",
      "[CV] END max_features=18, min_samples_leaf=5, n_estimators=100; total time=   0.6s\n",
      "[CV] END max_features=18, min_samples_leaf=5, n_estimators=500; total time=   3.7s\n",
      "[CV] END max_features=18, min_samples_leaf=5, n_estimators=500; total time=   3.3s\n",
      "[CV] END max_features=18, min_samples_leaf=5, n_estimators=500; total time=   3.2s\n",
      "[CV] END max_features=18, min_samples_leaf=5, n_estimators=500; total time=   3.1s\n",
      "[CV] END max_features=21, min_samples_leaf=4, n_estimators=100; total time=   0.7s\n",
      "[CV] END max_features=21, min_samples_leaf=4, n_estimators=100; total time=   0.7s\n",
      "[CV] END max_features=21, min_samples_leaf=4, n_estimators=100; total time=   0.7s\n",
      "[CV] END max_features=21, min_samples_leaf=4, n_estimators=100; total time=   0.7s\n",
      "[CV] END max_features=21, min_samples_leaf=4, n_estimators=500; total time=   3.6s\n",
      "[CV] END max_features=21, min_samples_leaf=4, n_estimators=500; total time=   3.3s\n",
      "[CV] END max_features=21, min_samples_leaf=4, n_estimators=500; total time=   3.4s\n",
      "[CV] END max_features=21, min_samples_leaf=4, n_estimators=500; total time=   3.3s\n",
      "[CV] END max_features=21, min_samples_leaf=5, n_estimators=100; total time=   0.7s\n",
      "[CV] END max_features=21, min_samples_leaf=5, n_estimators=100; total time=   0.7s\n",
      "[CV] END max_features=21, min_samples_leaf=5, n_estimators=100; total time=   0.7s\n",
      "[CV] END max_features=21, min_samples_leaf=5, n_estimators=100; total time=   0.6s\n",
      "[CV] END max_features=21, min_samples_leaf=5, n_estimators=500; total time=   3.5s\n",
      "[CV] END max_features=21, min_samples_leaf=5, n_estimators=500; total time=   3.2s\n",
      "[CV] END max_features=21, min_samples_leaf=5, n_estimators=500; total time=   3.3s\n",
      "[CV] END max_features=21, min_samples_leaf=5, n_estimators=500; total time=   3.4s\n"
     ]
    }
   ],
   "source": [
    "best_model = model_factory.get_best_model(x,y,0.5)"
   ]
  },
  {
   "cell_type": "code",
   "execution_count": 39,
   "metadata": {},
   "outputs": [
    {
     "data": {
      "text/plain": [
       "RandomForestRegressor(max_depth=6, max_features=21, min_samples_leaf=5,\n",
       "                      n_estimators=500)"
      ]
     },
     "execution_count": 39,
     "metadata": {},
     "output_type": "execute_result"
    }
   ],
   "source": [
    "best_model.best_model\n"
   ]
  },
  {
   "cell_type": "code",
   "execution_count": null,
   "metadata": {},
   "outputs": [],
   "source": []
  },
  {
   "cell_type": "code",
   "execution_count": 40,
   "metadata": {},
   "outputs": [
    {
     "data": {
      "text/plain": [
       "GridSearchedBestModel(model_serial_number='module_1', model=RandomForestRegressor(max_depth=6, max_features=21, min_samples_leaf=5,\n",
       "                      n_estimators=500), best_model=RandomForestRegressor(max_depth=6, max_features=21, min_samples_leaf=5,\n",
       "                      n_estimators=500), best_parameters={'max_features': 21, 'min_samples_leaf': 5, 'n_estimators': 500}, best_score=0.59907035306144)"
      ]
     },
     "execution_count": 40,
     "metadata": {},
     "output_type": "execute_result"
    }
   ],
   "source": [
    "model_factory.grid_searched_best_model_list[1]\n"
   ]
  },
  {
   "cell_type": "code",
   "execution_count": null,
   "metadata": {},
   "outputs": [],
   "source": []
  }
 ],
 "metadata": {
  "kernelspec": {
   "display_name": "Python 3",
   "language": "python",
   "name": "python3"
  },
  "language_info": {
   "codemirror_mode": {
    "name": "ipython",
    "version": 3
   },
   "file_extension": ".py",
   "mimetype": "text/x-python",
   "name": "python",
   "nbconvert_exporter": "python",
   "pygments_lexer": "ipython3",
   "version": "3.7.12"
  },
  "vscode": {
   "interpreter": {
    "hash": "21aa39dee07bbc7ca45d0b914b30ede3b8de48fbf80f95a488e769e99c97231d"
   }
  }
 },
 "nbformat": 4,
 "nbformat_minor": 2
}
