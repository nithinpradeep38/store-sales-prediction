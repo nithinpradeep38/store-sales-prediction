{
 "cells": [
  {
   "cell_type": "code",
   "execution_count": 1,
   "metadata": {},
   "outputs": [],
   "source": [
    "import numpy as np\n",
    "import pandas as pd\n",
    "import matplotlib.pyplot as plt\n",
    "import seaborn as sns\n",
    "import scipy.stats as stats\n",
    "from sklearn.preprocessing import OrdinalEncoder,  OneHotEncoder, StandardScaler\n",
    "from sklearn.impute import SimpleImputer\n",
    "from sklearn.compose import ColumnTransformer\n",
    "from sklearn.base import BaseEstimator, TransformerMixin\n",
    "from sklearn.model_selection import train_test_split\n",
    "import itertools\n",
    "from sklearn.impute import KNNImputer\n",
    "\n",
    "from sklearn.linear_model import LinearRegression\n",
    "from sklearn.tree import DecisionTreeRegressor\n",
    "from sklearn.ensemble import RandomForestRegressor\n",
    "import xgboost\n",
    "from xgboost import XGBRegressor\n",
    "\n",
    "\n",
    "from sklearn.model_selection import cross_val_score\n",
    "from sklearn.model_selection import GridSearchCV\n",
    "from sklearn.metrics import mean_squared_error\n",
    "from sklearn.metrics import r2_score"
   ]
  },
  {
   "cell_type": "markdown",
   "metadata": {},
   "source": [
    "## Step 0- Loading and inspecting data"
   ]
  },
  {
   "cell_type": "code",
   "execution_count": 2,
   "metadata": {},
   "outputs": [
    {
     "data": {
      "text/html": [
       "<div>\n",
       "<style scoped>\n",
       "    .dataframe tbody tr th:only-of-type {\n",
       "        vertical-align: middle;\n",
       "    }\n",
       "\n",
       "    .dataframe tbody tr th {\n",
       "        vertical-align: top;\n",
       "    }\n",
       "\n",
       "    .dataframe thead th {\n",
       "        text-align: right;\n",
       "    }\n",
       "</style>\n",
       "<table border=\"1\" class=\"dataframe\">\n",
       "  <thead>\n",
       "    <tr style=\"text-align: right;\">\n",
       "      <th></th>\n",
       "      <th>Item_Identifier</th>\n",
       "      <th>Item_Weight</th>\n",
       "      <th>Item_Fat_Content</th>\n",
       "      <th>Item_Visibility</th>\n",
       "      <th>Item_Type</th>\n",
       "      <th>Item_MRP</th>\n",
       "      <th>Outlet_Identifier</th>\n",
       "      <th>Outlet_Establishment_Year</th>\n",
       "      <th>Outlet_Size</th>\n",
       "      <th>Outlet_Location_Type</th>\n",
       "      <th>Outlet_Type</th>\n",
       "      <th>Item_Outlet_Sales</th>\n",
       "    </tr>\n",
       "  </thead>\n",
       "  <tbody>\n",
       "    <tr>\n",
       "      <th>0</th>\n",
       "      <td>FDA15</td>\n",
       "      <td>9.30</td>\n",
       "      <td>Low Fat</td>\n",
       "      <td>0.016047</td>\n",
       "      <td>Dairy</td>\n",
       "      <td>249.8092</td>\n",
       "      <td>OUT049</td>\n",
       "      <td>1999</td>\n",
       "      <td>Medium</td>\n",
       "      <td>Tier 1</td>\n",
       "      <td>Supermarket Type1</td>\n",
       "      <td>3735.1380</td>\n",
       "    </tr>\n",
       "    <tr>\n",
       "      <th>1</th>\n",
       "      <td>DRC01</td>\n",
       "      <td>5.92</td>\n",
       "      <td>Regular</td>\n",
       "      <td>0.019278</td>\n",
       "      <td>Soft Drinks</td>\n",
       "      <td>48.2692</td>\n",
       "      <td>OUT018</td>\n",
       "      <td>2009</td>\n",
       "      <td>Medium</td>\n",
       "      <td>Tier 3</td>\n",
       "      <td>Supermarket Type2</td>\n",
       "      <td>443.4228</td>\n",
       "    </tr>\n",
       "    <tr>\n",
       "      <th>2</th>\n",
       "      <td>FDN15</td>\n",
       "      <td>17.50</td>\n",
       "      <td>Low Fat</td>\n",
       "      <td>0.016760</td>\n",
       "      <td>Meat</td>\n",
       "      <td>141.6180</td>\n",
       "      <td>OUT049</td>\n",
       "      <td>1999</td>\n",
       "      <td>Medium</td>\n",
       "      <td>Tier 1</td>\n",
       "      <td>Supermarket Type1</td>\n",
       "      <td>2097.2700</td>\n",
       "    </tr>\n",
       "    <tr>\n",
       "      <th>3</th>\n",
       "      <td>FDX07</td>\n",
       "      <td>19.20</td>\n",
       "      <td>Regular</td>\n",
       "      <td>0.000000</td>\n",
       "      <td>Fruits and Vegetables</td>\n",
       "      <td>182.0950</td>\n",
       "      <td>OUT010</td>\n",
       "      <td>1998</td>\n",
       "      <td>NaN</td>\n",
       "      <td>Tier 3</td>\n",
       "      <td>Grocery Store</td>\n",
       "      <td>732.3800</td>\n",
       "    </tr>\n",
       "    <tr>\n",
       "      <th>4</th>\n",
       "      <td>NCD19</td>\n",
       "      <td>8.93</td>\n",
       "      <td>Low Fat</td>\n",
       "      <td>0.000000</td>\n",
       "      <td>Household</td>\n",
       "      <td>53.8614</td>\n",
       "      <td>OUT013</td>\n",
       "      <td>1987</td>\n",
       "      <td>High</td>\n",
       "      <td>Tier 3</td>\n",
       "      <td>Supermarket Type1</td>\n",
       "      <td>994.7052</td>\n",
       "    </tr>\n",
       "  </tbody>\n",
       "</table>\n",
       "</div>"
      ],
      "text/plain": [
       "  Item_Identifier  Item_Weight Item_Fat_Content  Item_Visibility  \\\n",
       "0           FDA15         9.30          Low Fat         0.016047   \n",
       "1           DRC01         5.92          Regular         0.019278   \n",
       "2           FDN15        17.50          Low Fat         0.016760   \n",
       "3           FDX07        19.20          Regular         0.000000   \n",
       "4           NCD19         8.93          Low Fat         0.000000   \n",
       "\n",
       "               Item_Type  Item_MRP Outlet_Identifier  \\\n",
       "0                  Dairy  249.8092            OUT049   \n",
       "1            Soft Drinks   48.2692            OUT018   \n",
       "2                   Meat  141.6180            OUT049   \n",
       "3  Fruits and Vegetables  182.0950            OUT010   \n",
       "4              Household   53.8614            OUT013   \n",
       "\n",
       "   Outlet_Establishment_Year Outlet_Size Outlet_Location_Type  \\\n",
       "0                       1999      Medium               Tier 1   \n",
       "1                       2009      Medium               Tier 3   \n",
       "2                       1999      Medium               Tier 1   \n",
       "3                       1998         NaN               Tier 3   \n",
       "4                       1987        High               Tier 3   \n",
       "\n",
       "         Outlet_Type  Item_Outlet_Sales  \n",
       "0  Supermarket Type1          3735.1380  \n",
       "1  Supermarket Type2           443.4228  \n",
       "2  Supermarket Type1          2097.2700  \n",
       "3      Grocery Store           732.3800  \n",
       "4  Supermarket Type1           994.7052  "
      ]
     },
     "execution_count": 2,
     "metadata": {},
     "output_type": "execute_result"
    }
   ],
   "source": [
    "url= \"https://raw.githubusercontent.com/nithinpradeep38/datasets/main/Train.csv\"\n",
    "data= pd.read_csv(url)\n",
    "data.head()"
   ]
  },
  {
   "cell_type": "code",
   "execution_count": 3,
   "metadata": {},
   "outputs": [
    {
     "data": {
      "text/plain": [
       "(8523, 12)"
      ]
     },
     "execution_count": 3,
     "metadata": {},
     "output_type": "execute_result"
    }
   ],
   "source": [
    "data.shape"
   ]
  },
  {
   "cell_type": "markdown",
   "metadata": {},
   "source": [
    "We have 12 variables. 11 independent variables and 1 dependent variable (Item Outlet sales)."
   ]
  },
  {
   "cell_type": "code",
   "execution_count": 4,
   "metadata": {},
   "outputs": [
    {
     "name": "stdout",
     "output_type": "stream",
     "text": [
      "Item_Identifier: object\n",
      "Item_Weight: float64\n",
      "Item_Fat_Content: object\n",
      "Item_Visibility: float64\n",
      "Item_Type: object\n",
      "Item_MRP: float64\n",
      "Outlet_Identifier: object\n",
      "Outlet_Establishment_Year: int64\n",
      "Outlet_Size: object\n",
      "Outlet_Location_Type: object\n",
      "Outlet_Type: object\n",
      "Item_Outlet_Sales: float64\n"
     ]
    }
   ],
   "source": [
    "for col in data.columns:\n",
    "    print(f\"{col}: {data[col].dtype}\")"
   ]
  },
  {
   "cell_type": "markdown",
   "metadata": {},
   "source": [
    "We have 11 independent variables out of which 4 are numerical columns and 7 are categorical columns. The output variable is a numerical column which makes this a **regression problem.**"
   ]
  },
  {
   "cell_type": "code",
   "execution_count": 5,
   "metadata": {},
   "outputs": [
    {
     "data": {
      "text/plain": [
       "['Item_Identifier',\n",
       " 'Item_Fat_Content',\n",
       " 'Item_Type',\n",
       " 'Outlet_Identifier',\n",
       " 'Outlet_Size',\n",
       " 'Outlet_Location_Type',\n",
       " 'Outlet_Type']"
      ]
     },
     "execution_count": 5,
     "metadata": {},
     "output_type": "execute_result"
    }
   ],
   "source": [
    "#Let us separate the categorial columns.\n",
    "cat_col= [col for col in data.columns if data[col].dtype== 'object']\n",
    "cat_col"
   ]
  },
  {
   "cell_type": "code",
   "execution_count": 6,
   "metadata": {},
   "outputs": [
    {
     "data": {
      "text/plain": [
       "['Item_Weight',\n",
       " 'Item_Visibility',\n",
       " 'Item_MRP',\n",
       " 'Outlet_Establishment_Year',\n",
       " 'Item_Outlet_Sales']"
      ]
     },
     "execution_count": 6,
     "metadata": {},
     "output_type": "execute_result"
    }
   ],
   "source": [
    "num_col= [col for col in data.columns if data[col].dtype!= 'object']\n",
    "num_col"
   ]
  },
  {
   "cell_type": "code",
   "execution_count": 7,
   "metadata": {},
   "outputs": [
    {
     "data": {
      "text/plain": [
       "['Item_Weight', 'Item_Visibility', 'Item_MRP', 'Outlet_Establishment_Year']"
      ]
     },
     "execution_count": 7,
     "metadata": {},
     "output_type": "execute_result"
    }
   ],
   "source": [
    "num_col.remove('Item_Outlet_Sales')\n",
    "num_col"
   ]
  },
  {
   "cell_type": "code",
   "execution_count": 8,
   "metadata": {},
   "outputs": [
    {
     "data": {
      "text/plain": [
       "Item_Identifier                 0\n",
       "Item_Weight                  1463\n",
       "Item_Fat_Content                0\n",
       "Item_Visibility                 0\n",
       "Item_Type                       0\n",
       "Item_MRP                        0\n",
       "Outlet_Identifier               0\n",
       "Outlet_Establishment_Year       0\n",
       "Outlet_Size                  2410\n",
       "Outlet_Location_Type            0\n",
       "Outlet_Type                     0\n",
       "Item_Outlet_Sales               0\n",
       "dtype: int64"
      ]
     },
     "execution_count": 8,
     "metadata": {},
     "output_type": "execute_result"
    }
   ],
   "source": [
    "data.isna().sum()"
   ]
  },
  {
   "cell_type": "markdown",
   "metadata": {},
   "source": [
    "We see 1463 values missing in Item_weight column and 2410 values missing in Outlet_size column."
   ]
  },
  {
   "cell_type": "markdown",
   "metadata": {},
   "source": [
    "#### Unique values for the categorical columns"
   ]
  },
  {
   "cell_type": "code",
   "execution_count": 9,
   "metadata": {},
   "outputs": [
    {
     "name": "stdout",
     "output_type": "stream",
     "text": [
      "Item_Identifier: 1559\n",
      "Item_Fat_Content: 5\n",
      "Item_Type: 16\n",
      "Outlet_Identifier: 10\n",
      "Outlet_Size: 3\n",
      "Outlet_Location_Type: 3\n",
      "Outlet_Type: 4\n"
     ]
    }
   ],
   "source": [
    "for col in cat_col:\n",
    "    print(f\"{col}: {data[col].nunique()}\")"
   ]
  },
  {
   "cell_type": "markdown",
   "metadata": {},
   "source": [
    "## Step 1- Checking distributions\n",
    "\n",
    "### Item Weight"
   ]
  },
  {
   "cell_type": "code",
   "execution_count": 10,
   "metadata": {},
   "outputs": [
    {
     "data": {
      "image/png": "[encoded data removed]",
      "text/plain": [
       "<Figure size 432x288 with 1 Axes>"
      ]
     },
     "metadata": {
      "needs_background": "light"
     },
     "output_type": "display_data"
    },
    {
     "data": {
      "text/plain": [
       "12.86"
      ]
     },
     "execution_count": 10,
     "metadata": {},
     "output_type": "execute_result"
    }
   ],
   "source": [
    "sns.histplot(data['Item_Weight'], kde= True, bins= 20)\n",
    "plt.show()\n",
    "np.round(data['Item_Weight'].mean(),2)"
   ]
  },
  {
   "cell_type": "markdown",
   "metadata": {},
   "source": [
    "The mean weight of items is 12.86 and the weights range between 5 to 20 kgs."
   ]
  },
  {
   "cell_type": "markdown",
   "metadata": {},
   "source": [
    "### Item visibility"
   ]
  },
  {
   "cell_type": "code",
   "execution_count": 11,
   "metadata": {},
   "outputs": [
    {
     "data": {
      "image/png": "[encoded data removed]",
      "text/plain": [
       "<Figure size 432x288 with 1 Axes>"
      ]
     },
     "metadata": {
      "needs_background": "light"
     },
     "output_type": "display_data"
    }
   ],
   "source": [
    "sns.histplot(data['Item_Visibility'], kde= True, bins= 20)\n",
    "plt.show()"
   ]
  },
  {
   "cell_type": "markdown",
   "metadata": {},
   "source": [
    "Most items have low visibility followed by outliers with high visibility. It is a positively skewed distribution.\n",
    "\n",
    "### Item MRP"
   ]
  },
  {
   "cell_type": "code",
   "execution_count": 12,
   "metadata": {},
   "outputs": [
    {
     "data": {
      "image/png": "[encoded data removed]",
      "text/plain": [
       "<Figure size 432x288 with 1 Axes>"
      ]
     },
     "metadata": {
      "needs_background": "light"
     },
     "output_type": "display_data"
    },
    {
     "name": "stdout",
     "output_type": "stream",
     "text": [
      "Range of MRP is (31.29, 266.8884)\n"
     ]
    }
   ],
   "source": [
    "sns.histplot(data['Item_MRP'], kde= True, bins= 20)\n",
    "plt.show()\n",
    "print(f\"Range of MRP is ({data['Item_MRP'].min()}, {data['Item_MRP'].max()})\")"
   ]
  },
  {
   "cell_type": "markdown",
   "metadata": {},
   "source": [
    "Prices are clustered at around 50, 100 and 175\n",
    "\n",
    "### Outlet establishment year\n"
   ]
  },
  {
   "cell_type": "code",
   "execution_count": 13,
   "metadata": {},
   "outputs": [
    {
     "data": {
      "image/png": "[encoded data removed]",
      "text/plain": [
       "<Figure size 432x288 with 1 Axes>"
      ]
     },
     "metadata": {
      "needs_background": "light"
     },
     "output_type": "display_data"
    }
   ],
   "source": [
    "sns.countplot(x= 'Outlet_Establishment_Year',data= data, palette= 'crest')\n",
    "plt.show()"
   ]
  },
  {
   "cell_type": "markdown",
   "metadata": {},
   "source": [
    "The most number of outlets were opened up in 1985 (~1400). In 1998 there was a big dip. The rest of the years had same or similar number of outlets established.\n",
    "\n",
    "### Item fat content"
   ]
  },
  {
   "cell_type": "code",
   "execution_count": 14,
   "metadata": {},
   "outputs": [
    {
     "data": {
      "image/png": "[encoded data removed]",
      "text/plain": [
       "<Figure size 432x288 with 1 Axes>"
      ]
     },
     "metadata": {
      "needs_background": "light"
     },
     "output_type": "display_data"
    }
   ],
   "source": [
    "sns.countplot(x='Item_Fat_Content', data= data , palette='crest')\n",
    "plt.show()"
   ]
  },
  {
   "cell_type": "markdown",
   "metadata": {},
   "source": [
    "Majority of the data points have either **Low fat** or **Regular** as the Item_fat_content. \n",
    "\n",
    "**low fat** and **LF** may just be **Low fat**. To reduce cardinality, we can map these to Low fat category.\n",
    "Similarly, **reg** can be renamed as **Regular**.\n",
    "\n",
    "### Item Type"
   ]
  },
  {
   "cell_type": "code",
   "execution_count": 15,
   "metadata": {},
   "outputs": [
    {
     "data": {
      "image/png": "[encoded data removed]",
      "text/plain": [
       "<Figure size 1800x432 with 1 Axes>"
      ]
     },
     "metadata": {
      "needs_background": "light"
     },
     "output_type": "display_data"
    }
   ],
   "source": [
    "plt.figure(figsize= (25,6))\n",
    "sns.countplot(x='Item_Type', data= data , palette='crest')\n",
    "plt.show()"
   ]
  },
  {
   "cell_type": "markdown",
   "metadata": {},
   "source": [
    "There are 16 levels for this variable and some of them like breakfast and seafood appear to be rare variables. This high cardinality can be an issue, especially in tree based algorithms. Rare labels in training set can cause overfitting. If such labels are only present in test set, the algorithm may not know what do with them. So we may have to group these labels."
   ]
  },
  {
   "cell_type": "markdown",
   "metadata": {},
   "source": [
    "### Outlet size"
   ]
  },
  {
   "cell_type": "code",
   "execution_count": 16,
   "metadata": {},
   "outputs": [
    {
     "data": {
      "image/png": "[encoded data removed]",
      "text/plain": [
       "<Figure size 432x288 with 1 Axes>"
      ]
     },
     "metadata": {
      "needs_background": "light"
     },
     "output_type": "display_data"
    }
   ],
   "source": [
    "sns.countplot(x='Outlet_Size', data=data)\n",
    "plt.show()"
   ]
  },
  {
   "cell_type": "markdown",
   "metadata": {},
   "source": [
    "### Outlet Location type"
   ]
  },
  {
   "cell_type": "code",
   "execution_count": 17,
   "metadata": {},
   "outputs": [
    {
     "data": {
      "image/png": "[encoded data removed]",
      "text/plain": [
       "<Figure size 432x288 with 1 Axes>"
      ]
     },
     "metadata": {
      "needs_background": "light"
     },
     "output_type": "display_data"
    }
   ],
   "source": [
    "sns.countplot(x='Outlet_Location_Type', data=data, palette= 'magma')\n",
    "plt.show()"
   ]
  },
  {
   "cell_type": "markdown",
   "metadata": {},
   "source": [
    "### Outlet Type"
   ]
  },
  {
   "cell_type": "code",
   "execution_count": 18,
   "metadata": {},
   "outputs": [
    {
     "data": {
      "image/png": "[encoded data removed]",
      "text/plain": [
       "<Figure size 864x360 with 1 Axes>"
      ]
     },
     "metadata": {
      "needs_background": "light"
     },
     "output_type": "display_data"
    }
   ],
   "source": [
    "plt.figure(figsize= (12,5))\n",
    "sns.countplot(x='Outlet_Type', data=data, palette= 'magma')\n",
    "plt.show()"
   ]
  },
  {
   "cell_type": "markdown",
   "metadata": {},
   "source": [
    "### Outlet Identifier"
   ]
  },
  {
   "cell_type": "code",
   "execution_count": 19,
   "metadata": {},
   "outputs": [
    {
     "data": {
      "image/png": "[encoded data removed]",
      "text/plain": [
       "<Figure size 864x360 with 1 Axes>"
      ]
     },
     "metadata": {
      "needs_background": "light"
     },
     "output_type": "display_data"
    }
   ],
   "source": [
    "plt.figure(figsize= (12,5))\n",
    "sns.countplot(x='Outlet_Identifier', data=data, palette= 'magma')\n",
    "plt.show()"
   ]
  },
  {
   "cell_type": "markdown",
   "metadata": {},
   "source": [
    "## Step2- Data Processing- Reducing cardinality\n",
    "\n",
    "\n",
    "Next, we need to plot the variables against the target variable. But before that, we need to treat variables with high cardinality.\n",
    "\n",
    "The item_identifier column has 1559 unique values. Such high cardinality is undesirable. So we will try to transform this column to have a lower cardinality. Let us first inspect this.\n",
    "\n",
    "\n",
    "There are\n",
    "\n",
    "#### Treating high cardinality and fixing duplicate labels\n",
    "\n",
    "#### 1. Item Identifier and Item Fat Content"
   ]
  },
  {
   "cell_type": "code",
   "execution_count": 20,
   "metadata": {},
   "outputs": [
    {
     "data": {
      "text/plain": [
       "array(['FDA15', 'DRC01', 'FDN15', ..., 'NCF55', 'NCW30', 'NCW05'],\n",
       "      dtype=object)"
      ]
     },
     "execution_count": 20,
     "metadata": {},
     "output_type": "execute_result"
    }
   ],
   "source": [
    "data['Item_Identifier'].unique()"
   ]
  },
  {
   "cell_type": "markdown",
   "metadata": {},
   "source": [
    "The first two digits maybe indicative of a sub-category. Let us inspect the same."
   ]
  },
  {
   "cell_type": "code",
   "execution_count": 21,
   "metadata": {},
   "outputs": [
    {
     "data": {
      "text/plain": [
       "{'DR', 'FD', 'NC'}"
      ]
     },
     "execution_count": 21,
     "metadata": {},
     "output_type": "execute_result"
    }
   ],
   "source": [
    "first_two= set(data['Item_Identifier'].str[:2])\n",
    "first_two"
   ]
  },
  {
   "cell_type": "markdown",
   "metadata": {},
   "source": [
    "The first two digits of item identifier are either of DR, FD or NC. Let us inspect the sub-set of data individually for these."
   ]
  },
  {
   "cell_type": "code",
   "execution_count": 22,
   "metadata": {},
   "outputs": [
    {
     "data": {
      "text/html": [
       "<div>\n",
       "<style scoped>\n",
       "    .dataframe tbody tr th:only-of-type {\n",
       "        vertical-align: middle;\n",
       "    }\n",
       "\n",
       "    .dataframe tbody tr th {\n",
       "        vertical-align: top;\n",
       "    }\n",
       "\n",
       "    .dataframe thead th {\n",
       "        text-align: right;\n",
       "    }\n",
       "</style>\n",
       "<table border=\"1\" class=\"dataframe\">\n",
       "  <thead>\n",
       "    <tr style=\"text-align: right;\">\n",
       "      <th></th>\n",
       "      <th>Item_Identifier</th>\n",
       "      <th>Item_Weight</th>\n",
       "      <th>Item_Fat_Content</th>\n",
       "      <th>Item_Visibility</th>\n",
       "      <th>Item_Type</th>\n",
       "      <th>Item_MRP</th>\n",
       "      <th>Outlet_Identifier</th>\n",
       "      <th>Outlet_Establishment_Year</th>\n",
       "      <th>Outlet_Size</th>\n",
       "      <th>Outlet_Location_Type</th>\n",
       "      <th>Outlet_Type</th>\n",
       "      <th>Item_Outlet_Sales</th>\n",
       "    </tr>\n",
       "  </thead>\n",
       "  <tbody>\n",
       "    <tr>\n",
       "      <th>1</th>\n",
       "      <td>DRC01</td>\n",
       "      <td>5.920</td>\n",
       "      <td>Regular</td>\n",
       "      <td>0.019278</td>\n",
       "      <td>Soft Drinks</td>\n",
       "      <td>48.2692</td>\n",
       "      <td>OUT018</td>\n",
       "      <td>2009</td>\n",
       "      <td>Medium</td>\n",
       "      <td>Tier 3</td>\n",
       "      <td>Supermarket Type2</td>\n",
       "      <td>443.4228</td>\n",
       "    </tr>\n",
       "    <tr>\n",
       "      <th>18</th>\n",
       "      <td>DRI11</td>\n",
       "      <td>NaN</td>\n",
       "      <td>Low Fat</td>\n",
       "      <td>0.034238</td>\n",
       "      <td>Hard Drinks</td>\n",
       "      <td>113.2834</td>\n",
       "      <td>OUT027</td>\n",
       "      <td>1985</td>\n",
       "      <td>Medium</td>\n",
       "      <td>Tier 3</td>\n",
       "      <td>Supermarket Type3</td>\n",
       "      <td>2303.6680</td>\n",
       "    </tr>\n",
       "    <tr>\n",
       "      <th>27</th>\n",
       "      <td>DRJ59</td>\n",
       "      <td>11.650</td>\n",
       "      <td>low fat</td>\n",
       "      <td>0.019356</td>\n",
       "      <td>Hard Drinks</td>\n",
       "      <td>39.1164</td>\n",
       "      <td>OUT013</td>\n",
       "      <td>1987</td>\n",
       "      <td>High</td>\n",
       "      <td>Tier 3</td>\n",
       "      <td>Supermarket Type1</td>\n",
       "      <td>308.9312</td>\n",
       "    </tr>\n",
       "    <tr>\n",
       "      <th>34</th>\n",
       "      <td>DRH01</td>\n",
       "      <td>17.500</td>\n",
       "      <td>Low Fat</td>\n",
       "      <td>0.097904</td>\n",
       "      <td>Soft Drinks</td>\n",
       "      <td>174.8738</td>\n",
       "      <td>OUT046</td>\n",
       "      <td>1997</td>\n",
       "      <td>Small</td>\n",
       "      <td>Tier 1</td>\n",
       "      <td>Supermarket Type1</td>\n",
       "      <td>2085.2856</td>\n",
       "    </tr>\n",
       "    <tr>\n",
       "      <th>37</th>\n",
       "      <td>DRZ11</td>\n",
       "      <td>8.850</td>\n",
       "      <td>Regular</td>\n",
       "      <td>0.113124</td>\n",
       "      <td>Soft Drinks</td>\n",
       "      <td>122.5388</td>\n",
       "      <td>OUT018</td>\n",
       "      <td>2009</td>\n",
       "      <td>Medium</td>\n",
       "      <td>Tier 3</td>\n",
       "      <td>Supermarket Type2</td>\n",
       "      <td>1609.9044</td>\n",
       "    </tr>\n",
       "    <tr>\n",
       "      <th>...</th>\n",
       "      <td>...</td>\n",
       "      <td>...</td>\n",
       "      <td>...</td>\n",
       "      <td>...</td>\n",
       "      <td>...</td>\n",
       "      <td>...</td>\n",
       "      <td>...</td>\n",
       "      <td>...</td>\n",
       "      <td>...</td>\n",
       "      <td>...</td>\n",
       "      <td>...</td>\n",
       "      <td>...</td>\n",
       "    </tr>\n",
       "    <tr>\n",
       "      <th>8484</th>\n",
       "      <td>DRJ49</td>\n",
       "      <td>6.865</td>\n",
       "      <td>Low Fat</td>\n",
       "      <td>0.000000</td>\n",
       "      <td>Soft Drinks</td>\n",
       "      <td>129.9652</td>\n",
       "      <td>OUT013</td>\n",
       "      <td>1987</td>\n",
       "      <td>High</td>\n",
       "      <td>Tier 3</td>\n",
       "      <td>Supermarket Type1</td>\n",
       "      <td>2324.9736</td>\n",
       "    </tr>\n",
       "    <tr>\n",
       "      <th>8485</th>\n",
       "      <td>DRK37</td>\n",
       "      <td>NaN</td>\n",
       "      <td>Low Fat</td>\n",
       "      <td>0.043792</td>\n",
       "      <td>Soft Drinks</td>\n",
       "      <td>189.0530</td>\n",
       "      <td>OUT027</td>\n",
       "      <td>1985</td>\n",
       "      <td>Medium</td>\n",
       "      <td>Tier 3</td>\n",
       "      <td>Supermarket Type3</td>\n",
       "      <td>6261.8490</td>\n",
       "    </tr>\n",
       "    <tr>\n",
       "      <th>8487</th>\n",
       "      <td>DRG13</td>\n",
       "      <td>NaN</td>\n",
       "      <td>Low Fat</td>\n",
       "      <td>0.037006</td>\n",
       "      <td>Soft Drinks</td>\n",
       "      <td>164.7526</td>\n",
       "      <td>OUT027</td>\n",
       "      <td>1985</td>\n",
       "      <td>Medium</td>\n",
       "      <td>Tier 3</td>\n",
       "      <td>Supermarket Type3</td>\n",
       "      <td>4111.3150</td>\n",
       "    </tr>\n",
       "    <tr>\n",
       "      <th>8506</th>\n",
       "      <td>DRF37</td>\n",
       "      <td>17.250</td>\n",
       "      <td>Low Fat</td>\n",
       "      <td>0.084676</td>\n",
       "      <td>Soft Drinks</td>\n",
       "      <td>263.1910</td>\n",
       "      <td>OUT018</td>\n",
       "      <td>2009</td>\n",
       "      <td>Medium</td>\n",
       "      <td>Tier 3</td>\n",
       "      <td>Supermarket Type2</td>\n",
       "      <td>3944.8650</td>\n",
       "    </tr>\n",
       "    <tr>\n",
       "      <th>8522</th>\n",
       "      <td>DRG01</td>\n",
       "      <td>14.800</td>\n",
       "      <td>Low Fat</td>\n",
       "      <td>0.044878</td>\n",
       "      <td>Soft Drinks</td>\n",
       "      <td>75.4670</td>\n",
       "      <td>OUT046</td>\n",
       "      <td>1997</td>\n",
       "      <td>Small</td>\n",
       "      <td>Tier 1</td>\n",
       "      <td>Supermarket Type1</td>\n",
       "      <td>765.6700</td>\n",
       "    </tr>\n",
       "  </tbody>\n",
       "</table>\n",
       "<p>799 rows × 12 columns</p>\n",
       "</div>"
      ],
      "text/plain": [
       "     Item_Identifier  Item_Weight Item_Fat_Content  Item_Visibility  \\\n",
       "1              DRC01        5.920          Regular         0.019278   \n",
       "18             DRI11          NaN          Low Fat         0.034238   \n",
       "27             DRJ59       11.650          low fat         0.019356   \n",
       "34             DRH01       17.500          Low Fat         0.097904   \n",
       "37             DRZ11        8.850          Regular         0.113124   \n",
       "...              ...          ...              ...              ...   \n",
       "8484           DRJ49        6.865          Low Fat         0.000000   \n",
       "8485           DRK37          NaN          Low Fat         0.043792   \n",
       "8487           DRG13          NaN          Low Fat         0.037006   \n",
       "8506           DRF37       17.250          Low Fat         0.084676   \n",
       "8522           DRG01       14.800          Low Fat         0.044878   \n",
       "\n",
       "        Item_Type  Item_MRP Outlet_Identifier  Outlet_Establishment_Year  \\\n",
       "1     Soft Drinks   48.2692            OUT018                       2009   \n",
       "18    Hard Drinks  113.2834            OUT027                       1985   \n",
       "27    Hard Drinks   39.1164            OUT013                       1987   \n",
       "34    Soft Drinks  174.8738            OUT046                       1997   \n",
       "37    Soft Drinks  122.5388            OUT018                       2009   \n",
       "...           ...       ...               ...                        ...   \n",
       "8484  Soft Drinks  129.9652            OUT013                       1987   \n",
       "8485  Soft Drinks  189.0530            OUT027                       1985   \n",
       "8487  Soft Drinks  164.7526            OUT027                       1985   \n",
       "8506  Soft Drinks  263.1910            OUT018                       2009   \n",
       "8522  Soft Drinks   75.4670            OUT046                       1997   \n",
       "\n",
       "     Outlet_Size Outlet_Location_Type        Outlet_Type  Item_Outlet_Sales  \n",
       "1         Medium               Tier 3  Supermarket Type2           443.4228  \n",
       "18        Medium               Tier 3  Supermarket Type3          2303.6680  \n",
       "27          High               Tier 3  Supermarket Type1           308.9312  \n",
       "34         Small               Tier 1  Supermarket Type1          2085.2856  \n",
       "37        Medium               Tier 3  Supermarket Type2          1609.9044  \n",
       "...          ...                  ...                ...                ...  \n",
       "8484        High               Tier 3  Supermarket Type1          2324.9736  \n",
       "8485      Medium               Tier 3  Supermarket Type3          6261.8490  \n",
       "8487      Medium               Tier 3  Supermarket Type3          4111.3150  \n",
       "8506      Medium               Tier 3  Supermarket Type2          3944.8650  \n",
       "8522       Small               Tier 1  Supermarket Type1           765.6700  \n",
       "\n",
       "[799 rows x 12 columns]"
      ]
     },
     "execution_count": 22,
     "metadata": {},
     "output_type": "execute_result"
    }
   ],
   "source": [
    "data[data['Item_Identifier'].str[:2]=='DR']"
   ]
  },
  {
   "cell_type": "code",
   "execution_count": 23,
   "metadata": {},
   "outputs": [
    {
     "data": {
      "text/html": [
       "<div>\n",
       "<style scoped>\n",
       "    .dataframe tbody tr th:only-of-type {\n",
       "        vertical-align: middle;\n",
       "    }\n",
       "\n",
       "    .dataframe tbody tr th {\n",
       "        vertical-align: top;\n",
       "    }\n",
       "\n",
       "    .dataframe thead th {\n",
       "        text-align: right;\n",
       "    }\n",
       "</style>\n",
       "<table border=\"1\" class=\"dataframe\">\n",
       "  <thead>\n",
       "    <tr style=\"text-align: right;\">\n",
       "      <th></th>\n",
       "      <th>Item_Identifier</th>\n",
       "      <th>Item_Weight</th>\n",
       "      <th>Item_Fat_Content</th>\n",
       "      <th>Item_Visibility</th>\n",
       "      <th>Item_Type</th>\n",
       "      <th>Item_MRP</th>\n",
       "      <th>Outlet_Identifier</th>\n",
       "      <th>Outlet_Establishment_Year</th>\n",
       "      <th>Outlet_Size</th>\n",
       "      <th>Outlet_Location_Type</th>\n",
       "      <th>Outlet_Type</th>\n",
       "      <th>Item_Outlet_Sales</th>\n",
       "    </tr>\n",
       "  </thead>\n",
       "  <tbody>\n",
       "    <tr>\n",
       "      <th>0</th>\n",
       "      <td>FDA15</td>\n",
       "      <td>9.300</td>\n",
       "      <td>Low Fat</td>\n",
       "      <td>0.016047</td>\n",
       "      <td>Dairy</td>\n",
       "      <td>249.8092</td>\n",
       "      <td>OUT049</td>\n",
       "      <td>1999</td>\n",
       "      <td>Medium</td>\n",
       "      <td>Tier 1</td>\n",
       "      <td>Supermarket Type1</td>\n",
       "      <td>3735.1380</td>\n",
       "    </tr>\n",
       "    <tr>\n",
       "      <th>2</th>\n",
       "      <td>FDN15</td>\n",
       "      <td>17.500</td>\n",
       "      <td>Low Fat</td>\n",
       "      <td>0.016760</td>\n",
       "      <td>Meat</td>\n",
       "      <td>141.6180</td>\n",
       "      <td>OUT049</td>\n",
       "      <td>1999</td>\n",
       "      <td>Medium</td>\n",
       "      <td>Tier 1</td>\n",
       "      <td>Supermarket Type1</td>\n",
       "      <td>2097.2700</td>\n",
       "    </tr>\n",
       "    <tr>\n",
       "      <th>3</th>\n",
       "      <td>FDX07</td>\n",
       "      <td>19.200</td>\n",
       "      <td>Regular</td>\n",
       "      <td>0.000000</td>\n",
       "      <td>Fruits and Vegetables</td>\n",
       "      <td>182.0950</td>\n",
       "      <td>OUT010</td>\n",
       "      <td>1998</td>\n",
       "      <td>NaN</td>\n",
       "      <td>Tier 3</td>\n",
       "      <td>Grocery Store</td>\n",
       "      <td>732.3800</td>\n",
       "    </tr>\n",
       "    <tr>\n",
       "      <th>5</th>\n",
       "      <td>FDP36</td>\n",
       "      <td>10.395</td>\n",
       "      <td>Regular</td>\n",
       "      <td>0.000000</td>\n",
       "      <td>Baking Goods</td>\n",
       "      <td>51.4008</td>\n",
       "      <td>OUT018</td>\n",
       "      <td>2009</td>\n",
       "      <td>Medium</td>\n",
       "      <td>Tier 3</td>\n",
       "      <td>Supermarket Type2</td>\n",
       "      <td>556.6088</td>\n",
       "    </tr>\n",
       "    <tr>\n",
       "      <th>6</th>\n",
       "      <td>FDO10</td>\n",
       "      <td>13.650</td>\n",
       "      <td>Regular</td>\n",
       "      <td>0.012741</td>\n",
       "      <td>Snack Foods</td>\n",
       "      <td>57.6588</td>\n",
       "      <td>OUT013</td>\n",
       "      <td>1987</td>\n",
       "      <td>High</td>\n",
       "      <td>Tier 3</td>\n",
       "      <td>Supermarket Type1</td>\n",
       "      <td>343.5528</td>\n",
       "    </tr>\n",
       "    <tr>\n",
       "      <th>...</th>\n",
       "      <td>...</td>\n",
       "      <td>...</td>\n",
       "      <td>...</td>\n",
       "      <td>...</td>\n",
       "      <td>...</td>\n",
       "      <td>...</td>\n",
       "      <td>...</td>\n",
       "      <td>...</td>\n",
       "      <td>...</td>\n",
       "      <td>...</td>\n",
       "      <td>...</td>\n",
       "      <td>...</td>\n",
       "    </tr>\n",
       "    <tr>\n",
       "      <th>8515</th>\n",
       "      <td>FDH24</td>\n",
       "      <td>20.700</td>\n",
       "      <td>Low Fat</td>\n",
       "      <td>0.021518</td>\n",
       "      <td>Baking Goods</td>\n",
       "      <td>157.5288</td>\n",
       "      <td>OUT018</td>\n",
       "      <td>2009</td>\n",
       "      <td>Medium</td>\n",
       "      <td>Tier 3</td>\n",
       "      <td>Supermarket Type2</td>\n",
       "      <td>1571.2880</td>\n",
       "    </tr>\n",
       "    <tr>\n",
       "      <th>8517</th>\n",
       "      <td>FDF53</td>\n",
       "      <td>20.750</td>\n",
       "      <td>reg</td>\n",
       "      <td>0.083607</td>\n",
       "      <td>Frozen Foods</td>\n",
       "      <td>178.8318</td>\n",
       "      <td>OUT046</td>\n",
       "      <td>1997</td>\n",
       "      <td>Small</td>\n",
       "      <td>Tier 1</td>\n",
       "      <td>Supermarket Type1</td>\n",
       "      <td>3608.6360</td>\n",
       "    </tr>\n",
       "    <tr>\n",
       "      <th>8518</th>\n",
       "      <td>FDF22</td>\n",
       "      <td>6.865</td>\n",
       "      <td>Low Fat</td>\n",
       "      <td>0.056783</td>\n",
       "      <td>Snack Foods</td>\n",
       "      <td>214.5218</td>\n",
       "      <td>OUT013</td>\n",
       "      <td>1987</td>\n",
       "      <td>High</td>\n",
       "      <td>Tier 3</td>\n",
       "      <td>Supermarket Type1</td>\n",
       "      <td>2778.3834</td>\n",
       "    </tr>\n",
       "    <tr>\n",
       "      <th>8519</th>\n",
       "      <td>FDS36</td>\n",
       "      <td>8.380</td>\n",
       "      <td>Regular</td>\n",
       "      <td>0.046982</td>\n",
       "      <td>Baking Goods</td>\n",
       "      <td>108.1570</td>\n",
       "      <td>OUT045</td>\n",
       "      <td>2002</td>\n",
       "      <td>NaN</td>\n",
       "      <td>Tier 2</td>\n",
       "      <td>Supermarket Type1</td>\n",
       "      <td>549.2850</td>\n",
       "    </tr>\n",
       "    <tr>\n",
       "      <th>8521</th>\n",
       "      <td>FDN46</td>\n",
       "      <td>7.210</td>\n",
       "      <td>Regular</td>\n",
       "      <td>0.145221</td>\n",
       "      <td>Snack Foods</td>\n",
       "      <td>103.1332</td>\n",
       "      <td>OUT018</td>\n",
       "      <td>2009</td>\n",
       "      <td>Medium</td>\n",
       "      <td>Tier 3</td>\n",
       "      <td>Supermarket Type2</td>\n",
       "      <td>1845.5976</td>\n",
       "    </tr>\n",
       "  </tbody>\n",
       "</table>\n",
       "<p>6125 rows × 12 columns</p>\n",
       "</div>"
      ],
      "text/plain": [
       "     Item_Identifier  Item_Weight Item_Fat_Content  Item_Visibility  \\\n",
       "0              FDA15        9.300          Low Fat         0.016047   \n",
       "2              FDN15       17.500          Low Fat         0.016760   \n",
       "3              FDX07       19.200          Regular         0.000000   \n",
       "5              FDP36       10.395          Regular         0.000000   \n",
       "6              FDO10       13.650          Regular         0.012741   \n",
       "...              ...          ...              ...              ...   \n",
       "8515           FDH24       20.700          Low Fat         0.021518   \n",
       "8517           FDF53       20.750              reg         0.083607   \n",
       "8518           FDF22        6.865          Low Fat         0.056783   \n",
       "8519           FDS36        8.380          Regular         0.046982   \n",
       "8521           FDN46        7.210          Regular         0.145221   \n",
       "\n",
       "                  Item_Type  Item_MRP Outlet_Identifier  \\\n",
       "0                     Dairy  249.8092            OUT049   \n",
       "2                      Meat  141.6180            OUT049   \n",
       "3     Fruits and Vegetables  182.0950            OUT010   \n",
       "5              Baking Goods   51.4008            OUT018   \n",
       "6               Snack Foods   57.6588            OUT013   \n",
       "...                     ...       ...               ...   \n",
       "8515           Baking Goods  157.5288            OUT018   \n",
       "8517           Frozen Foods  178.8318            OUT046   \n",
       "8518            Snack Foods  214.5218            OUT013   \n",
       "8519           Baking Goods  108.1570            OUT045   \n",
       "8521            Snack Foods  103.1332            OUT018   \n",
       "\n",
       "      Outlet_Establishment_Year Outlet_Size Outlet_Location_Type  \\\n",
       "0                          1999      Medium               Tier 1   \n",
       "2                          1999      Medium               Tier 1   \n",
       "3                          1998         NaN               Tier 3   \n",
       "5                          2009      Medium               Tier 3   \n",
       "6                          1987        High               Tier 3   \n",
       "...                         ...         ...                  ...   \n",
       "8515                       2009      Medium               Tier 3   \n",
       "8517                       1997       Small               Tier 1   \n",
       "8518                       1987        High               Tier 3   \n",
       "8519                       2002         NaN               Tier 2   \n",
       "8521                       2009      Medium               Tier 3   \n",
       "\n",
       "            Outlet_Type  Item_Outlet_Sales  \n",
       "0     Supermarket Type1          3735.1380  \n",
       "2     Supermarket Type1          2097.2700  \n",
       "3         Grocery Store           732.3800  \n",
       "5     Supermarket Type2           556.6088  \n",
       "6     Supermarket Type1           343.5528  \n",
       "...                 ...                ...  \n",
       "8515  Supermarket Type2          1571.2880  \n",
       "8517  Supermarket Type1          3608.6360  \n",
       "8518  Supermarket Type1          2778.3834  \n",
       "8519  Supermarket Type1           549.2850  \n",
       "8521  Supermarket Type2          1845.5976  \n",
       "\n",
       "[6125 rows x 12 columns]"
      ]
     },
     "execution_count": 23,
     "metadata": {},
     "output_type": "execute_result"
    }
   ],
   "source": [
    "data[data['Item_Identifier'].str[:2]=='FD']"
   ]
  },
  {
   "cell_type": "code",
   "execution_count": 24,
   "metadata": {},
   "outputs": [
    {
     "data": {
      "text/html": [
       "<div>\n",
       "<style scoped>\n",
       "    .dataframe tbody tr th:only-of-type {\n",
       "        vertical-align: middle;\n",
       "    }\n",
       "\n",
       "    .dataframe tbody tr th {\n",
       "        vertical-align: top;\n",
       "    }\n",
       "\n",
       "    .dataframe thead th {\n",
       "        text-align: right;\n",
       "    }\n",
       "</style>\n",
       "<table border=\"1\" class=\"dataframe\">\n",
       "  <thead>\n",
       "    <tr style=\"text-align: right;\">\n",
       "      <th></th>\n",
       "      <th>Item_Identifier</th>\n",
       "      <th>Item_Weight</th>\n",
       "      <th>Item_Fat_Content</th>\n",
       "      <th>Item_Visibility</th>\n",
       "      <th>Item_Type</th>\n",
       "      <th>Item_MRP</th>\n",
       "      <th>Outlet_Identifier</th>\n",
       "      <th>Outlet_Establishment_Year</th>\n",
       "      <th>Outlet_Size</th>\n",
       "      <th>Outlet_Location_Type</th>\n",
       "      <th>Outlet_Type</th>\n",
       "      <th>Item_Outlet_Sales</th>\n",
       "    </tr>\n",
       "  </thead>\n",
       "  <tbody>\n",
       "    <tr>\n",
       "      <th>4</th>\n",
       "      <td>NCD19</td>\n",
       "      <td>8.93</td>\n",
       "      <td>Low Fat</td>\n",
       "      <td>0.000000</td>\n",
       "      <td>Household</td>\n",
       "      <td>53.8614</td>\n",
       "      <td>OUT013</td>\n",
       "      <td>1987</td>\n",
       "      <td>High</td>\n",
       "      <td>Tier 3</td>\n",
       "      <td>Supermarket Type1</td>\n",
       "      <td>994.7052</td>\n",
       "    </tr>\n",
       "    <tr>\n",
       "      <th>16</th>\n",
       "      <td>NCB42</td>\n",
       "      <td>11.80</td>\n",
       "      <td>Low Fat</td>\n",
       "      <td>0.008596</td>\n",
       "      <td>Health and Hygiene</td>\n",
       "      <td>115.3492</td>\n",
       "      <td>OUT018</td>\n",
       "      <td>2009</td>\n",
       "      <td>Medium</td>\n",
       "      <td>Tier 3</td>\n",
       "      <td>Supermarket Type2</td>\n",
       "      <td>1621.8888</td>\n",
       "    </tr>\n",
       "    <tr>\n",
       "      <th>22</th>\n",
       "      <td>NCB30</td>\n",
       "      <td>14.60</td>\n",
       "      <td>Low Fat</td>\n",
       "      <td>0.025698</td>\n",
       "      <td>Household</td>\n",
       "      <td>196.5084</td>\n",
       "      <td>OUT035</td>\n",
       "      <td>2004</td>\n",
       "      <td>Small</td>\n",
       "      <td>Tier 2</td>\n",
       "      <td>Supermarket Type1</td>\n",
       "      <td>1587.2672</td>\n",
       "    </tr>\n",
       "    <tr>\n",
       "      <th>25</th>\n",
       "      <td>NCD06</td>\n",
       "      <td>13.00</td>\n",
       "      <td>Low Fat</td>\n",
       "      <td>0.099887</td>\n",
       "      <td>Household</td>\n",
       "      <td>45.9060</td>\n",
       "      <td>OUT017</td>\n",
       "      <td>2007</td>\n",
       "      <td>NaN</td>\n",
       "      <td>Tier 2</td>\n",
       "      <td>Supermarket Type1</td>\n",
       "      <td>838.9080</td>\n",
       "    </tr>\n",
       "    <tr>\n",
       "      <th>31</th>\n",
       "      <td>NCS17</td>\n",
       "      <td>18.60</td>\n",
       "      <td>Low Fat</td>\n",
       "      <td>0.080829</td>\n",
       "      <td>Health and Hygiene</td>\n",
       "      <td>96.4436</td>\n",
       "      <td>OUT018</td>\n",
       "      <td>2009</td>\n",
       "      <td>Medium</td>\n",
       "      <td>Tier 3</td>\n",
       "      <td>Supermarket Type2</td>\n",
       "      <td>2741.7644</td>\n",
       "    </tr>\n",
       "    <tr>\n",
       "      <th>...</th>\n",
       "      <td>...</td>\n",
       "      <td>...</td>\n",
       "      <td>...</td>\n",
       "      <td>...</td>\n",
       "      <td>...</td>\n",
       "      <td>...</td>\n",
       "      <td>...</td>\n",
       "      <td>...</td>\n",
       "      <td>...</td>\n",
       "      <td>...</td>\n",
       "      <td>...</td>\n",
       "      <td>...</td>\n",
       "    </tr>\n",
       "    <tr>\n",
       "      <th>8500</th>\n",
       "      <td>NCQ42</td>\n",
       "      <td>20.35</td>\n",
       "      <td>Low Fat</td>\n",
       "      <td>0.000000</td>\n",
       "      <td>Household</td>\n",
       "      <td>125.1678</td>\n",
       "      <td>OUT017</td>\n",
       "      <td>2007</td>\n",
       "      <td>NaN</td>\n",
       "      <td>Tier 2</td>\n",
       "      <td>Supermarket Type1</td>\n",
       "      <td>1907.5170</td>\n",
       "    </tr>\n",
       "    <tr>\n",
       "      <th>8502</th>\n",
       "      <td>NCH43</td>\n",
       "      <td>8.42</td>\n",
       "      <td>Low Fat</td>\n",
       "      <td>0.070712</td>\n",
       "      <td>Household</td>\n",
       "      <td>216.4192</td>\n",
       "      <td>OUT045</td>\n",
       "      <td>2002</td>\n",
       "      <td>NaN</td>\n",
       "      <td>Tier 2</td>\n",
       "      <td>Supermarket Type1</td>\n",
       "      <td>3020.0688</td>\n",
       "    </tr>\n",
       "    <tr>\n",
       "      <th>8504</th>\n",
       "      <td>NCN18</td>\n",
       "      <td>NaN</td>\n",
       "      <td>Low Fat</td>\n",
       "      <td>0.124111</td>\n",
       "      <td>Household</td>\n",
       "      <td>111.7544</td>\n",
       "      <td>OUT027</td>\n",
       "      <td>1985</td>\n",
       "      <td>Medium</td>\n",
       "      <td>Tier 3</td>\n",
       "      <td>Supermarket Type3</td>\n",
       "      <td>4138.6128</td>\n",
       "    </tr>\n",
       "    <tr>\n",
       "      <th>8516</th>\n",
       "      <td>NCJ19</td>\n",
       "      <td>18.60</td>\n",
       "      <td>Low Fat</td>\n",
       "      <td>0.118661</td>\n",
       "      <td>Others</td>\n",
       "      <td>58.7588</td>\n",
       "      <td>OUT018</td>\n",
       "      <td>2009</td>\n",
       "      <td>Medium</td>\n",
       "      <td>Tier 3</td>\n",
       "      <td>Supermarket Type2</td>\n",
       "      <td>858.8820</td>\n",
       "    </tr>\n",
       "    <tr>\n",
       "      <th>8520</th>\n",
       "      <td>NCJ29</td>\n",
       "      <td>10.60</td>\n",
       "      <td>Low Fat</td>\n",
       "      <td>0.035186</td>\n",
       "      <td>Health and Hygiene</td>\n",
       "      <td>85.1224</td>\n",
       "      <td>OUT035</td>\n",
       "      <td>2004</td>\n",
       "      <td>Small</td>\n",
       "      <td>Tier 2</td>\n",
       "      <td>Supermarket Type1</td>\n",
       "      <td>1193.1136</td>\n",
       "    </tr>\n",
       "  </tbody>\n",
       "</table>\n",
       "<p>1599 rows × 12 columns</p>\n",
       "</div>"
      ],
      "text/plain": [
       "     Item_Identifier  Item_Weight Item_Fat_Content  Item_Visibility  \\\n",
       "4              NCD19         8.93          Low Fat         0.000000   \n",
       "16             NCB42        11.80          Low Fat         0.008596   \n",
       "22             NCB30        14.60          Low Fat         0.025698   \n",
       "25             NCD06        13.00          Low Fat         0.099887   \n",
       "31             NCS17        18.60          Low Fat         0.080829   \n",
       "...              ...          ...              ...              ...   \n",
       "8500           NCQ42        20.35          Low Fat         0.000000   \n",
       "8502           NCH43         8.42          Low Fat         0.070712   \n",
       "8504           NCN18          NaN          Low Fat         0.124111   \n",
       "8516           NCJ19        18.60          Low Fat         0.118661   \n",
       "8520           NCJ29        10.60          Low Fat         0.035186   \n",
       "\n",
       "               Item_Type  Item_MRP Outlet_Identifier  \\\n",
       "4              Household   53.8614            OUT013   \n",
       "16    Health and Hygiene  115.3492            OUT018   \n",
       "22             Household  196.5084            OUT035   \n",
       "25             Household   45.9060            OUT017   \n",
       "31    Health and Hygiene   96.4436            OUT018   \n",
       "...                  ...       ...               ...   \n",
       "8500           Household  125.1678            OUT017   \n",
       "8502           Household  216.4192            OUT045   \n",
       "8504           Household  111.7544            OUT027   \n",
       "8516              Others   58.7588            OUT018   \n",
       "8520  Health and Hygiene   85.1224            OUT035   \n",
       "\n",
       "      Outlet_Establishment_Year Outlet_Size Outlet_Location_Type  \\\n",
       "4                          1987        High               Tier 3   \n",
       "16                         2009      Medium               Tier 3   \n",
       "22                         2004       Small               Tier 2   \n",
       "25                         2007         NaN               Tier 2   \n",
       "31                         2009      Medium               Tier 3   \n",
       "...                         ...         ...                  ...   \n",
       "8500                       2007         NaN               Tier 2   \n",
       "8502                       2002         NaN               Tier 2   \n",
       "8504                       1985      Medium               Tier 3   \n",
       "8516                       2009      Medium               Tier 3   \n",
       "8520                       2004       Small               Tier 2   \n",
       "\n",
       "            Outlet_Type  Item_Outlet_Sales  \n",
       "4     Supermarket Type1           994.7052  \n",
       "16    Supermarket Type2          1621.8888  \n",
       "22    Supermarket Type1          1587.2672  \n",
       "25    Supermarket Type1           838.9080  \n",
       "31    Supermarket Type2          2741.7644  \n",
       "...                 ...                ...  \n",
       "8500  Supermarket Type1          1907.5170  \n",
       "8502  Supermarket Type1          3020.0688  \n",
       "8504  Supermarket Type3          4138.6128  \n",
       "8516  Supermarket Type2           858.8820  \n",
       "8520  Supermarket Type1          1193.1136  \n",
       "\n",
       "[1599 rows x 12 columns]"
      ]
     },
     "execution_count": 24,
     "metadata": {},
     "output_type": "execute_result"
    }
   ],
   "source": [
    "data[data['Item_Identifier'].str[:2]=='NC']"
   ]
  },
  {
   "cell_type": "markdown",
   "metadata": {},
   "source": [
    "It is clear from the sub-sets of data that 'DR' represents items that are 'drinks', 'FD' represents items that are 'food' and 'NC' represents items that are 'non consumables'.\n",
    "\n",
    "So as a data pre-processing step, we can map this column to represent these three categories thereby reducing cardinality of this column."
   ]
  },
  {
   "cell_type": "code",
   "execution_count": 25,
   "metadata": {},
   "outputs": [],
   "source": [
    "data['Item_Identifier']= data['Item_Identifier'].apply(lambda x:x[0:2]).map({'FD': \"Food\", 'DR': 'Drinks', 'NC': 'Non Consumable'})\n",
    "data['Item_Fat_Content']= data['Item_Fat_Content'].map({'Low Fat': 'Low Fat', 'Regular': 'Regular', 'low fat': 'Low Fat', 'LF': 'Low Fat', 'reg': 'Regular'})"
   ]
  },
  {
   "cell_type": "code",
   "execution_count": 26,
   "metadata": {},
   "outputs": [
    {
     "data": {
      "image/png": "[encoded data removed]",
      "text/plain": [
       "<Figure size 432x288 with 1 Axes>"
      ]
     },
     "metadata": {
      "needs_background": "light"
     },
     "output_type": "display_data"
    }
   ],
   "source": [
    "sns.countplot(x='Item_Fat_Content', data= data , palette='crest')\n",
    "plt.show()\n"
   ]
  },
  {
   "cell_type": "code",
   "execution_count": 27,
   "metadata": {},
   "outputs": [
    {
     "data": {
      "image/png": "[encoded data removed]",
      "text/plain": [
       "<Figure size 432x288 with 1 Axes>"
      ]
     },
     "metadata": {
      "needs_background": "light"
     },
     "output_type": "display_data"
    }
   ],
   "source": [
    "sns.countplot(x='Item_Identifier', data= data , palette='crest')\n",
    "plt.show()"
   ]
  },
  {
   "cell_type": "code",
   "execution_count": 28,
   "metadata": {},
   "outputs": [
    {
     "data": {
      "text/plain": [
       "array(['Low Fat'], dtype=object)"
      ]
     },
     "execution_count": 28,
     "metadata": {},
     "output_type": "execute_result"
    }
   ],
   "source": [
    "data[data['Item_Identifier']=='Non Consumable']['Item_Fat_Content'].unique()"
   ]
  },
  {
   "cell_type": "markdown",
   "metadata": {},
   "source": [
    "It looks like the non consumables all have item fat content as Low fat. But it makes little sense to map the fat content of non consumables. Hence, this maybe labelled incorrectly as fat content of a non consumable cannot really influence the sales of that product. Let us map it to a new category named 'Not Applicable'."
   ]
  },
  {
   "cell_type": "code",
   "execution_count": 29,
   "metadata": {},
   "outputs": [
    {
     "name": "stderr",
     "output_type": "stream",
     "text": [
      "/opt/anaconda3/lib/python3.7/site-packages/pandas/core/indexing.py:670: SettingWithCopyWarning: \n",
      "A value is trying to be set on a copy of a slice from a DataFrame\n",
      "\n",
      "See the caveats in the documentation: https://pandas.pydata.org/pandas-docs/stable/user_guide/indexing.html#returning-a-view-versus-a-copy\n",
      "  self._setitem_with_indexer(indexer, value)\n"
     ]
    },
    {
     "data": {
      "image/png": "[encoded data removed]",
      "text/plain": [
       "<Figure size 432x288 with 1 Axes>"
      ]
     },
     "metadata": {
      "needs_background": "light"
     },
     "output_type": "display_data"
    }
   ],
   "source": [
    "data['Item_Fat_Content'].loc[data['Item_Identifier']== 'Non Consumable']= 'Not Applicable'\n",
    "sns.countplot(x='Item_Fat_Content', data= data , palette='crest')\n",
    "plt.show()\n"
   ]
  },
  {
   "cell_type": "markdown",
   "metadata": {},
   "source": [
    "#### 2. Item Type\n",
    "We have solved the cardinality issues in Item_Fat_Content and Item_Identifier columns. Now let us look at item type."
   ]
  },
  {
   "cell_type": "code",
   "execution_count": 30,
   "metadata": {},
   "outputs": [
    {
     "data": {
      "image/png": "[encoded data removed]",
      "text/plain": [
       "<Figure size 432x288 with 1 Axes>"
      ]
     },
     "metadata": {
      "needs_background": "light"
     },
     "output_type": "display_data"
    }
   ],
   "source": [
    "def rare_label_plot(data, col):\n",
    "    temp_df = pd.Series(data[col].value_counts() / len(data))\n",
    "\n",
    "    # Make plot with these percentages.\n",
    "    fig = temp_df.sort_values(ascending=False).plot.bar()\n",
    "    fig.set_xlabel(col)\n",
    "\n",
    "    # Add a line at 5 % to flag the threshold for rare categories.\n",
    "    fig.axhline(y=0.05, color='red')\n",
    "    fig.set_ylabel('Percentage of data')\n",
    "    plt.show()\n",
    "    \n",
    "rare_label_plot(data, 'Item_Type')"
   ]
  },
  {
   "cell_type": "markdown",
   "metadata": {},
   "source": [
    "Let us plot the mean of target variable across the different rare labels."
   ]
  },
  {
   "cell_type": "code",
   "execution_count": 31,
   "metadata": {},
   "outputs": [
    {
     "data": {
      "image/png": "[encoded data removed]",
      "text/plain": [
       "<Figure size 576x288 with 2 Axes>"
      ]
     },
     "metadata": {
      "needs_background": "light"
     },
     "output_type": "display_data"
    }
   ],
   "source": [
    "def plot_mean(data, col):\n",
    "    l= len(data)\n",
    "\n",
    "    temp_df= pd.Series(data[col].value_counts()/l).reset_index()\n",
    "    temp_df.columns= [col, '% of data']\n",
    "    temp_df= temp_df.merge(data.groupby([col])['Item_Outlet_Sales'].mean().reset_index(), on=col, how= 'left')\n",
    "\n",
    "\n",
    "    fig, ax= plt.subplots(figsize= (8,4))\n",
    "    plt.xticks(temp_df.index, temp_df[col], rotation= 90)\n",
    "    ax2= ax.twinx()\n",
    "    ax.bar(temp_df.index, temp_df['% of data'], color= 'lightgrey')\n",
    "    ax2.plot(temp_df.index, temp_df['Item_Outlet_Sales'],color= 'blue')\n",
    "    ax.axhline(y=0.05, color= 'red')\n",
    "    ax.set_ylabel('% of data')\n",
    "    ax2.set_ylabel('Average Sales')\n",
    "    plt.show()\n",
    "    \n",
    "plot_mean(data, 'Item_Type')\n"
   ]
  },
  {
   "cell_type": "markdown",
   "metadata": {},
   "source": [
    "For the labels that are in more than 5% of the dataset, we do see a negative trend of sales price. So these labels maybe meaningful.\n",
    "\n",
    "There is a lot of variance across the rare labels. Let us plot the box plots for these variables."
   ]
  },
  {
   "cell_type": "code",
   "execution_count": 32,
   "metadata": {},
   "outputs": [
    {
     "data": {
      "text/plain": [
       "<matplotlib.axes._subplots.AxesSubplot at 0x7f8fe2f82f10>"
      ]
     },
     "execution_count": 32,
     "metadata": {},
     "output_type": "execute_result"
    },
    {
     "data": {
      "image/png": "[encoded data removed]",
      "text/plain": [
       "<Figure size 864x360 with 1 Axes>"
      ]
     },
     "metadata": {
      "needs_background": "light"
     },
     "output_type": "display_data"
    }
   ],
   "source": [
    "temp_df= pd.Series(data['Item_Type'].value_counts()/len(data)).reset_index()\n",
    "temp_df.columns= ['Item_Type', '% of data']\n",
    "rare_labels= list(temp_df[temp_df['% of data']< 0.05]['Item_Type'])\n",
    "\n",
    "plt.figure(figsize= (12,5))\n",
    "sns.boxplot(x= 'Item_Type', y= 'Item_Outlet_Sales', data= data[data['Item_Type'].isin(rare_labels)])\n"
   ]
  },
  {
   "cell_type": "code",
   "execution_count": 33,
   "metadata": {},
   "outputs": [
    {
     "data": {
      "text/plain": [
       "['Meat',\n",
       " 'Breads',\n",
       " 'Hard Drinks',\n",
       " 'Others',\n",
       " 'Starchy Foods',\n",
       " 'Breakfast',\n",
       " 'Seafood']"
      ]
     },
     "execution_count": 33,
     "metadata": {},
     "output_type": "execute_result"
    }
   ],
   "source": [
    "rare_labels"
   ]
  },
  {
   "cell_type": "markdown",
   "metadata": {},
   "source": [
    "Let us see if there is any meaningful difference in distribution of these rare labels by doing one way F-test."
   ]
  },
  {
   "cell_type": "code",
   "execution_count": 34,
   "metadata": {},
   "outputs": [
    {
     "data": {
      "text/plain": [
       "0.3573271647648517"
      ]
     },
     "execution_count": 34,
     "metadata": {},
     "output_type": "execute_result"
    }
   ],
   "source": [
    "fvalue, pvalue = stats.f_oneway(data[data['Item_Type']== 'Meat']['Item_Outlet_Sales'],\n",
    "                                data[data['Item_Type']== 'Breads']['Item_Outlet_Sales'],\n",
    "                                data[data['Item_Type']== 'Hard Drinks']['Item_Outlet_Sales'],\n",
    "                                data[data['Item_Type']== 'Seafood']['Item_Outlet_Sales'],\n",
    "                                data[data['Item_Type']== 'Starchy Foods']['Item_Outlet_Sales'],\n",
    "                                data[data['Item_Type']== 'Breakfast']['Item_Outlet_Sales'],\n",
    "                                data[data['Item_Type']== 'Others']['Item_Outlet_Sales']\n",
    "                               )\n",
    "\n",
    "\n",
    "\n",
    "pvalue"
   ]
  },
  {
   "cell_type": "markdown",
   "metadata": {},
   "source": [
    "We can combine the rare labels into one category and plot the mean again."
   ]
  },
  {
   "cell_type": "code",
   "execution_count": 35,
   "metadata": {},
   "outputs": [
    {
     "data": {
      "text/plain": [
       "{'Dairy': 'Dairy',\n",
       " 'Soft Drinks': 'Soft Drinks',\n",
       " 'Meat': 'rare',\n",
       " 'Fruits and Vegetables': 'Fruits and Vegetables',\n",
       " 'Household': 'Household',\n",
       " 'Baking Goods': 'Baking Goods',\n",
       " 'Snack Foods': 'Snack Foods',\n",
       " 'Frozen Foods': 'Frozen Foods',\n",
       " 'Breakfast': 'rare',\n",
       " 'Health and Hygiene': 'Health and Hygiene',\n",
       " 'Hard Drinks': 'rare',\n",
       " 'Canned': 'Canned',\n",
       " 'Breads': 'rare',\n",
       " 'Starchy Foods': 'rare',\n",
       " 'Others': 'rare',\n",
       " 'Seafood': 'rare'}"
      ]
     },
     "execution_count": 35,
     "metadata": {},
     "output_type": "execute_result"
    }
   ],
   "source": [
    "grouping_dict = {\n",
    "        k: ('rare' if k in rare_labels else k)\n",
    "        for k in data['Item_Type'].unique()\n",
    "        \n",
    "    }\n",
    "grouping_dict"
   ]
  },
  {
   "cell_type": "code",
   "execution_count": 36,
   "metadata": {},
   "outputs": [
    {
     "data": {
      "text/plain": [
       "array(['Dairy', 'Soft Drinks', 'rare', 'Fruits and Vegetables',\n",
       "       'Household', 'Baking Goods', 'Snack Foods', 'Frozen Foods',\n",
       "       'Health and Hygiene', 'Canned'], dtype=object)"
      ]
     },
     "execution_count": 36,
     "metadata": {},
     "output_type": "execute_result"
    }
   ],
   "source": [
    "data['Item_Type']= data['Item_Type'].map(grouping_dict)\n",
    "data['Item_Type'].unique()"
   ]
  },
  {
   "cell_type": "markdown",
   "metadata": {},
   "source": [
    "With this, we have treated the cardinality and fixed some duplicates in Item_Fat_Content, Item_Identifier and Item_Type. Let us look at the unique values in each column now.\n",
    "\n",
    "In the below graph, the rare label represents combined effect of all rare labels."
   ]
  },
  {
   "cell_type": "code",
   "execution_count": 37,
   "metadata": {},
   "outputs": [
    {
     "data": {
      "image/png": "[encoded data removed]",
      "text/plain": [
       "<Figure size 576x288 with 2 Axes>"
      ]
     },
     "metadata": {
      "needs_background": "light"
     },
     "output_type": "display_data"
    }
   ],
   "source": [
    "plot_mean(data, 'Item_Type')"
   ]
  },
  {
   "cell_type": "markdown",
   "metadata": {},
   "source": [
    "#### 3. Outlet Identifier\n",
    "\n",
    "There is a big no. of labels. Let us plot the output variable against each level."
   ]
  },
  {
   "cell_type": "code",
   "execution_count": 38,
   "metadata": {},
   "outputs": [
    {
     "data": {
      "image/png": "[encoded data removed]",
      "text/plain": [
       "<Figure size 432x288 with 1 Axes>"
      ]
     },
     "metadata": {
      "needs_background": "light"
     },
     "output_type": "display_data"
    }
   ],
   "source": [
    "sns.barplot(y = 'Outlet_Identifier',x = 'Item_Outlet_Sales',data=data,palette='pastel')\n",
    "plt.show()"
   ]
  },
  {
   "cell_type": "markdown",
   "metadata": {},
   "source": [
    "Let us dig deep into outlet identifier.\n",
    "\n",
    "Some of the labels can be clubbed together as they have same distribution across the target variable. Let us confirm the hypothesis through one-way ANOVA"
   ]
  },
  {
   "cell_type": "code",
   "execution_count": 39,
   "metadata": {},
   "outputs": [
    {
     "data": {
      "text/plain": [
       "<matplotlib.axes._subplots.AxesSubplot at 0x7f8fe1cfc350>"
      ]
     },
     "execution_count": 39,
     "metadata": {},
     "output_type": "execute_result"
    },
    {
     "data": {
      "image/png": "[encoded data removed]",
      "text/plain": [
       "<Figure size 2016x864 with 1 Axes>"
      ]
     },
     "metadata": {
      "needs_background": "light"
     },
     "output_type": "display_data"
    }
   ],
   "source": [
    "plt.figure(figsize= (28,12))\n",
    "sns.violinplot(x= 'Outlet_Identifier', y= 'Item_Outlet_Sales', width= 1.5, data= data, palette= 'mako')"
   ]
  },
  {
   "cell_type": "code",
   "execution_count": 40,
   "metadata": {},
   "outputs": [
    {
     "name": "stdout",
     "output_type": "stream",
     "text": [
      "p-value of OUT049 and OUT018 is 1.6237610660043112e-07\n",
      "p-value of OUT049 and OUT010 is 6.83969470305172e-163\n",
      "p-value of OUT049 and OUT013 is 0.4846168437306292\n",
      "p-value of OUT049 and OUT027 is 1.877987516159982e-52\n",
      "p-value of OUT049 and OUT045 is 0.023963611637588412\n",
      "p-value of OUT049 and OUT017 is 0.9140329144118972\n",
      "p-value of OUT049 and OUT046 is 0.3111714413542868\n",
      "p-value of OUT049 and OUT035 is 0.20115834440551564\n",
      "p-value of OUT049 and OUT019 is 2.1272163678298524e-156\n",
      "p-value of OUT018 and OUT010 is 4.800336496067525e-139\n",
      "p-value of OUT018 and OUT013 is 7.500690453772567e-06\n",
      "p-value of OUT018 and OUT027 is 5.856140005447328e-84\n",
      "p-value of OUT018 and OUT045 is 0.002846968971197406\n",
      "p-value of OUT018 and OUT017 is 4.385309432249914e-07\n",
      "p-value of OUT018 and OUT046 is 2.28906391365231e-05\n",
      "p-value of OUT018 and OUT035 is 7.603052607618273e-11\n",
      "p-value of OUT018 and OUT019 is 1.8122293078826514e-133\n",
      "p-value of OUT010 and OUT013 is 1.4901491481022403e-153\n",
      "p-value of OUT010 and OUT027 is 1.0612404461047537e-212\n",
      "p-value of OUT010 and OUT045 is 3.090187285981977e-151\n",
      "p-value of OUT010 and OUT017 is 7.337306092550068e-156\n",
      "p-value of OUT010 and OUT046 is 5.091465461469597e-158\n",
      "p-value of OUT010 and OUT035 is 4.641925915528741e-170\n",
      "p-value of OUT010 and OUT019 is 0.9508542567870439\n",
      "p-value of OUT013 and OUT027 is 1.2887127341694215e-55\n",
      "p-value of OUT013 and OUT045 is 0.1250467374067157\n",
      "p-value of OUT013 and OUT017 is 0.5603047274948645\n",
      "p-value of OUT013 and OUT046 is 0.7627004108854278\n",
      "p-value of OUT013 and OUT035 is 0.04964063121374703\n",
      "p-value of OUT013 and OUT019 is 2.2308558268749225e-147\n",
      "p-value of OUT027 and OUT045 is 3.2136308184584563e-65\n",
      "p-value of OUT027 and OUT017 is 4.615024863077386e-52\n",
      "p-value of OUT027 and OUT046 is 4.079105274943478e-58\n",
      "p-value of OUT027 and OUT035 is 9.584840810619057e-46\n",
      "p-value of OUT027 and OUT019 is 2.6540796517142216e-204\n",
      "p-value of OUT045 and OUT017 is 0.03423853360683062\n",
      "p-value of OUT045 and OUT046 is 0.21195090392666405\n",
      "p-value of OUT045 and OUT035 is 0.0004102481492711682\n",
      "p-value of OUT045 and OUT019 is 3.52765793332898e-145\n",
      "p-value of OUT017 and OUT046 is 0.3733142849951262\n",
      "p-value of OUT017 and OUT035 is 0.17117512238934093\n",
      "p-value of OUT017 and OUT019 is 1.3386496803993855e-149\n",
      "p-value of OUT046 and OUT035 is 0.021925255810695328\n",
      "p-value of OUT046 and OUT019 is 1.0396864694728945e-151\n",
      "p-value of OUT035 and OUT019 is 2.6341693246387006e-163\n"
     ]
    }
   ],
   "source": [
    "identifier= data['Outlet_Identifier'].unique()\n",
    "combo= list(itertools.combinations(identifier, 2))\n",
    "for i in combo:\n",
    "    fvalue, pvalue = stats.f_oneway(data[data['Outlet_Identifier']== i[0]]['Item_Outlet_Sales'],data[data['Outlet_Identifier']== i[1]]['Item_Outlet_Sales'])\n",
    "    print(f\"p-value of {i[0]} and {i[1]} is {pvalue}\")"
   ]
  },
  {
   "cell_type": "code",
   "execution_count": 41,
   "metadata": {},
   "outputs": [
    {
     "data": {
      "text/plain": [
       "0.7138206624905409"
      ]
     },
     "execution_count": 41,
     "metadata": {},
     "output_type": "execute_result"
    }
   ],
   "source": [
    "fvalue, pvalue = stats.f_oneway(data[data['Outlet_Identifier']== 'OUT017']['Item_Outlet_Sales'],\n",
    "                                data[data['Outlet_Identifier']== 'OUT049']['Item_Outlet_Sales'],\n",
    "                                data[data['Outlet_Identifier']== 'OUT013']['Item_Outlet_Sales'],\n",
    "                                data[data['Outlet_Identifier']== 'OUT046']['Item_Outlet_Sales'],\n",
    "                                \n",
    "                               )\n",
    "\n",
    "\n",
    "\n",
    "pvalue"
   ]
  },
  {
   "cell_type": "code",
   "execution_count": 42,
   "metadata": {},
   "outputs": [
    {
     "data": {
      "text/plain": [
       "0.9508542567870439"
      ]
     },
     "execution_count": 42,
     "metadata": {},
     "output_type": "execute_result"
    }
   ],
   "source": [
    "fvalue, pvalue = stats.f_oneway(data[data['Outlet_Identifier']== 'OUT010']['Item_Outlet_Sales'],\n",
    "                                data[data['Outlet_Identifier']== 'OUT019']['Item_Outlet_Sales'],\n",
    "                               \n",
    "            \n",
    "                               )\n",
    "\n",
    "pvalue"
   ]
  },
  {
   "cell_type": "markdown",
   "metadata": {},
   "source": [
    "This confirms that there is no statistically significant difference in the target variable distribution between OUT017, OUT049, OUT013, OUT046 identifiers. So they can be combined to one label.\n",
    "\n",
    "Similarly, OUT010 and OUT019 can be combined to one label."
   ]
  },
  {
   "cell_type": "code",
   "execution_count": 43,
   "metadata": {},
   "outputs": [
    {
     "data": {
      "text/plain": [
       "{'OUT049': 'Cluster0',\n",
       " 'OUT018': 'OUT018',\n",
       " 'OUT010': 'Cluster1',\n",
       " 'OUT013': 'Cluster0',\n",
       " 'OUT027': 'OUT027',\n",
       " 'OUT045': 'OUT045',\n",
       " 'OUT017': 'Cluster0',\n",
       " 'OUT046': 'Cluster0',\n",
       " 'OUT035': 'OUT035',\n",
       " 'OUT019': 'Cluster1'}"
      ]
     },
     "execution_count": 43,
     "metadata": {},
     "output_type": "execute_result"
    }
   ],
   "source": [
    "#creating a grouping dictionary for mapping\n",
    "\n",
    "grouping_dict = {\n",
    "        k: ('Cluster0' if k in ['OUT017', 'OUT049', 'OUT013', 'OUT046']\n",
    "            else k)\n",
    "        for k in data['Outlet_Identifier'].unique()\n",
    "        \n",
    "    }\n",
    "grouping_dict['OUT010']= 'Cluster1'\n",
    "grouping_dict['OUT019']= 'Cluster1'\n",
    "grouping_dict"
   ]
  },
  {
   "cell_type": "code",
   "execution_count": 44,
   "metadata": {},
   "outputs": [
    {
     "data": {
      "text/plain": [
       "array(['Cluster0', 'OUT018', 'Cluster1', 'OUT027', 'OUT045', 'OUT035'],\n",
       "      dtype=object)"
      ]
     },
     "execution_count": 44,
     "metadata": {},
     "output_type": "execute_result"
    }
   ],
   "source": [
    "data['Outlet_Identifier']= data['Outlet_Identifier'].map(grouping_dict)\n",
    "data['Outlet_Identifier'].unique()"
   ]
  },
  {
   "cell_type": "code",
   "execution_count": 45,
   "metadata": {},
   "outputs": [
    {
     "data": {
      "image/png": "[encoded data removed]",
      "text/plain": [
       "<Figure size 576x288 with 2 Axes>"
      ]
     },
     "metadata": {
      "needs_background": "light"
     },
     "output_type": "display_data"
    }
   ],
   "source": [
    "plot_mean(data, 'Outlet_Identifier')"
   ]
  },
  {
   "cell_type": "markdown",
   "metadata": {},
   "source": [
    "## Step 3 - Feature Engineering\n",
    "\n",
    "We can convert the establishment year to age since it will have a more linear relationship."
   ]
  },
  {
   "cell_type": "code",
   "execution_count": 46,
   "metadata": {},
   "outputs": [],
   "source": [
    "data['Outlet_Establishment_Year']= 2022-data['Outlet_Establishment_Year']"
   ]
  },
  {
   "cell_type": "markdown",
   "metadata": {},
   "source": [
    "## Step 4- Imputation of missing values"
   ]
  },
  {
   "cell_type": "code",
   "execution_count": 47,
   "metadata": {},
   "outputs": [
    {
     "data": {
      "text/plain": [
       "Item_Identifier              0.000000\n",
       "Item_Weight                  0.171653\n",
       "Item_Fat_Content             0.000000\n",
       "Item_Visibility              0.000000\n",
       "Item_Type                    0.000000\n",
       "Item_MRP                     0.000000\n",
       "Outlet_Identifier            0.000000\n",
       "Outlet_Establishment_Year    0.000000\n",
       "Outlet_Size                  0.282764\n",
       "Outlet_Location_Type         0.000000\n",
       "Outlet_Type                  0.000000\n",
       "Item_Outlet_Sales            0.000000\n",
       "dtype: float64"
      ]
     },
     "execution_count": 47,
     "metadata": {},
     "output_type": "execute_result"
    }
   ],
   "source": [
    "data.isna().mean()"
   ]
  },
  {
   "cell_type": "markdown",
   "metadata": {},
   "source": [
    "**Outlet size** has a significant portion of missing data. Let us fill an arbitrary value and see the distribution of outcome variable over this feature.\n",
    "\n",
    "Since there is a significant number of missing values, imputing them with mode may distort the underlying distribution."
   ]
  },
  {
   "cell_type": "code",
   "execution_count": 48,
   "metadata": {},
   "outputs": [
    {
     "data": {
      "image/png": "[encoded data removed]",
      "text/plain": [
       "<Figure size 432x288 with 1 Axes>"
      ]
     },
     "metadata": {
      "needs_background": "light"
     },
     "output_type": "display_data"
    }
   ],
   "source": [
    "data['Outlet_Size'].fillna('Missing', inplace= True)\n",
    "sns.countplot(x='Outlet_Size', data= data , palette='crest')\n",
    "plt.show()\n"
   ]
  },
  {
   "cell_type": "markdown",
   "metadata": {},
   "source": [
    "Now let us plot the distribution of output variable against different levels of Outlet_Size"
   ]
  },
  {
   "cell_type": "code",
   "execution_count": 49,
   "metadata": {},
   "outputs": [
    {
     "data": {
      "text/plain": [
       "<matplotlib.legend.Legend at 0x7f8fe2151550>"
      ]
     },
     "execution_count": 49,
     "metadata": {},
     "output_type": "execute_result"
    },
    {
     "data": {
      "image/png": "[encoded data removed]",
      "text/plain": [
       "<Figure size 432x288 with 1 Axes>"
      ]
     },
     "metadata": {
      "needs_background": "light"
     },
     "output_type": "display_data"
    }
   ],
   "source": [
    "fig = plt.figure()\n",
    "ax = fig.add_subplot(111)\n",
    "\n",
    "data[data['Outlet_Size']== 'Medium']['Item_Outlet_Sales'].plot(kind= 'kde', ax=ax)\n",
    "data[data['Outlet_Size']== 'Small']['Item_Outlet_Sales'].plot(kind= 'kde', ax=ax)\n",
    "data[data['Outlet_Size']== 'High']['Item_Outlet_Sales'].plot(kind= 'kde', ax=ax)\n",
    "data[data['Outlet_Size']== 'Missing']['Item_Outlet_Sales'].plot(kind= 'kde', ax=ax)\n",
    "\n",
    "lines, labels = ax.get_legend_handles_labels()\n",
    "labels= ['Medium', 'High', 'Small', 'Missing']\n",
    "ax.legend(lines, labels, loc='best')"
   ]
  },
  {
   "cell_type": "markdown",
   "metadata": {},
   "source": [
    "The distribution of missing label looks very similar to small. \n",
    "\n",
    "Maybe the small outlets do not maintain this information in the transaction level data."
   ]
  },
  {
   "cell_type": "code",
   "execution_count": 50,
   "metadata": {},
   "outputs": [
    {
     "data": {
      "text/plain": [
       "0.048361369714643075"
      ]
     },
     "execution_count": 50,
     "metadata": {},
     "output_type": "execute_result"
    }
   ],
   "source": [
    "fvalue, pvalue = stats.f_oneway(data[data['Outlet_Size']== 'Small']['Item_Outlet_Sales'],\n",
    "                                data[data['Outlet_Size']== 'Missing']['Item_Outlet_Sales']\n",
    "                                \n",
    "                               )\n",
    "\n",
    "pvalue"
   ]
  },
  {
   "cell_type": "markdown",
   "metadata": {},
   "source": [
    "There maybe a statistically significant difference between the distribution within the small and missing labels as suggested by the p-value. So let us retain the missing value indicator."
   ]
  },
  {
   "cell_type": "code",
   "execution_count": 51,
   "metadata": {},
   "outputs": [
    {
     "data": {
      "image/png": "[encoded data removed]",
      "text/plain": [
       "<Figure size 432x288 with 1 Axes>"
      ]
     },
     "metadata": {
      "needs_background": "light"
     },
     "output_type": "display_data"
    }
   ],
   "source": [
    "fig = plt.figure()\n",
    "ax = fig.add_subplot(111)\n",
    "data[data['Item_Weight'].isna()]['Item_Outlet_Sales'].plot(kind= 'kde', ax=ax)\n",
    "data[~data['Item_Weight'].isna()]['Item_Outlet_Sales'].plot(kind= 'kde', ax=ax)\n",
    "lines, labels = ax.get_legend_handles_labels()\n",
    "labels= ['Missing', 'Not missing']\n",
    "ax.legend(lines, labels, loc='best')\n",
    "plt.show()"
   ]
  },
  {
   "cell_type": "markdown",
   "metadata": {},
   "source": [
    "There is a significant portion of data that is missing (~19%). For such thresholds, imputing with median/mean may distort the variance and covariance with other variables of the dataset.\n",
    "\n",
    "Let us use KNN imputer. For that, we first need to standardize the dataset, since KNN is a distance based method.\n",
    "We cannot use min max scaler as there are big outliers in the dataset. Let us use standard scaler."
   ]
  },
  {
   "cell_type": "code",
   "execution_count": 52,
   "metadata": {},
   "outputs": [],
   "source": [
    "imputer = KNNImputer(\n",
    "    n_neighbors=5,\n",
    "    weights='distance', \n",
    "    metric='nan_euclidean',\n",
    "    add_indicator=False,\n",
    ")"
   ]
  },
  {
   "cell_type": "code",
   "execution_count": 53,
   "metadata": {},
   "outputs": [],
   "source": [
    "scaler= StandardScaler()\n",
    "data[num_col]= scaler.fit_transform(data[num_col])\n",
    "\n",
    "\n",
    "data['Item_Weight']= imputer.fit_transform(data[num_col])"
   ]
  },
  {
   "cell_type": "code",
   "execution_count": 54,
   "metadata": {},
   "outputs": [
    {
     "data": {
      "text/html": [
       "<div>\n",
       "<style scoped>\n",
       "    .dataframe tbody tr th:only-of-type {\n",
       "        vertical-align: middle;\n",
       "    }\n",
       "\n",
       "    .dataframe tbody tr th {\n",
       "        vertical-align: top;\n",
       "    }\n",
       "\n",
       "    .dataframe thead th {\n",
       "        text-align: right;\n",
       "    }\n",
       "</style>\n",
       "<table border=\"1\" class=\"dataframe\">\n",
       "  <thead>\n",
       "    <tr style=\"text-align: right;\">\n",
       "      <th></th>\n",
       "      <th>Item_Identifier</th>\n",
       "      <th>Item_Weight</th>\n",
       "      <th>Item_Fat_Content</th>\n",
       "      <th>Item_Visibility</th>\n",
       "      <th>Item_Type</th>\n",
       "      <th>Item_MRP</th>\n",
       "      <th>Outlet_Identifier</th>\n",
       "      <th>Outlet_Establishment_Year</th>\n",
       "      <th>Outlet_Size</th>\n",
       "      <th>Outlet_Location_Type</th>\n",
       "      <th>Outlet_Type</th>\n",
       "      <th>Item_Outlet_Sales</th>\n",
       "    </tr>\n",
       "  </thead>\n",
       "  <tbody>\n",
       "    <tr>\n",
       "      <th>0</th>\n",
       "      <td>Food</td>\n",
       "      <td>-0.766217</td>\n",
       "      <td>Low Fat</td>\n",
       "      <td>-0.970732</td>\n",
       "      <td>Dairy</td>\n",
       "      <td>1.747454</td>\n",
       "      <td>Cluster0</td>\n",
       "      <td>-0.139541</td>\n",
       "      <td>Medium</td>\n",
       "      <td>Tier 1</td>\n",
       "      <td>Supermarket Type1</td>\n",
       "      <td>3735.1380</td>\n",
       "    </tr>\n",
       "    <tr>\n",
       "      <th>1</th>\n",
       "      <td>Drinks</td>\n",
       "      <td>-1.494175</td>\n",
       "      <td>Regular</td>\n",
       "      <td>-0.908111</td>\n",
       "      <td>Soft Drinks</td>\n",
       "      <td>-1.489023</td>\n",
       "      <td>OUT018</td>\n",
       "      <td>-1.334103</td>\n",
       "      <td>Medium</td>\n",
       "      <td>Tier 3</td>\n",
       "      <td>Supermarket Type2</td>\n",
       "      <td>443.4228</td>\n",
       "    </tr>\n",
       "    <tr>\n",
       "      <th>2</th>\n",
       "      <td>Food</td>\n",
       "      <td>0.999834</td>\n",
       "      <td>Low Fat</td>\n",
       "      <td>-0.956917</td>\n",
       "      <td>rare</td>\n",
       "      <td>0.010040</td>\n",
       "      <td>Cluster0</td>\n",
       "      <td>-0.139541</td>\n",
       "      <td>Medium</td>\n",
       "      <td>Tier 1</td>\n",
       "      <td>Supermarket Type1</td>\n",
       "      <td>2097.2700</td>\n",
       "    </tr>\n",
       "    <tr>\n",
       "      <th>3</th>\n",
       "      <td>Food</td>\n",
       "      <td>1.365966</td>\n",
       "      <td>Regular</td>\n",
       "      <td>-1.281758</td>\n",
       "      <td>Fruits and Vegetables</td>\n",
       "      <td>0.660050</td>\n",
       "      <td>Cluster1</td>\n",
       "      <td>-0.020085</td>\n",
       "      <td>Missing</td>\n",
       "      <td>Tier 3</td>\n",
       "      <td>Grocery Store</td>\n",
       "      <td>732.3800</td>\n",
       "    </tr>\n",
       "    <tr>\n",
       "      <th>4</th>\n",
       "      <td>Non Consumable</td>\n",
       "      <td>-0.845905</td>\n",
       "      <td>Not Applicable</td>\n",
       "      <td>-1.281758</td>\n",
       "      <td>Household</td>\n",
       "      <td>-1.399220</td>\n",
       "      <td>Cluster0</td>\n",
       "      <td>1.293934</td>\n",
       "      <td>High</td>\n",
       "      <td>Tier 3</td>\n",
       "      <td>Supermarket Type1</td>\n",
       "      <td>994.7052</td>\n",
       "    </tr>\n",
       "    <tr>\n",
       "      <th>...</th>\n",
       "      <td>...</td>\n",
       "      <td>...</td>\n",
       "      <td>...</td>\n",
       "      <td>...</td>\n",
       "      <td>...</td>\n",
       "      <td>...</td>\n",
       "      <td>...</td>\n",
       "      <td>...</td>\n",
       "      <td>...</td>\n",
       "      <td>...</td>\n",
       "      <td>...</td>\n",
       "      <td>...</td>\n",
       "    </tr>\n",
       "    <tr>\n",
       "      <th>8518</th>\n",
       "      <td>Food</td>\n",
       "      <td>-1.290648</td>\n",
       "      <td>Low Fat</td>\n",
       "      <td>-0.181193</td>\n",
       "      <td>Snack Foods</td>\n",
       "      <td>1.180783</td>\n",
       "      <td>Cluster0</td>\n",
       "      <td>1.293934</td>\n",
       "      <td>High</td>\n",
       "      <td>Tier 3</td>\n",
       "      <td>Supermarket Type1</td>\n",
       "      <td>2778.3834</td>\n",
       "    </tr>\n",
       "    <tr>\n",
       "      <th>8519</th>\n",
       "      <td>Food</td>\n",
       "      <td>-0.964360</td>\n",
       "      <td>Regular</td>\n",
       "      <td>-0.371154</td>\n",
       "      <td>Baking Goods</td>\n",
       "      <td>-0.527301</td>\n",
       "      <td>OUT045</td>\n",
       "      <td>-0.497909</td>\n",
       "      <td>Missing</td>\n",
       "      <td>Tier 2</td>\n",
       "      <td>Supermarket Type1</td>\n",
       "      <td>549.2850</td>\n",
       "    </tr>\n",
       "    <tr>\n",
       "      <th>8520</th>\n",
       "      <td>Non Consumable</td>\n",
       "      <td>-0.486234</td>\n",
       "      <td>Not Applicable</td>\n",
       "      <td>-0.599784</td>\n",
       "      <td>Health and Hygiene</td>\n",
       "      <td>-0.897208</td>\n",
       "      <td>OUT035</td>\n",
       "      <td>-0.736822</td>\n",
       "      <td>Small</td>\n",
       "      <td>Tier 2</td>\n",
       "      <td>Supermarket Type1</td>\n",
       "      <td>1193.1136</td>\n",
       "    </tr>\n",
       "    <tr>\n",
       "      <th>8521</th>\n",
       "      <td>Food</td>\n",
       "      <td>-1.216345</td>\n",
       "      <td>Regular</td>\n",
       "      <td>1.532880</td>\n",
       "      <td>Snack Foods</td>\n",
       "      <td>-0.607977</td>\n",
       "      <td>OUT018</td>\n",
       "      <td>-1.334103</td>\n",
       "      <td>Medium</td>\n",
       "      <td>Tier 3</td>\n",
       "      <td>Supermarket Type2</td>\n",
       "      <td>1845.5976</td>\n",
       "    </tr>\n",
       "    <tr>\n",
       "      <th>8522</th>\n",
       "      <td>Drinks</td>\n",
       "      <td>0.418329</td>\n",
       "      <td>Low Fat</td>\n",
       "      <td>-0.411936</td>\n",
       "      <td>Soft Drinks</td>\n",
       "      <td>-1.052261</td>\n",
       "      <td>Cluster0</td>\n",
       "      <td>0.099372</td>\n",
       "      <td>Small</td>\n",
       "      <td>Tier 1</td>\n",
       "      <td>Supermarket Type1</td>\n",
       "      <td>765.6700</td>\n",
       "    </tr>\n",
       "  </tbody>\n",
       "</table>\n",
       "<p>8523 rows × 12 columns</p>\n",
       "</div>"
      ],
      "text/plain": [
       "     Item_Identifier  Item_Weight Item_Fat_Content  Item_Visibility  \\\n",
       "0               Food    -0.766217          Low Fat        -0.970732   \n",
       "1             Drinks    -1.494175          Regular        -0.908111   \n",
       "2               Food     0.999834          Low Fat        -0.956917   \n",
       "3               Food     1.365966          Regular        -1.281758   \n",
       "4     Non Consumable    -0.845905   Not Applicable        -1.281758   \n",
       "...              ...          ...              ...              ...   \n",
       "8518            Food    -1.290648          Low Fat        -0.181193   \n",
       "8519            Food    -0.964360          Regular        -0.371154   \n",
       "8520  Non Consumable    -0.486234   Not Applicable        -0.599784   \n",
       "8521            Food    -1.216345          Regular         1.532880   \n",
       "8522          Drinks     0.418329          Low Fat        -0.411936   \n",
       "\n",
       "                  Item_Type  Item_MRP Outlet_Identifier  \\\n",
       "0                     Dairy  1.747454          Cluster0   \n",
       "1               Soft Drinks -1.489023            OUT018   \n",
       "2                      rare  0.010040          Cluster0   \n",
       "3     Fruits and Vegetables  0.660050          Cluster1   \n",
       "4                 Household -1.399220          Cluster0   \n",
       "...                     ...       ...               ...   \n",
       "8518            Snack Foods  1.180783          Cluster0   \n",
       "8519           Baking Goods -0.527301            OUT045   \n",
       "8520     Health and Hygiene -0.897208            OUT035   \n",
       "8521            Snack Foods -0.607977            OUT018   \n",
       "8522            Soft Drinks -1.052261          Cluster0   \n",
       "\n",
       "      Outlet_Establishment_Year Outlet_Size Outlet_Location_Type  \\\n",
       "0                     -0.139541      Medium               Tier 1   \n",
       "1                     -1.334103      Medium               Tier 3   \n",
       "2                     -0.139541      Medium               Tier 1   \n",
       "3                     -0.020085     Missing               Tier 3   \n",
       "4                      1.293934        High               Tier 3   \n",
       "...                         ...         ...                  ...   \n",
       "8518                   1.293934        High               Tier 3   \n",
       "8519                  -0.497909     Missing               Tier 2   \n",
       "8520                  -0.736822       Small               Tier 2   \n",
       "8521                  -1.334103      Medium               Tier 3   \n",
       "8522                   0.099372       Small               Tier 1   \n",
       "\n",
       "            Outlet_Type  Item_Outlet_Sales  \n",
       "0     Supermarket Type1          3735.1380  \n",
       "1     Supermarket Type2           443.4228  \n",
       "2     Supermarket Type1          2097.2700  \n",
       "3         Grocery Store           732.3800  \n",
       "4     Supermarket Type1           994.7052  \n",
       "...                 ...                ...  \n",
       "8518  Supermarket Type1          2778.3834  \n",
       "8519  Supermarket Type1           549.2850  \n",
       "8520  Supermarket Type1          1193.1136  \n",
       "8521  Supermarket Type2          1845.5976  \n",
       "8522  Supermarket Type1           765.6700  \n",
       "\n",
       "[8523 rows x 12 columns]"
      ]
     },
     "execution_count": 54,
     "metadata": {},
     "output_type": "execute_result"
    }
   ],
   "source": [
    "data"
   ]
  },
  {
   "cell_type": "code",
   "execution_count": 55,
   "metadata": {},
   "outputs": [
    {
     "data": {
      "text/plain": [
       "Item_Identifier              0\n",
       "Item_Weight                  0\n",
       "Item_Fat_Content             0\n",
       "Item_Visibility              0\n",
       "Item_Type                    0\n",
       "Item_MRP                     0\n",
       "Outlet_Identifier            0\n",
       "Outlet_Establishment_Year    0\n",
       "Outlet_Size                  0\n",
       "Outlet_Location_Type         0\n",
       "Outlet_Type                  0\n",
       "Item_Outlet_Sales            0\n",
       "dtype: int64"
      ]
     },
     "execution_count": 55,
     "metadata": {},
     "output_type": "execute_result"
    }
   ],
   "source": [
    "data.isna().sum() #all variables imputed"
   ]
  },
  {
   "cell_type": "markdown",
   "metadata": {},
   "source": [
    "## Step 5- Plotting against Output variable"
   ]
  },
  {
   "cell_type": "code",
   "execution_count": 56,
   "metadata": {},
   "outputs": [
    {
     "data": {
      "image/png": "[encoded data removed]",
      "text/plain": [
       "<Figure size 432x288 with 1 Axes>"
      ]
     },
     "metadata": {
      "needs_background": "light"
     },
     "output_type": "display_data"
    }
   ],
   "source": [
    "#The average sales across different item types is quite even\n",
    "\n",
    "sns.barplot(x='Item_Identifier', y='Item_Outlet_Sales', data=data)\n",
    "plt.show()"
   ]
  },
  {
   "cell_type": "code",
   "execution_count": 57,
   "metadata": {},
   "outputs": [
    {
     "data": {
      "text/plain": [
       "0.0018844050713309338"
      ]
     },
     "execution_count": 57,
     "metadata": {},
     "output_type": "execute_result"
    }
   ],
   "source": [
    "fvalue, pvalue = stats.f_oneway(data[data['Item_Identifier']== 'Food']['Item_Outlet_Sales'],\n",
    "                                data[data['Item_Identifier']== 'Drinks']['Item_Outlet_Sales'],\n",
    "                                data[data['Item_Identifier']== 'Non Consumable']['Item_Outlet_Sales']\n",
    "                                \n",
    "                               )\n",
    "\n",
    "\n",
    "\n",
    "pvalue\n",
    "#This column may be meaningful in prediction."
   ]
  },
  {
   "cell_type": "code",
   "execution_count": 58,
   "metadata": {},
   "outputs": [
    {
     "data": {
      "text/plain": [
       "<matplotlib.axes._subplots.AxesSubplot at 0x7f8fe27e8650>"
      ]
     },
     "execution_count": 58,
     "metadata": {},
     "output_type": "execute_result"
    },
    {
     "data": {
      "image/png": "[encoded data removed]",
      "text/plain": [
       "<Figure size 432x288 with 1 Axes>"
      ]
     },
     "metadata": {
      "needs_background": "light"
     },
     "output_type": "display_data"
    }
   ],
   "source": [
    "sns.boxplot(x= 'Item_Fat_Content', y= 'Item_Outlet_Sales', data= data)"
   ]
  },
  {
   "cell_type": "code",
   "execution_count": 59,
   "metadata": {},
   "outputs": [
    {
     "data": {
      "text/plain": [
       "0.2060216950157096"
      ]
     },
     "execution_count": 59,
     "metadata": {},
     "output_type": "execute_result"
    }
   ],
   "source": [
    "fvalue, pvalue = stats.f_oneway(data[data['Item_Fat_Content']== 'Low Fat']['Item_Outlet_Sales'],\n",
    "                                data[data['Item_Fat_Content']== 'Regular']['Item_Outlet_Sales'],\n",
    "                                data[data['Item_Fat_Content']== 'Not Applicable']['Item_Outlet_Sales']\n",
    "                                \n",
    "                                \n",
    "                               )\n",
    "pvalue"
   ]
  },
  {
   "cell_type": "code",
   "execution_count": 60,
   "metadata": {},
   "outputs": [
    {
     "data": {
      "text/plain": [
       "Text(0.5, 1.0, 'Outlet Sales by Fat Content')"
      ]
     },
     "execution_count": 60,
     "metadata": {},
     "output_type": "execute_result"
    },
    {
     "data": {
      "image/png": "[encoded data removed]",
      "text/plain": [
       "<Figure size 720x360 with 1 Axes>"
      ]
     },
     "metadata": {
      "needs_background": "light"
     },
     "output_type": "display_data"
    }
   ],
   "source": [
    "fig = plt.figure(figsize= (10,5))\n",
    "ax = fig.add_subplot(111)\n",
    "\n",
    "data[data['Item_Fat_Content']== 'Low Fat']['Item_Outlet_Sales'].plot(kind= 'kde', ax=ax)\n",
    "data[data['Item_Fat_Content']== 'Regular']['Item_Outlet_Sales'].plot(kind= 'kde', ax=ax)\n",
    "data[data['Item_Fat_Content']== 'Not Applicable']['Item_Outlet_Sales'].plot(kind= 'kde', ax=ax)\n",
    "\n",
    "lines, labels = ax.get_legend_handles_labels()\n",
    "labels= ['Low Fat', 'Regular', 'Not Applicable']\n",
    "ax.legend(lines, labels, loc='best')\n",
    "ax.set_xlabel('Outlet Sales')\n",
    "ax.set_title('Outlet Sales by Fat Content')"
   ]
  },
  {
   "cell_type": "code",
   "execution_count": 61,
   "metadata": {},
   "outputs": [
    {
     "data": {
      "text/html": [
       "<div>\n",
       "<style scoped>\n",
       "    .dataframe tbody tr th:only-of-type {\n",
       "        vertical-align: middle;\n",
       "    }\n",
       "\n",
       "    .dataframe tbody tr th {\n",
       "        vertical-align: top;\n",
       "    }\n",
       "\n",
       "    .dataframe thead th {\n",
       "        text-align: right;\n",
       "    }\n",
       "</style>\n",
       "<table border=\"1\" class=\"dataframe\">\n",
       "  <thead>\n",
       "    <tr style=\"text-align: right;\">\n",
       "      <th></th>\n",
       "      <th>Item_Identifier</th>\n",
       "      <th>Item_Weight</th>\n",
       "      <th>Item_Visibility</th>\n",
       "      <th>Item_Type</th>\n",
       "      <th>Item_MRP</th>\n",
       "      <th>Outlet_Identifier</th>\n",
       "      <th>Outlet_Establishment_Year</th>\n",
       "      <th>Outlet_Size</th>\n",
       "      <th>Outlet_Location_Type</th>\n",
       "      <th>Outlet_Type</th>\n",
       "      <th>Item_Outlet_Sales</th>\n",
       "    </tr>\n",
       "  </thead>\n",
       "  <tbody>\n",
       "    <tr>\n",
       "      <th>0</th>\n",
       "      <td>Food</td>\n",
       "      <td>-0.766217</td>\n",
       "      <td>-0.970732</td>\n",
       "      <td>Dairy</td>\n",
       "      <td>1.747454</td>\n",
       "      <td>Cluster0</td>\n",
       "      <td>-0.139541</td>\n",
       "      <td>Medium</td>\n",
       "      <td>Tier 1</td>\n",
       "      <td>Supermarket Type1</td>\n",
       "      <td>3735.1380</td>\n",
       "    </tr>\n",
       "    <tr>\n",
       "      <th>1</th>\n",
       "      <td>Drinks</td>\n",
       "      <td>-1.494175</td>\n",
       "      <td>-0.908111</td>\n",
       "      <td>Soft Drinks</td>\n",
       "      <td>-1.489023</td>\n",
       "      <td>OUT018</td>\n",
       "      <td>-1.334103</td>\n",
       "      <td>Medium</td>\n",
       "      <td>Tier 3</td>\n",
       "      <td>Supermarket Type2</td>\n",
       "      <td>443.4228</td>\n",
       "    </tr>\n",
       "    <tr>\n",
       "      <th>2</th>\n",
       "      <td>Food</td>\n",
       "      <td>0.999834</td>\n",
       "      <td>-0.956917</td>\n",
       "      <td>rare</td>\n",
       "      <td>0.010040</td>\n",
       "      <td>Cluster0</td>\n",
       "      <td>-0.139541</td>\n",
       "      <td>Medium</td>\n",
       "      <td>Tier 1</td>\n",
       "      <td>Supermarket Type1</td>\n",
       "      <td>2097.2700</td>\n",
       "    </tr>\n",
       "    <tr>\n",
       "      <th>3</th>\n",
       "      <td>Food</td>\n",
       "      <td>1.365966</td>\n",
       "      <td>-1.281758</td>\n",
       "      <td>Fruits and Vegetables</td>\n",
       "      <td>0.660050</td>\n",
       "      <td>Cluster1</td>\n",
       "      <td>-0.020085</td>\n",
       "      <td>Missing</td>\n",
       "      <td>Tier 3</td>\n",
       "      <td>Grocery Store</td>\n",
       "      <td>732.3800</td>\n",
       "    </tr>\n",
       "    <tr>\n",
       "      <th>4</th>\n",
       "      <td>Non Consumable</td>\n",
       "      <td>-0.845905</td>\n",
       "      <td>-1.281758</td>\n",
       "      <td>Household</td>\n",
       "      <td>-1.399220</td>\n",
       "      <td>Cluster0</td>\n",
       "      <td>1.293934</td>\n",
       "      <td>High</td>\n",
       "      <td>Tier 3</td>\n",
       "      <td>Supermarket Type1</td>\n",
       "      <td>994.7052</td>\n",
       "    </tr>\n",
       "    <tr>\n",
       "      <th>...</th>\n",
       "      <td>...</td>\n",
       "      <td>...</td>\n",
       "      <td>...</td>\n",
       "      <td>...</td>\n",
       "      <td>...</td>\n",
       "      <td>...</td>\n",
       "      <td>...</td>\n",
       "      <td>...</td>\n",
       "      <td>...</td>\n",
       "      <td>...</td>\n",
       "      <td>...</td>\n",
       "    </tr>\n",
       "    <tr>\n",
       "      <th>8518</th>\n",
       "      <td>Food</td>\n",
       "      <td>-1.290648</td>\n",
       "      <td>-0.181193</td>\n",
       "      <td>Snack Foods</td>\n",
       "      <td>1.180783</td>\n",
       "      <td>Cluster0</td>\n",
       "      <td>1.293934</td>\n",
       "      <td>High</td>\n",
       "      <td>Tier 3</td>\n",
       "      <td>Supermarket Type1</td>\n",
       "      <td>2778.3834</td>\n",
       "    </tr>\n",
       "    <tr>\n",
       "      <th>8519</th>\n",
       "      <td>Food</td>\n",
       "      <td>-0.964360</td>\n",
       "      <td>-0.371154</td>\n",
       "      <td>Baking Goods</td>\n",
       "      <td>-0.527301</td>\n",
       "      <td>OUT045</td>\n",
       "      <td>-0.497909</td>\n",
       "      <td>Missing</td>\n",
       "      <td>Tier 2</td>\n",
       "      <td>Supermarket Type1</td>\n",
       "      <td>549.2850</td>\n",
       "    </tr>\n",
       "    <tr>\n",
       "      <th>8520</th>\n",
       "      <td>Non Consumable</td>\n",
       "      <td>-0.486234</td>\n",
       "      <td>-0.599784</td>\n",
       "      <td>Health and Hygiene</td>\n",
       "      <td>-0.897208</td>\n",
       "      <td>OUT035</td>\n",
       "      <td>-0.736822</td>\n",
       "      <td>Small</td>\n",
       "      <td>Tier 2</td>\n",
       "      <td>Supermarket Type1</td>\n",
       "      <td>1193.1136</td>\n",
       "    </tr>\n",
       "    <tr>\n",
       "      <th>8521</th>\n",
       "      <td>Food</td>\n",
       "      <td>-1.216345</td>\n",
       "      <td>1.532880</td>\n",
       "      <td>Snack Foods</td>\n",
       "      <td>-0.607977</td>\n",
       "      <td>OUT018</td>\n",
       "      <td>-1.334103</td>\n",
       "      <td>Medium</td>\n",
       "      <td>Tier 3</td>\n",
       "      <td>Supermarket Type2</td>\n",
       "      <td>1845.5976</td>\n",
       "    </tr>\n",
       "    <tr>\n",
       "      <th>8522</th>\n",
       "      <td>Drinks</td>\n",
       "      <td>0.418329</td>\n",
       "      <td>-0.411936</td>\n",
       "      <td>Soft Drinks</td>\n",
       "      <td>-1.052261</td>\n",
       "      <td>Cluster0</td>\n",
       "      <td>0.099372</td>\n",
       "      <td>Small</td>\n",
       "      <td>Tier 1</td>\n",
       "      <td>Supermarket Type1</td>\n",
       "      <td>765.6700</td>\n",
       "    </tr>\n",
       "  </tbody>\n",
       "</table>\n",
       "<p>8523 rows × 11 columns</p>\n",
       "</div>"
      ],
      "text/plain": [
       "     Item_Identifier  Item_Weight  Item_Visibility              Item_Type  \\\n",
       "0               Food    -0.766217        -0.970732                  Dairy   \n",
       "1             Drinks    -1.494175        -0.908111            Soft Drinks   \n",
       "2               Food     0.999834        -0.956917                   rare   \n",
       "3               Food     1.365966        -1.281758  Fruits and Vegetables   \n",
       "4     Non Consumable    -0.845905        -1.281758              Household   \n",
       "...              ...          ...              ...                    ...   \n",
       "8518            Food    -1.290648        -0.181193            Snack Foods   \n",
       "8519            Food    -0.964360        -0.371154           Baking Goods   \n",
       "8520  Non Consumable    -0.486234        -0.599784     Health and Hygiene   \n",
       "8521            Food    -1.216345         1.532880            Snack Foods   \n",
       "8522          Drinks     0.418329        -0.411936            Soft Drinks   \n",
       "\n",
       "      Item_MRP Outlet_Identifier  Outlet_Establishment_Year Outlet_Size  \\\n",
       "0     1.747454          Cluster0                  -0.139541      Medium   \n",
       "1    -1.489023            OUT018                  -1.334103      Medium   \n",
       "2     0.010040          Cluster0                  -0.139541      Medium   \n",
       "3     0.660050          Cluster1                  -0.020085     Missing   \n",
       "4    -1.399220          Cluster0                   1.293934        High   \n",
       "...        ...               ...                        ...         ...   \n",
       "8518  1.180783          Cluster0                   1.293934        High   \n",
       "8519 -0.527301            OUT045                  -0.497909     Missing   \n",
       "8520 -0.897208            OUT035                  -0.736822       Small   \n",
       "8521 -0.607977            OUT018                  -1.334103      Medium   \n",
       "8522 -1.052261          Cluster0                   0.099372       Small   \n",
       "\n",
       "     Outlet_Location_Type        Outlet_Type  Item_Outlet_Sales  \n",
       "0                  Tier 1  Supermarket Type1          3735.1380  \n",
       "1                  Tier 3  Supermarket Type2           443.4228  \n",
       "2                  Tier 1  Supermarket Type1          2097.2700  \n",
       "3                  Tier 3      Grocery Store           732.3800  \n",
       "4                  Tier 3  Supermarket Type1           994.7052  \n",
       "...                   ...                ...                ...  \n",
       "8518               Tier 3  Supermarket Type1          2778.3834  \n",
       "8519               Tier 2  Supermarket Type1           549.2850  \n",
       "8520               Tier 2  Supermarket Type1          1193.1136  \n",
       "8521               Tier 3  Supermarket Type2          1845.5976  \n",
       "8522               Tier 1  Supermarket Type1           765.6700  \n",
       "\n",
       "[8523 rows x 11 columns]"
      ]
     },
     "execution_count": 61,
     "metadata": {},
     "output_type": "execute_result"
    }
   ],
   "source": [
    "data.drop('Item_Fat_Content', axis=1, inplace= True)\n",
    "data"
   ]
  },
  {
   "cell_type": "markdown",
   "metadata": {},
   "source": [
    "It looks like the distribution of Item outlet sales across the item fat content looks near identical across all three levels.\n",
    "So this column is not necessarily adding any information.\n",
    "As feature selection, we can explore removing this variable."
   ]
  },
  {
   "cell_type": "code",
   "execution_count": 62,
   "metadata": {},
   "outputs": [
    {
     "data": {
      "image/png": "[encoded data removed]",
      "text/plain": [
       "<Figure size 432x288 with 1 Axes>"
      ]
     },
     "metadata": {
      "needs_background": "light"
     },
     "output_type": "display_data"
    }
   ],
   "source": [
    "sns.barplot(y = 'Outlet_Type',x = 'Item_Outlet_Sales',data=data,palette='pastel')\n",
    "plt.show()"
   ]
  },
  {
   "cell_type": "code",
   "execution_count": 63,
   "metadata": {},
   "outputs": [
    {
     "data": {
      "image/png": "[encoded data removed]",
      "text/plain": [
       "<Figure size 432x288 with 1 Axes>"
      ]
     },
     "metadata": {
      "needs_background": "light"
     },
     "output_type": "display_data"
    }
   ],
   "source": [
    "sns.barplot(y = 'Outlet_Size',x = 'Item_Outlet_Sales',data=data,palette='pastel')\n",
    "plt.show()"
   ]
  },
  {
   "cell_type": "code",
   "execution_count": 64,
   "metadata": {},
   "outputs": [
    {
     "data": {
      "image/png": "[encoded data removed]",
      "text/plain": [
       "<Figure size 432x288 with 1 Axes>"
      ]
     },
     "metadata": {
      "needs_background": "light"
     },
     "output_type": "display_data"
    }
   ],
   "source": [
    "sns.scatterplot(x = 'Item_Visibility',y = 'Item_Outlet_Sales',data=data)\n",
    "plt.show()"
   ]
  },
  {
   "cell_type": "markdown",
   "metadata": {},
   "source": [
    "Till a visibility level of 0.2, the sales are not affected strongly by visibility. Beyond a visibility of 0.2, the sales are quite low."
   ]
  },
  {
   "cell_type": "code",
   "execution_count": 65,
   "metadata": {},
   "outputs": [
    {
     "data": {
      "image/png": "[encoded data removed]",
      "text/plain": [
       "<Figure size 432x288 with 1 Axes>"
      ]
     },
     "metadata": {
      "needs_background": "light"
     },
     "output_type": "display_data"
    }
   ],
   "source": [
    "sns.scatterplot(x = 'Item_Weight',y = 'Item_Outlet_Sales',data=data)\n",
    "plt.show()"
   ]
  },
  {
   "cell_type": "code",
   "execution_count": 66,
   "metadata": {},
   "outputs": [
    {
     "data": {
      "image/png": "[encoded data removed]",
      "text/plain": [
       "<Figure size 432x288 with 1 Axes>"
      ]
     },
     "metadata": {
      "needs_background": "light"
     },
     "output_type": "display_data"
    }
   ],
   "source": [
    "sns.scatterplot(x = 'Item_MRP',y = 'Item_Outlet_Sales',data=data)\n",
    "plt.show()"
   ]
  },
  {
   "cell_type": "markdown",
   "metadata": {},
   "source": [
    "### Step 6- Creating dummy variables for categorical variable encoding"
   ]
  },
  {
   "cell_type": "code",
   "execution_count": 67,
   "metadata": {},
   "outputs": [
    {
     "data": {
      "text/plain": [
       "['Item_Identifier',\n",
       " 'Item_Type',\n",
       " 'Outlet_Identifier',\n",
       " 'Outlet_Size',\n",
       " 'Outlet_Location_Type',\n",
       " 'Outlet_Type']"
      ]
     },
     "execution_count": 67,
     "metadata": {},
     "output_type": "execute_result"
    }
   ],
   "source": [
    "cat_col.remove('Item_Fat_Content')\n",
    "cat_col"
   ]
  },
  {
   "cell_type": "code",
   "execution_count": 68,
   "metadata": {},
   "outputs": [],
   "source": [
    "identifier_dummies= pd.get_dummies(data.Item_Identifier)\n",
    "data= pd.concat([data, identifier_dummies], axis=1)"
   ]
  },
  {
   "cell_type": "code",
   "execution_count": 69,
   "metadata": {},
   "outputs": [
    {
     "data": {
      "text/html": [
       "<div>\n",
       "<style scoped>\n",
       "    .dataframe tbody tr th:only-of-type {\n",
       "        vertical-align: middle;\n",
       "    }\n",
       "\n",
       "    .dataframe tbody tr th {\n",
       "        vertical-align: top;\n",
       "    }\n",
       "\n",
       "    .dataframe thead th {\n",
       "        text-align: right;\n",
       "    }\n",
       "</style>\n",
       "<table border=\"1\" class=\"dataframe\">\n",
       "  <thead>\n",
       "    <tr style=\"text-align: right;\">\n",
       "      <th></th>\n",
       "      <th>Item_Weight</th>\n",
       "      <th>Item_Visibility</th>\n",
       "      <th>Item_Type</th>\n",
       "      <th>Item_MRP</th>\n",
       "      <th>Outlet_Identifier</th>\n",
       "      <th>Outlet_Establishment_Year</th>\n",
       "      <th>Outlet_Size</th>\n",
       "      <th>Outlet_Location_Type</th>\n",
       "      <th>Outlet_Type</th>\n",
       "      <th>Item_Outlet_Sales</th>\n",
       "      <th>Drinks</th>\n",
       "      <th>Food</th>\n",
       "      <th>Non Consumable</th>\n",
       "    </tr>\n",
       "  </thead>\n",
       "  <tbody>\n",
       "    <tr>\n",
       "      <th>0</th>\n",
       "      <td>-0.766217</td>\n",
       "      <td>-0.970732</td>\n",
       "      <td>Dairy</td>\n",
       "      <td>1.747454</td>\n",
       "      <td>Cluster0</td>\n",
       "      <td>-0.139541</td>\n",
       "      <td>Medium</td>\n",
       "      <td>Tier 1</td>\n",
       "      <td>Supermarket Type1</td>\n",
       "      <td>3735.1380</td>\n",
       "      <td>0</td>\n",
       "      <td>1</td>\n",
       "      <td>0</td>\n",
       "    </tr>\n",
       "    <tr>\n",
       "      <th>1</th>\n",
       "      <td>-1.494175</td>\n",
       "      <td>-0.908111</td>\n",
       "      <td>Soft Drinks</td>\n",
       "      <td>-1.489023</td>\n",
       "      <td>OUT018</td>\n",
       "      <td>-1.334103</td>\n",
       "      <td>Medium</td>\n",
       "      <td>Tier 3</td>\n",
       "      <td>Supermarket Type2</td>\n",
       "      <td>443.4228</td>\n",
       "      <td>1</td>\n",
       "      <td>0</td>\n",
       "      <td>0</td>\n",
       "    </tr>\n",
       "    <tr>\n",
       "      <th>2</th>\n",
       "      <td>0.999834</td>\n",
       "      <td>-0.956917</td>\n",
       "      <td>rare</td>\n",
       "      <td>0.010040</td>\n",
       "      <td>Cluster0</td>\n",
       "      <td>-0.139541</td>\n",
       "      <td>Medium</td>\n",
       "      <td>Tier 1</td>\n",
       "      <td>Supermarket Type1</td>\n",
       "      <td>2097.2700</td>\n",
       "      <td>0</td>\n",
       "      <td>1</td>\n",
       "      <td>0</td>\n",
       "    </tr>\n",
       "    <tr>\n",
       "      <th>3</th>\n",
       "      <td>1.365966</td>\n",
       "      <td>-1.281758</td>\n",
       "      <td>Fruits and Vegetables</td>\n",
       "      <td>0.660050</td>\n",
       "      <td>Cluster1</td>\n",
       "      <td>-0.020085</td>\n",
       "      <td>Missing</td>\n",
       "      <td>Tier 3</td>\n",
       "      <td>Grocery Store</td>\n",
       "      <td>732.3800</td>\n",
       "      <td>0</td>\n",
       "      <td>1</td>\n",
       "      <td>0</td>\n",
       "    </tr>\n",
       "    <tr>\n",
       "      <th>4</th>\n",
       "      <td>-0.845905</td>\n",
       "      <td>-1.281758</td>\n",
       "      <td>Household</td>\n",
       "      <td>-1.399220</td>\n",
       "      <td>Cluster0</td>\n",
       "      <td>1.293934</td>\n",
       "      <td>High</td>\n",
       "      <td>Tier 3</td>\n",
       "      <td>Supermarket Type1</td>\n",
       "      <td>994.7052</td>\n",
       "      <td>0</td>\n",
       "      <td>0</td>\n",
       "      <td>1</td>\n",
       "    </tr>\n",
       "    <tr>\n",
       "      <th>...</th>\n",
       "      <td>...</td>\n",
       "      <td>...</td>\n",
       "      <td>...</td>\n",
       "      <td>...</td>\n",
       "      <td>...</td>\n",
       "      <td>...</td>\n",
       "      <td>...</td>\n",
       "      <td>...</td>\n",
       "      <td>...</td>\n",
       "      <td>...</td>\n",
       "      <td>...</td>\n",
       "      <td>...</td>\n",
       "      <td>...</td>\n",
       "    </tr>\n",
       "    <tr>\n",
       "      <th>8518</th>\n",
       "      <td>-1.290648</td>\n",
       "      <td>-0.181193</td>\n",
       "      <td>Snack Foods</td>\n",
       "      <td>1.180783</td>\n",
       "      <td>Cluster0</td>\n",
       "      <td>1.293934</td>\n",
       "      <td>High</td>\n",
       "      <td>Tier 3</td>\n",
       "      <td>Supermarket Type1</td>\n",
       "      <td>2778.3834</td>\n",
       "      <td>0</td>\n",
       "      <td>1</td>\n",
       "      <td>0</td>\n",
       "    </tr>\n",
       "    <tr>\n",
       "      <th>8519</th>\n",
       "      <td>-0.964360</td>\n",
       "      <td>-0.371154</td>\n",
       "      <td>Baking Goods</td>\n",
       "      <td>-0.527301</td>\n",
       "      <td>OUT045</td>\n",
       "      <td>-0.497909</td>\n",
       "      <td>Missing</td>\n",
       "      <td>Tier 2</td>\n",
       "      <td>Supermarket Type1</td>\n",
       "      <td>549.2850</td>\n",
       "      <td>0</td>\n",
       "      <td>1</td>\n",
       "      <td>0</td>\n",
       "    </tr>\n",
       "    <tr>\n",
       "      <th>8520</th>\n",
       "      <td>-0.486234</td>\n",
       "      <td>-0.599784</td>\n",
       "      <td>Health and Hygiene</td>\n",
       "      <td>-0.897208</td>\n",
       "      <td>OUT035</td>\n",
       "      <td>-0.736822</td>\n",
       "      <td>Small</td>\n",
       "      <td>Tier 2</td>\n",
       "      <td>Supermarket Type1</td>\n",
       "      <td>1193.1136</td>\n",
       "      <td>0</td>\n",
       "      <td>0</td>\n",
       "      <td>1</td>\n",
       "    </tr>\n",
       "    <tr>\n",
       "      <th>8521</th>\n",
       "      <td>-1.216345</td>\n",
       "      <td>1.532880</td>\n",
       "      <td>Snack Foods</td>\n",
       "      <td>-0.607977</td>\n",
       "      <td>OUT018</td>\n",
       "      <td>-1.334103</td>\n",
       "      <td>Medium</td>\n",
       "      <td>Tier 3</td>\n",
       "      <td>Supermarket Type2</td>\n",
       "      <td>1845.5976</td>\n",
       "      <td>0</td>\n",
       "      <td>1</td>\n",
       "      <td>0</td>\n",
       "    </tr>\n",
       "    <tr>\n",
       "      <th>8522</th>\n",
       "      <td>0.418329</td>\n",
       "      <td>-0.411936</td>\n",
       "      <td>Soft Drinks</td>\n",
       "      <td>-1.052261</td>\n",
       "      <td>Cluster0</td>\n",
       "      <td>0.099372</td>\n",
       "      <td>Small</td>\n",
       "      <td>Tier 1</td>\n",
       "      <td>Supermarket Type1</td>\n",
       "      <td>765.6700</td>\n",
       "      <td>1</td>\n",
       "      <td>0</td>\n",
       "      <td>0</td>\n",
       "    </tr>\n",
       "  </tbody>\n",
       "</table>\n",
       "<p>8523 rows × 13 columns</p>\n",
       "</div>"
      ],
      "text/plain": [
       "      Item_Weight  Item_Visibility              Item_Type  Item_MRP  \\\n",
       "0       -0.766217        -0.970732                  Dairy  1.747454   \n",
       "1       -1.494175        -0.908111            Soft Drinks -1.489023   \n",
       "2        0.999834        -0.956917                   rare  0.010040   \n",
       "3        1.365966        -1.281758  Fruits and Vegetables  0.660050   \n",
       "4       -0.845905        -1.281758              Household -1.399220   \n",
       "...           ...              ...                    ...       ...   \n",
       "8518    -1.290648        -0.181193            Snack Foods  1.180783   \n",
       "8519    -0.964360        -0.371154           Baking Goods -0.527301   \n",
       "8520    -0.486234        -0.599784     Health and Hygiene -0.897208   \n",
       "8521    -1.216345         1.532880            Snack Foods -0.607977   \n",
       "8522     0.418329        -0.411936            Soft Drinks -1.052261   \n",
       "\n",
       "     Outlet_Identifier  Outlet_Establishment_Year Outlet_Size  \\\n",
       "0             Cluster0                  -0.139541      Medium   \n",
       "1               OUT018                  -1.334103      Medium   \n",
       "2             Cluster0                  -0.139541      Medium   \n",
       "3             Cluster1                  -0.020085     Missing   \n",
       "4             Cluster0                   1.293934        High   \n",
       "...                ...                        ...         ...   \n",
       "8518          Cluster0                   1.293934        High   \n",
       "8519            OUT045                  -0.497909     Missing   \n",
       "8520            OUT035                  -0.736822       Small   \n",
       "8521            OUT018                  -1.334103      Medium   \n",
       "8522          Cluster0                   0.099372       Small   \n",
       "\n",
       "     Outlet_Location_Type        Outlet_Type  Item_Outlet_Sales  Drinks  Food  \\\n",
       "0                  Tier 1  Supermarket Type1          3735.1380       0     1   \n",
       "1                  Tier 3  Supermarket Type2           443.4228       1     0   \n",
       "2                  Tier 1  Supermarket Type1          2097.2700       0     1   \n",
       "3                  Tier 3      Grocery Store           732.3800       0     1   \n",
       "4                  Tier 3  Supermarket Type1           994.7052       0     0   \n",
       "...                   ...                ...                ...     ...   ...   \n",
       "8518               Tier 3  Supermarket Type1          2778.3834       0     1   \n",
       "8519               Tier 2  Supermarket Type1           549.2850       0     1   \n",
       "8520               Tier 2  Supermarket Type1          1193.1136       0     0   \n",
       "8521               Tier 3  Supermarket Type2          1845.5976       0     1   \n",
       "8522               Tier 1  Supermarket Type1           765.6700       1     0   \n",
       "\n",
       "      Non Consumable  \n",
       "0                  0  \n",
       "1                  0  \n",
       "2                  0  \n",
       "3                  0  \n",
       "4                  1  \n",
       "...              ...  \n",
       "8518               0  \n",
       "8519               0  \n",
       "8520               1  \n",
       "8521               0  \n",
       "8522               0  \n",
       "\n",
       "[8523 rows x 13 columns]"
      ]
     },
     "execution_count": 69,
     "metadata": {},
     "output_type": "execute_result"
    }
   ],
   "source": [
    "data.drop('Item_Identifier', axis=1, inplace= True)\n",
    "data"
   ]
  },
  {
   "cell_type": "code",
   "execution_count": 70,
   "metadata": {},
   "outputs": [
    {
     "data": {
      "text/plain": [
       "['Item_Type',\n",
       " 'Outlet_Identifier',\n",
       " 'Outlet_Size',\n",
       " 'Outlet_Location_Type',\n",
       " 'Outlet_Type']"
      ]
     },
     "execution_count": 70,
     "metadata": {},
     "output_type": "execute_result"
    }
   ],
   "source": [
    "cat_col.remove('Item_Identifier')\n",
    "cat_col"
   ]
  },
  {
   "cell_type": "code",
   "execution_count": 71,
   "metadata": {},
   "outputs": [],
   "source": [
    "for i in cat_col:\n",
    "    df_dummies= pd.get_dummies(data[i])\n",
    "    data= pd.concat([data, df_dummies], axis=1)\n",
    "    data.drop(i, axis=1, inplace= True)"
   ]
  },
  {
   "cell_type": "code",
   "execution_count": 72,
   "metadata": {},
   "outputs": [
    {
     "data": {
      "text/html": [
       "<div>\n",
       "<style scoped>\n",
       "    .dataframe tbody tr th:only-of-type {\n",
       "        vertical-align: middle;\n",
       "    }\n",
       "\n",
       "    .dataframe tbody tr th {\n",
       "        vertical-align: top;\n",
       "    }\n",
       "\n",
       "    .dataframe thead th {\n",
       "        text-align: right;\n",
       "    }\n",
       "</style>\n",
       "<table border=\"1\" class=\"dataframe\">\n",
       "  <thead>\n",
       "    <tr style=\"text-align: right;\">\n",
       "      <th></th>\n",
       "      <th>Item_Weight</th>\n",
       "      <th>Item_Visibility</th>\n",
       "      <th>Item_MRP</th>\n",
       "      <th>Outlet_Establishment_Year</th>\n",
       "      <th>Item_Outlet_Sales</th>\n",
       "      <th>Drinks</th>\n",
       "      <th>Food</th>\n",
       "      <th>Non Consumable</th>\n",
       "      <th>Baking Goods</th>\n",
       "      <th>Canned</th>\n",
       "      <th>...</th>\n",
       "      <th>Medium</th>\n",
       "      <th>Missing</th>\n",
       "      <th>Small</th>\n",
       "      <th>Tier 1</th>\n",
       "      <th>Tier 2</th>\n",
       "      <th>Tier 3</th>\n",
       "      <th>Grocery Store</th>\n",
       "      <th>Supermarket Type1</th>\n",
       "      <th>Supermarket Type2</th>\n",
       "      <th>Supermarket Type3</th>\n",
       "    </tr>\n",
       "  </thead>\n",
       "  <tbody>\n",
       "    <tr>\n",
       "      <th>0</th>\n",
       "      <td>-0.766217</td>\n",
       "      <td>-0.970732</td>\n",
       "      <td>1.747454</td>\n",
       "      <td>-0.139541</td>\n",
       "      <td>3735.1380</td>\n",
       "      <td>0</td>\n",
       "      <td>1</td>\n",
       "      <td>0</td>\n",
       "      <td>0</td>\n",
       "      <td>0</td>\n",
       "      <td>...</td>\n",
       "      <td>1</td>\n",
       "      <td>0</td>\n",
       "      <td>0</td>\n",
       "      <td>1</td>\n",
       "      <td>0</td>\n",
       "      <td>0</td>\n",
       "      <td>0</td>\n",
       "      <td>1</td>\n",
       "      <td>0</td>\n",
       "      <td>0</td>\n",
       "    </tr>\n",
       "    <tr>\n",
       "      <th>1</th>\n",
       "      <td>-1.494175</td>\n",
       "      <td>-0.908111</td>\n",
       "      <td>-1.489023</td>\n",
       "      <td>-1.334103</td>\n",
       "      <td>443.4228</td>\n",
       "      <td>1</td>\n",
       "      <td>0</td>\n",
       "      <td>0</td>\n",
       "      <td>0</td>\n",
       "      <td>0</td>\n",
       "      <td>...</td>\n",
       "      <td>1</td>\n",
       "      <td>0</td>\n",
       "      <td>0</td>\n",
       "      <td>0</td>\n",
       "      <td>0</td>\n",
       "      <td>1</td>\n",
       "      <td>0</td>\n",
       "      <td>0</td>\n",
       "      <td>1</td>\n",
       "      <td>0</td>\n",
       "    </tr>\n",
       "    <tr>\n",
       "      <th>2</th>\n",
       "      <td>0.999834</td>\n",
       "      <td>-0.956917</td>\n",
       "      <td>0.010040</td>\n",
       "      <td>-0.139541</td>\n",
       "      <td>2097.2700</td>\n",
       "      <td>0</td>\n",
       "      <td>1</td>\n",
       "      <td>0</td>\n",
       "      <td>0</td>\n",
       "      <td>0</td>\n",
       "      <td>...</td>\n",
       "      <td>1</td>\n",
       "      <td>0</td>\n",
       "      <td>0</td>\n",
       "      <td>1</td>\n",
       "      <td>0</td>\n",
       "      <td>0</td>\n",
       "      <td>0</td>\n",
       "      <td>1</td>\n",
       "      <td>0</td>\n",
       "      <td>0</td>\n",
       "    </tr>\n",
       "    <tr>\n",
       "      <th>3</th>\n",
       "      <td>1.365966</td>\n",
       "      <td>-1.281758</td>\n",
       "      <td>0.660050</td>\n",
       "      <td>-0.020085</td>\n",
       "      <td>732.3800</td>\n",
       "      <td>0</td>\n",
       "      <td>1</td>\n",
       "      <td>0</td>\n",
       "      <td>0</td>\n",
       "      <td>0</td>\n",
       "      <td>...</td>\n",
       "      <td>0</td>\n",
       "      <td>1</td>\n",
       "      <td>0</td>\n",
       "      <td>0</td>\n",
       "      <td>0</td>\n",
       "      <td>1</td>\n",
       "      <td>1</td>\n",
       "      <td>0</td>\n",
       "      <td>0</td>\n",
       "      <td>0</td>\n",
       "    </tr>\n",
       "    <tr>\n",
       "      <th>4</th>\n",
       "      <td>-0.845905</td>\n",
       "      <td>-1.281758</td>\n",
       "      <td>-1.399220</td>\n",
       "      <td>1.293934</td>\n",
       "      <td>994.7052</td>\n",
       "      <td>0</td>\n",
       "      <td>0</td>\n",
       "      <td>1</td>\n",
       "      <td>0</td>\n",
       "      <td>0</td>\n",
       "      <td>...</td>\n",
       "      <td>0</td>\n",
       "      <td>0</td>\n",
       "      <td>0</td>\n",
       "      <td>0</td>\n",
       "      <td>0</td>\n",
       "      <td>1</td>\n",
       "      <td>0</td>\n",
       "      <td>1</td>\n",
       "      <td>0</td>\n",
       "      <td>0</td>\n",
       "    </tr>\n",
       "    <tr>\n",
       "      <th>...</th>\n",
       "      <td>...</td>\n",
       "      <td>...</td>\n",
       "      <td>...</td>\n",
       "      <td>...</td>\n",
       "      <td>...</td>\n",
       "      <td>...</td>\n",
       "      <td>...</td>\n",
       "      <td>...</td>\n",
       "      <td>...</td>\n",
       "      <td>...</td>\n",
       "      <td>...</td>\n",
       "      <td>...</td>\n",
       "      <td>...</td>\n",
       "      <td>...</td>\n",
       "      <td>...</td>\n",
       "      <td>...</td>\n",
       "      <td>...</td>\n",
       "      <td>...</td>\n",
       "      <td>...</td>\n",
       "      <td>...</td>\n",
       "      <td>...</td>\n",
       "    </tr>\n",
       "    <tr>\n",
       "      <th>8518</th>\n",
       "      <td>-1.290648</td>\n",
       "      <td>-0.181193</td>\n",
       "      <td>1.180783</td>\n",
       "      <td>1.293934</td>\n",
       "      <td>2778.3834</td>\n",
       "      <td>0</td>\n",
       "      <td>1</td>\n",
       "      <td>0</td>\n",
       "      <td>0</td>\n",
       "      <td>0</td>\n",
       "      <td>...</td>\n",
       "      <td>0</td>\n",
       "      <td>0</td>\n",
       "      <td>0</td>\n",
       "      <td>0</td>\n",
       "      <td>0</td>\n",
       "      <td>1</td>\n",
       "      <td>0</td>\n",
       "      <td>1</td>\n",
       "      <td>0</td>\n",
       "      <td>0</td>\n",
       "    </tr>\n",
       "    <tr>\n",
       "      <th>8519</th>\n",
       "      <td>-0.964360</td>\n",
       "      <td>-0.371154</td>\n",
       "      <td>-0.527301</td>\n",
       "      <td>-0.497909</td>\n",
       "      <td>549.2850</td>\n",
       "      <td>0</td>\n",
       "      <td>1</td>\n",
       "      <td>0</td>\n",
       "      <td>1</td>\n",
       "      <td>0</td>\n",
       "      <td>...</td>\n",
       "      <td>0</td>\n",
       "      <td>1</td>\n",
       "      <td>0</td>\n",
       "      <td>0</td>\n",
       "      <td>1</td>\n",
       "      <td>0</td>\n",
       "      <td>0</td>\n",
       "      <td>1</td>\n",
       "      <td>0</td>\n",
       "      <td>0</td>\n",
       "    </tr>\n",
       "    <tr>\n",
       "      <th>8520</th>\n",
       "      <td>-0.486234</td>\n",
       "      <td>-0.599784</td>\n",
       "      <td>-0.897208</td>\n",
       "      <td>-0.736822</td>\n",
       "      <td>1193.1136</td>\n",
       "      <td>0</td>\n",
       "      <td>0</td>\n",
       "      <td>1</td>\n",
       "      <td>0</td>\n",
       "      <td>0</td>\n",
       "      <td>...</td>\n",
       "      <td>0</td>\n",
       "      <td>0</td>\n",
       "      <td>1</td>\n",
       "      <td>0</td>\n",
       "      <td>1</td>\n",
       "      <td>0</td>\n",
       "      <td>0</td>\n",
       "      <td>1</td>\n",
       "      <td>0</td>\n",
       "      <td>0</td>\n",
       "    </tr>\n",
       "    <tr>\n",
       "      <th>8521</th>\n",
       "      <td>-1.216345</td>\n",
       "      <td>1.532880</td>\n",
       "      <td>-0.607977</td>\n",
       "      <td>-1.334103</td>\n",
       "      <td>1845.5976</td>\n",
       "      <td>0</td>\n",
       "      <td>1</td>\n",
       "      <td>0</td>\n",
       "      <td>0</td>\n",
       "      <td>0</td>\n",
       "      <td>...</td>\n",
       "      <td>1</td>\n",
       "      <td>0</td>\n",
       "      <td>0</td>\n",
       "      <td>0</td>\n",
       "      <td>0</td>\n",
       "      <td>1</td>\n",
       "      <td>0</td>\n",
       "      <td>0</td>\n",
       "      <td>1</td>\n",
       "      <td>0</td>\n",
       "    </tr>\n",
       "    <tr>\n",
       "      <th>8522</th>\n",
       "      <td>0.418329</td>\n",
       "      <td>-0.411936</td>\n",
       "      <td>-1.052261</td>\n",
       "      <td>0.099372</td>\n",
       "      <td>765.6700</td>\n",
       "      <td>1</td>\n",
       "      <td>0</td>\n",
       "      <td>0</td>\n",
       "      <td>0</td>\n",
       "      <td>0</td>\n",
       "      <td>...</td>\n",
       "      <td>0</td>\n",
       "      <td>0</td>\n",
       "      <td>1</td>\n",
       "      <td>1</td>\n",
       "      <td>0</td>\n",
       "      <td>0</td>\n",
       "      <td>0</td>\n",
       "      <td>1</td>\n",
       "      <td>0</td>\n",
       "      <td>0</td>\n",
       "    </tr>\n",
       "  </tbody>\n",
       "</table>\n",
       "<p>8523 rows × 35 columns</p>\n",
       "</div>"
      ],
      "text/plain": [
       "      Item_Weight  Item_Visibility  Item_MRP  Outlet_Establishment_Year  \\\n",
       "0       -0.766217        -0.970732  1.747454                  -0.139541   \n",
       "1       -1.494175        -0.908111 -1.489023                  -1.334103   \n",
       "2        0.999834        -0.956917  0.010040                  -0.139541   \n",
       "3        1.365966        -1.281758  0.660050                  -0.020085   \n",
       "4       -0.845905        -1.281758 -1.399220                   1.293934   \n",
       "...           ...              ...       ...                        ...   \n",
       "8518    -1.290648        -0.181193  1.180783                   1.293934   \n",
       "8519    -0.964360        -0.371154 -0.527301                  -0.497909   \n",
       "8520    -0.486234        -0.599784 -0.897208                  -0.736822   \n",
       "8521    -1.216345         1.532880 -0.607977                  -1.334103   \n",
       "8522     0.418329        -0.411936 -1.052261                   0.099372   \n",
       "\n",
       "      Item_Outlet_Sales  Drinks  Food  Non Consumable  Baking Goods  Canned  \\\n",
       "0             3735.1380       0     1               0             0       0   \n",
       "1              443.4228       1     0               0             0       0   \n",
       "2             2097.2700       0     1               0             0       0   \n",
       "3              732.3800       0     1               0             0       0   \n",
       "4              994.7052       0     0               1             0       0   \n",
       "...                 ...     ...   ...             ...           ...     ...   \n",
       "8518          2778.3834       0     1               0             0       0   \n",
       "8519           549.2850       0     1               0             1       0   \n",
       "8520          1193.1136       0     0               1             0       0   \n",
       "8521          1845.5976       0     1               0             0       0   \n",
       "8522           765.6700       1     0               0             0       0   \n",
       "\n",
       "      ...  Medium  Missing  Small  Tier 1  Tier 2  Tier 3  Grocery Store  \\\n",
       "0     ...       1        0      0       1       0       0              0   \n",
       "1     ...       1        0      0       0       0       1              0   \n",
       "2     ...       1        0      0       1       0       0              0   \n",
       "3     ...       0        1      0       0       0       1              1   \n",
       "4     ...       0        0      0       0       0       1              0   \n",
       "...   ...     ...      ...    ...     ...     ...     ...            ...   \n",
       "8518  ...       0        0      0       0       0       1              0   \n",
       "8519  ...       0        1      0       0       1       0              0   \n",
       "8520  ...       0        0      1       0       1       0              0   \n",
       "8521  ...       1        0      0       0       0       1              0   \n",
       "8522  ...       0        0      1       1       0       0              0   \n",
       "\n",
       "      Supermarket Type1  Supermarket Type2  Supermarket Type3  \n",
       "0                     1                  0                  0  \n",
       "1                     0                  1                  0  \n",
       "2                     1                  0                  0  \n",
       "3                     0                  0                  0  \n",
       "4                     1                  0                  0  \n",
       "...                 ...                ...                ...  \n",
       "8518                  1                  0                  0  \n",
       "8519                  1                  0                  0  \n",
       "8520                  1                  0                  0  \n",
       "8521                  0                  1                  0  \n",
       "8522                  1                  0                  0  \n",
       "\n",
       "[8523 rows x 35 columns]"
      ]
     },
     "execution_count": 72,
     "metadata": {},
     "output_type": "execute_result"
    }
   ],
   "source": [
    "data"
   ]
  },
  {
   "cell_type": "code",
   "execution_count": 73,
   "metadata": {},
   "outputs": [
    {
     "data": {
      "text/html": [
       "<div>\n",
       "<style scoped>\n",
       "    .dataframe tbody tr th:only-of-type {\n",
       "        vertical-align: middle;\n",
       "    }\n",
       "\n",
       "    .dataframe tbody tr th {\n",
       "        vertical-align: top;\n",
       "    }\n",
       "\n",
       "    .dataframe thead th {\n",
       "        text-align: right;\n",
       "    }\n",
       "</style>\n",
       "<table border=\"1\" class=\"dataframe\">\n",
       "  <thead>\n",
       "    <tr style=\"text-align: right;\">\n",
       "      <th></th>\n",
       "      <th>Item_Weight</th>\n",
       "      <th>Item_Visibility</th>\n",
       "      <th>Item_MRP</th>\n",
       "      <th>Outlet_Establishment_Year</th>\n",
       "      <th>Drinks</th>\n",
       "      <th>Food</th>\n",
       "      <th>Non Consumable</th>\n",
       "      <th>Baking Goods</th>\n",
       "      <th>Canned</th>\n",
       "      <th>Dairy</th>\n",
       "      <th>...</th>\n",
       "      <th>Medium</th>\n",
       "      <th>Missing</th>\n",
       "      <th>Small</th>\n",
       "      <th>Tier 1</th>\n",
       "      <th>Tier 2</th>\n",
       "      <th>Tier 3</th>\n",
       "      <th>Grocery Store</th>\n",
       "      <th>Supermarket Type1</th>\n",
       "      <th>Supermarket Type2</th>\n",
       "      <th>Supermarket Type3</th>\n",
       "    </tr>\n",
       "  </thead>\n",
       "  <tbody>\n",
       "    <tr>\n",
       "      <th>0</th>\n",
       "      <td>-0.766217</td>\n",
       "      <td>-0.970732</td>\n",
       "      <td>1.747454</td>\n",
       "      <td>-0.139541</td>\n",
       "      <td>0</td>\n",
       "      <td>1</td>\n",
       "      <td>0</td>\n",
       "      <td>0</td>\n",
       "      <td>0</td>\n",
       "      <td>1</td>\n",
       "      <td>...</td>\n",
       "      <td>1</td>\n",
       "      <td>0</td>\n",
       "      <td>0</td>\n",
       "      <td>1</td>\n",
       "      <td>0</td>\n",
       "      <td>0</td>\n",
       "      <td>0</td>\n",
       "      <td>1</td>\n",
       "      <td>0</td>\n",
       "      <td>0</td>\n",
       "    </tr>\n",
       "    <tr>\n",
       "      <th>1</th>\n",
       "      <td>-1.494175</td>\n",
       "      <td>-0.908111</td>\n",
       "      <td>-1.489023</td>\n",
       "      <td>-1.334103</td>\n",
       "      <td>1</td>\n",
       "      <td>0</td>\n",
       "      <td>0</td>\n",
       "      <td>0</td>\n",
       "      <td>0</td>\n",
       "      <td>0</td>\n",
       "      <td>...</td>\n",
       "      <td>1</td>\n",
       "      <td>0</td>\n",
       "      <td>0</td>\n",
       "      <td>0</td>\n",
       "      <td>0</td>\n",
       "      <td>1</td>\n",
       "      <td>0</td>\n",
       "      <td>0</td>\n",
       "      <td>1</td>\n",
       "      <td>0</td>\n",
       "    </tr>\n",
       "    <tr>\n",
       "      <th>2</th>\n",
       "      <td>0.999834</td>\n",
       "      <td>-0.956917</td>\n",
       "      <td>0.010040</td>\n",
       "      <td>-0.139541</td>\n",
       "      <td>0</td>\n",
       "      <td>1</td>\n",
       "      <td>0</td>\n",
       "      <td>0</td>\n",
       "      <td>0</td>\n",
       "      <td>0</td>\n",
       "      <td>...</td>\n",
       "      <td>1</td>\n",
       "      <td>0</td>\n",
       "      <td>0</td>\n",
       "      <td>1</td>\n",
       "      <td>0</td>\n",
       "      <td>0</td>\n",
       "      <td>0</td>\n",
       "      <td>1</td>\n",
       "      <td>0</td>\n",
       "      <td>0</td>\n",
       "    </tr>\n",
       "    <tr>\n",
       "      <th>3</th>\n",
       "      <td>1.365966</td>\n",
       "      <td>-1.281758</td>\n",
       "      <td>0.660050</td>\n",
       "      <td>-0.020085</td>\n",
       "      <td>0</td>\n",
       "      <td>1</td>\n",
       "      <td>0</td>\n",
       "      <td>0</td>\n",
       "      <td>0</td>\n",
       "      <td>0</td>\n",
       "      <td>...</td>\n",
       "      <td>0</td>\n",
       "      <td>1</td>\n",
       "      <td>0</td>\n",
       "      <td>0</td>\n",
       "      <td>0</td>\n",
       "      <td>1</td>\n",
       "      <td>1</td>\n",
       "      <td>0</td>\n",
       "      <td>0</td>\n",
       "      <td>0</td>\n",
       "    </tr>\n",
       "    <tr>\n",
       "      <th>4</th>\n",
       "      <td>-0.845905</td>\n",
       "      <td>-1.281758</td>\n",
       "      <td>-1.399220</td>\n",
       "      <td>1.293934</td>\n",
       "      <td>0</td>\n",
       "      <td>0</td>\n",
       "      <td>1</td>\n",
       "      <td>0</td>\n",
       "      <td>0</td>\n",
       "      <td>0</td>\n",
       "      <td>...</td>\n",
       "      <td>0</td>\n",
       "      <td>0</td>\n",
       "      <td>0</td>\n",
       "      <td>0</td>\n",
       "      <td>0</td>\n",
       "      <td>1</td>\n",
       "      <td>0</td>\n",
       "      <td>1</td>\n",
       "      <td>0</td>\n",
       "      <td>0</td>\n",
       "    </tr>\n",
       "    <tr>\n",
       "      <th>...</th>\n",
       "      <td>...</td>\n",
       "      <td>...</td>\n",
       "      <td>...</td>\n",
       "      <td>...</td>\n",
       "      <td>...</td>\n",
       "      <td>...</td>\n",
       "      <td>...</td>\n",
       "      <td>...</td>\n",
       "      <td>...</td>\n",
       "      <td>...</td>\n",
       "      <td>...</td>\n",
       "      <td>...</td>\n",
       "      <td>...</td>\n",
       "      <td>...</td>\n",
       "      <td>...</td>\n",
       "      <td>...</td>\n",
       "      <td>...</td>\n",
       "      <td>...</td>\n",
       "      <td>...</td>\n",
       "      <td>...</td>\n",
       "      <td>...</td>\n",
       "    </tr>\n",
       "    <tr>\n",
       "      <th>8518</th>\n",
       "      <td>-1.290648</td>\n",
       "      <td>-0.181193</td>\n",
       "      <td>1.180783</td>\n",
       "      <td>1.293934</td>\n",
       "      <td>0</td>\n",
       "      <td>1</td>\n",
       "      <td>0</td>\n",
       "      <td>0</td>\n",
       "      <td>0</td>\n",
       "      <td>0</td>\n",
       "      <td>...</td>\n",
       "      <td>0</td>\n",
       "      <td>0</td>\n",
       "      <td>0</td>\n",
       "      <td>0</td>\n",
       "      <td>0</td>\n",
       "      <td>1</td>\n",
       "      <td>0</td>\n",
       "      <td>1</td>\n",
       "      <td>0</td>\n",
       "      <td>0</td>\n",
       "    </tr>\n",
       "    <tr>\n",
       "      <th>8519</th>\n",
       "      <td>-0.964360</td>\n",
       "      <td>-0.371154</td>\n",
       "      <td>-0.527301</td>\n",
       "      <td>-0.497909</td>\n",
       "      <td>0</td>\n",
       "      <td>1</td>\n",
       "      <td>0</td>\n",
       "      <td>1</td>\n",
       "      <td>0</td>\n",
       "      <td>0</td>\n",
       "      <td>...</td>\n",
       "      <td>0</td>\n",
       "      <td>1</td>\n",
       "      <td>0</td>\n",
       "      <td>0</td>\n",
       "      <td>1</td>\n",
       "      <td>0</td>\n",
       "      <td>0</td>\n",
       "      <td>1</td>\n",
       "      <td>0</td>\n",
       "      <td>0</td>\n",
       "    </tr>\n",
       "    <tr>\n",
       "      <th>8520</th>\n",
       "      <td>-0.486234</td>\n",
       "      <td>-0.599784</td>\n",
       "      <td>-0.897208</td>\n",
       "      <td>-0.736822</td>\n",
       "      <td>0</td>\n",
       "      <td>0</td>\n",
       "      <td>1</td>\n",
       "      <td>0</td>\n",
       "      <td>0</td>\n",
       "      <td>0</td>\n",
       "      <td>...</td>\n",
       "      <td>0</td>\n",
       "      <td>0</td>\n",
       "      <td>1</td>\n",
       "      <td>0</td>\n",
       "      <td>1</td>\n",
       "      <td>0</td>\n",
       "      <td>0</td>\n",
       "      <td>1</td>\n",
       "      <td>0</td>\n",
       "      <td>0</td>\n",
       "    </tr>\n",
       "    <tr>\n",
       "      <th>8521</th>\n",
       "      <td>-1.216345</td>\n",
       "      <td>1.532880</td>\n",
       "      <td>-0.607977</td>\n",
       "      <td>-1.334103</td>\n",
       "      <td>0</td>\n",
       "      <td>1</td>\n",
       "      <td>0</td>\n",
       "      <td>0</td>\n",
       "      <td>0</td>\n",
       "      <td>0</td>\n",
       "      <td>...</td>\n",
       "      <td>1</td>\n",
       "      <td>0</td>\n",
       "      <td>0</td>\n",
       "      <td>0</td>\n",
       "      <td>0</td>\n",
       "      <td>1</td>\n",
       "      <td>0</td>\n",
       "      <td>0</td>\n",
       "      <td>1</td>\n",
       "      <td>0</td>\n",
       "    </tr>\n",
       "    <tr>\n",
       "      <th>8522</th>\n",
       "      <td>0.418329</td>\n",
       "      <td>-0.411936</td>\n",
       "      <td>-1.052261</td>\n",
       "      <td>0.099372</td>\n",
       "      <td>1</td>\n",
       "      <td>0</td>\n",
       "      <td>0</td>\n",
       "      <td>0</td>\n",
       "      <td>0</td>\n",
       "      <td>0</td>\n",
       "      <td>...</td>\n",
       "      <td>0</td>\n",
       "      <td>0</td>\n",
       "      <td>1</td>\n",
       "      <td>1</td>\n",
       "      <td>0</td>\n",
       "      <td>0</td>\n",
       "      <td>0</td>\n",
       "      <td>1</td>\n",
       "      <td>0</td>\n",
       "      <td>0</td>\n",
       "    </tr>\n",
       "  </tbody>\n",
       "</table>\n",
       "<p>8523 rows × 34 columns</p>\n",
       "</div>"
      ],
      "text/plain": [
       "      Item_Weight  Item_Visibility  Item_MRP  Outlet_Establishment_Year  \\\n",
       "0       -0.766217        -0.970732  1.747454                  -0.139541   \n",
       "1       -1.494175        -0.908111 -1.489023                  -1.334103   \n",
       "2        0.999834        -0.956917  0.010040                  -0.139541   \n",
       "3        1.365966        -1.281758  0.660050                  -0.020085   \n",
       "4       -0.845905        -1.281758 -1.399220                   1.293934   \n",
       "...           ...              ...       ...                        ...   \n",
       "8518    -1.290648        -0.181193  1.180783                   1.293934   \n",
       "8519    -0.964360        -0.371154 -0.527301                  -0.497909   \n",
       "8520    -0.486234        -0.599784 -0.897208                  -0.736822   \n",
       "8521    -1.216345         1.532880 -0.607977                  -1.334103   \n",
       "8522     0.418329        -0.411936 -1.052261                   0.099372   \n",
       "\n",
       "      Drinks  Food  Non Consumable  Baking Goods  Canned  Dairy  ...  Medium  \\\n",
       "0          0     1               0             0       0      1  ...       1   \n",
       "1          1     0               0             0       0      0  ...       1   \n",
       "2          0     1               0             0       0      0  ...       1   \n",
       "3          0     1               0             0       0      0  ...       0   \n",
       "4          0     0               1             0       0      0  ...       0   \n",
       "...      ...   ...             ...           ...     ...    ...  ...     ...   \n",
       "8518       0     1               0             0       0      0  ...       0   \n",
       "8519       0     1               0             1       0      0  ...       0   \n",
       "8520       0     0               1             0       0      0  ...       0   \n",
       "8521       0     1               0             0       0      0  ...       1   \n",
       "8522       1     0               0             0       0      0  ...       0   \n",
       "\n",
       "      Missing  Small  Tier 1  Tier 2  Tier 3  Grocery Store  \\\n",
       "0           0      0       1       0       0              0   \n",
       "1           0      0       0       0       1              0   \n",
       "2           0      0       1       0       0              0   \n",
       "3           1      0       0       0       1              1   \n",
       "4           0      0       0       0       1              0   \n",
       "...       ...    ...     ...     ...     ...            ...   \n",
       "8518        0      0       0       0       1              0   \n",
       "8519        1      0       0       1       0              0   \n",
       "8520        0      1       0       1       0              0   \n",
       "8521        0      0       0       0       1              0   \n",
       "8522        0      1       1       0       0              0   \n",
       "\n",
       "      Supermarket Type1  Supermarket Type2  Supermarket Type3  \n",
       "0                     1                  0                  0  \n",
       "1                     0                  1                  0  \n",
       "2                     1                  0                  0  \n",
       "3                     0                  0                  0  \n",
       "4                     1                  0                  0  \n",
       "...                 ...                ...                ...  \n",
       "8518                  1                  0                  0  \n",
       "8519                  1                  0                  0  \n",
       "8520                  1                  0                  0  \n",
       "8521                  0                  1                  0  \n",
       "8522                  1                  0                  0  \n",
       "\n",
       "[8523 rows x 34 columns]"
      ]
     },
     "execution_count": 73,
     "metadata": {},
     "output_type": "execute_result"
    }
   ],
   "source": [
    "X= data.drop('Item_Outlet_Sales', axis=1)\n",
    "X"
   ]
  },
  {
   "cell_type": "code",
   "execution_count": 74,
   "metadata": {},
   "outputs": [
    {
     "data": {
      "text/plain": [
       "<matplotlib.axes._subplots.AxesSubplot at 0x7f8fe244b990>"
      ]
     },
     "execution_count": 74,
     "metadata": {},
     "output_type": "execute_result"
    },
    {
     "data": {
      "image/png": "[encoded data removed]",
      "text/plain": [
       "<Figure size 432x288 with 1 Axes>"
      ]
     },
     "metadata": {
      "needs_background": "light"
     },
     "output_type": "display_data"
    }
   ],
   "source": [
    "X['Item_Weight'].plot(kind='kde')"
   ]
  },
  {
   "cell_type": "code",
   "execution_count": 75,
   "metadata": {},
   "outputs": [
    {
     "data": {
      "text/plain": [
       "<matplotlib.axes._subplots.AxesSubplot at 0x7f8fe237a290>"
      ]
     },
     "execution_count": 75,
     "metadata": {},
     "output_type": "execute_result"
    },
    {
     "data": {
      "image/png": "[encoded data removed]",
      "text/plain": [
       "<Figure size 432x288 with 1 Axes>"
      ]
     },
     "metadata": {
      "needs_background": "light"
     },
     "output_type": "display_data"
    }
   ],
   "source": [
    "y= data['Item_Outlet_Sales']\n",
    "y.plot(kind= 'kde')"
   ]
  },
  {
   "cell_type": "markdown",
   "metadata": {},
   "source": [
    "### Step 7- Testing models"
   ]
  },
  {
   "cell_type": "code",
   "execution_count": 76,
   "metadata": {},
   "outputs": [],
   "source": [
    "X_train, X_test, y_train, y_test = train_test_split(X, y, test_size=0.2, random_state=42)"
   ]
  },
  {
   "cell_type": "code",
   "execution_count": 77,
   "metadata": {},
   "outputs": [
    {
     "data": {
      "text/plain": [
       "LinearRegression()"
      ]
     },
     "execution_count": 77,
     "metadata": {},
     "output_type": "execute_result"
    }
   ],
   "source": [
    "lr= LinearRegression()\n",
    "lr.fit(X_train, y_train)"
   ]
  },
  {
   "cell_type": "code",
   "execution_count": 78,
   "metadata": {},
   "outputs": [
    {
     "data": {
      "text/plain": [
       "1141.8891000846936"
      ]
     },
     "execution_count": 78,
     "metadata": {},
     "output_type": "execute_result"
    }
   ],
   "source": [
    "y_pred= lr.predict(X_train)\n",
    "lr_mse= mean_squared_error(y_train, y_pred)\n",
    "lr_rmse= np.sqrt(lr_mse)\n",
    "lr_rmse"
   ]
  },
  {
   "cell_type": "code",
   "execution_count": 79,
   "metadata": {},
   "outputs": [
    {
     "data": {
      "text/plain": [
       "0.5591992654252191"
      ]
     },
     "execution_count": 79,
     "metadata": {},
     "output_type": "execute_result"
    }
   ],
   "source": [
    "r2_score(y_train, y_pred)"
   ]
  },
  {
   "cell_type": "code",
   "execution_count": 80,
   "metadata": {},
   "outputs": [
    {
     "data": {
      "text/plain": [
       "0.0"
      ]
     },
     "execution_count": 80,
     "metadata": {},
     "output_type": "execute_result"
    }
   ],
   "source": [
    "tree_reg= DecisionTreeRegressor()\n",
    "tree_reg.fit(X_train, y_train)\n",
    "y_pred= tree_reg.predict(X_train)\n",
    "tree_mse= mean_squared_error(y_train, y_pred)\n",
    "tree_rmse= np.sqrt(tree_mse)\n",
    "tree_rmse\n"
   ]
  },
  {
   "cell_type": "markdown",
   "metadata": {},
   "source": [
    "Decision tree is clearly overfitting so let us use a random forest regressor with parameters tuned with grid search."
   ]
  },
  {
   "cell_type": "code",
   "execution_count": 81,
   "metadata": {},
   "outputs": [],
   "source": [
    "param_grid= [{'n_estimators': [100,250], 'max_features': [12,18,20], 'min_samples_leaf': [4,6,8], 'max_depth': [6,8,10,12]}]"
   ]
  },
  {
   "cell_type": "code",
   "execution_count": 83,
   "metadata": {},
   "outputs": [],
   "source": [
    "rf= RandomForestRegressor()\n",
    "\n",
    "grid_search= GridSearchCV(rf, param_grid, cv=5, return_train_score= True )"
   ]
  },
  {
   "cell_type": "code",
   "execution_count": null,
   "metadata": {},
   "outputs": [],
   "source": [
    "#grid_search.fit(X_train, y_train)\n",
    "#grid_search.best_params_\n",
    "\n",
    "\n",
    "#final_model= grid_search.best_estimator_\n",
    "#final_pred= final_model.predict(X_test)\n",
    "#r2_score(y_test, final_pred)"
   ]
  },
  {
   "cell_type": "code",
   "execution_count": 84,
   "metadata": {},
   "outputs": [
    {
     "data": {
      "text/plain": [
       "(0.619760547416573, 0.6183935543373751)"
      ]
     },
     "execution_count": 84,
     "metadata": {},
     "output_type": "execute_result"
    }
   ],
   "source": [
    "#best model\n",
    "\n",
    "rf= RandomForestRegressor(n_estimators =500,\n",
    " max_features= 21,\n",
    " min_samples_leaf= 5,\n",
    "max_depth= 6)\n",
    "\n",
    "rf.fit(X_train, y_train)\n",
    "train_pred= rf.predict(X_train)\n",
    "final_pred= rf.predict(X_test)\n",
    "r2_score(y_test, final_pred), r2_score(y_train, train_pred)\n",
    "\n",
    "\n"
   ]
  },
  {
   "cell_type": "markdown",
   "metadata": {},
   "source": [
    "### Step 8- Putting all feature engineering together- Custom transformers\n",
    "\n",
    "Steps to be part of the pipeline\n",
    "\n",
    "1. Clustering of item identifier, item type & Outlet identifier and dropping of item fat content-> Categorical pipeline\n",
    "2. Feature engineering of outlet establishment year-> Numerical pipeline\n",
    "3. KNN Imputation of Numerical feature and Missing value with Small for Outlet type in categorical feature. For the rest, just impute with median.\n",
    "\n",
    "4. Standard Scalar-> For both\n",
    "5. One hot encoding-> Categorical feature"
   ]
  },
  {
   "cell_type": "code",
   "execution_count": 135,
   "metadata": {},
   "outputs": [
    {
     "data": {
      "text/plain": [
       "(['Item_Weight', 'Item_Visibility', 'Item_MRP', 'Outlet_Establishment_Year'],\n",
       " ['Item_Identifier',\n",
       "  'Item_Fat_Content',\n",
       "  'Item_Type',\n",
       "  'Outlet_Identifier',\n",
       "  'Outlet_Size',\n",
       "  'Outlet_Location_Type',\n",
       "  'Outlet_Type'])"
      ]
     },
     "execution_count": 135,
     "metadata": {},
     "output_type": "execute_result"
    }
   ],
   "source": [
    "url= \"https://raw.githubusercontent.com/nithinpradeep38/datasets/main/Train.csv\"\n",
    "data= pd.read_csv(url)\n",
    "cat_col= [col for col in data.columns if data[col].dtype== 'object']\n",
    "num_col= [col for col in data.columns if data[col].dtype!= 'object']\n",
    "num_col.remove('Item_Outlet_Sales')\n",
    "num_col, cat_col"
   ]
  },
  {
   "cell_type": "code",
   "execution_count": 136,
   "metadata": {},
   "outputs": [],
   "source": [
    "\n",
    "class FeatureGenerator(BaseEstimator, TransformerMixin):\n",
    "\n",
    "\n",
    "    def __init__(self,  Outlet_Establishment_Year_id= 3):\n",
    "        self.Outlet_Establishment_Year_id= Outlet_Establishment_Year_id\n",
    "        \n",
    "    def fit(self, X, y= None):\n",
    "        return self\n",
    "    \n",
    "    def transform(self, X, y= None):\n",
    "        X= pd.DataFrame(X, columns= ['Item_Weight', \n",
    "                                         'Item_Visibility', \n",
    "                                         'Item_MRP', \n",
    "                                         'Outlet_Establishment_Year'])\n",
    "            \n",
    "        X.iloc[:,self.Outlet_Establishment_Year_id]= 2022- X.iloc[:,self.Outlet_Establishment_Year_id]\n",
    "                            \n",
    "        return X\n",
    "                "
   ]
  },
  {
   "cell_type": "code",
   "execution_count": 137,
   "metadata": {},
   "outputs": [],
   "source": [
    "class CategoryGenerator(BaseEstimator, TransformerMixin):\n",
    "\n",
    "\n",
    "    def __init__(self,  \n",
    "                 Item_Identifier_id= 0, \n",
    "                 Item_Fat_Content_id=1, \n",
    "                 Item_Type_id= 2, \n",
    "                 Outlet_Identifier_id=3\n",
    "                ):\n",
    "        self.Item_Identifier_id= Item_Identifier_id\n",
    "        self.Item_Fat_Content_id= Item_Fat_Content_id\n",
    "        self.Item_Type_id= Item_Type_id\n",
    "        self.Outlet_Identifier_id= Outlet_Identifier_id\n",
    "        \n",
    "        \n",
    "\n",
    "    def fit(self, X, y= None):\n",
    "        return self\n",
    "    \n",
    "    def transform(self, X, y= None):\n",
    "            X= pd.DataFrame(X, columns= ['Item_Identifier',\n",
    "                                         'Item_Fat_Content',\n",
    "                                         'Item_Type',\n",
    "                                         'Outlet_Identifier',\n",
    "                                         'Outlet_Size',\n",
    "                                         'Outlet_Location_Type',\n",
    "                                         'Outlet_Type'])\n",
    "            \n",
    "            X.iloc[:,self.Item_Identifier_id]= X.iloc[:,self.Item_Identifier_id].map(\n",
    "                {\"Low Fat\": 'Low Fat', \"LF\": \"Low Fat\", 'low fat': \"Low Fat\", \"Regular\": \"Regular\"})\n",
    "            \n",
    "            X.iloc[:, self.Item_Fat_Content_id]= X.iloc[:, self.Item_Fat_Content_id].apply(lambda x: x[0:2]).map(\n",
    "                {\"FD\": \"Food\", \"DR\": \"Drink\", \"NC\": \"Non_consumable\"})\n",
    "            \n",
    "            item_grouping_dict= {'Dairy': 'Dairy',\n",
    "                             'Soft Drinks': 'Soft Drinks',\n",
    "                             'Meat': 'rare',\n",
    "                             'Fruits and Vegetables': 'Fruits and Vegetables',\n",
    "                             'Household': 'Household',\n",
    "                             'Baking Goods': 'Baking Goods',\n",
    "                             'Snack Foods': 'Snack Foods',\n",
    "                             'Frozen Foods': 'Frozen Foods',\n",
    "                             'Breakfast': 'rare',\n",
    "                             'Health and Hygiene': 'Health and Hygiene',\n",
    "                             'Hard Drinks': 'rare',\n",
    "                             'Canned': 'Canned',\n",
    "                             'Breads': 'rare',\n",
    "                             'Starchy Foods': 'rare',\n",
    "                             'Others': 'rare',\n",
    "                             'Seafood': 'rare'}\n",
    "            \n",
    "            X.iloc[:, self.Item_Type_id]= X.iloc[:, self.Item_Type_id].map(item_grouping_dict)\n",
    "            \n",
    "            Outlet_grouping_dict= {  'OUT049': 'Cluster0',\n",
    "                                     'OUT018': 'OUT018',\n",
    "                                     'OUT010': 'Cluster1',\n",
    "                                     'OUT013': 'Cluster0',\n",
    "                                     'OUT027': 'OUT027',\n",
    "                                     'OUT045': 'OUT045',\n",
    "                                     'OUT017': 'Cluster0',\n",
    "                                     'OUT046': 'Cluster0',\n",
    "                                     'OUT035': 'OUT035',\n",
    "                                     'OUT019': 'Cluster1'\n",
    "                                  }\n",
    "            X.iloc[:, self.Outlet_Identifier_id]= X.iloc[:, self.Outlet_Identifier_id].map(Outlet_grouping_dict)\n",
    "            \n",
    "            return X\n",
    "            \n",
    "            "
   ]
  },
  {
   "cell_type": "code",
   "execution_count": 138,
   "metadata": {},
   "outputs": [],
   "source": [
    "from sklearn.pipeline import Pipeline\n",
    "num_pipeline = Pipeline(steps=[\n",
    "                ('imputer', SimpleImputer(strategy=\"median\")),\n",
    "                ('feature_generator', FeatureGenerator()),\n",
    "                ('scaler', StandardScaler())\n",
    "            ]\n",
    "            )\n",
    "\n",
    "cat_pipeline = Pipeline(steps=[\n",
    "                ('impute', SimpleImputer(strategy=\"most_frequent\")),\n",
    "                 ( 'classgenerator', CategoryGenerator()),\n",
    "                 ('one_hot_encoder', OneHotEncoder()),\n",
    "                 ('scaler', StandardScaler(with_mean=False))\n",
    "            ]\n",
    "            )"
   ]
  },
  {
   "cell_type": "code",
   "execution_count": 139,
   "metadata": {},
   "outputs": [],
   "source": [
    "preprocessing = ColumnTransformer([\n",
    "                ('num_pipeline', num_pipeline, num_col),\n",
    "                ('cat_pipeline', cat_pipeline, cat_col)\n",
    "            ])"
   ]
  },
  {
   "cell_type": "code",
   "execution_count": 140,
   "metadata": {},
   "outputs": [
    {
     "data": {
      "text/plain": [
       "numpy.ndarray"
      ]
     },
     "execution_count": 140,
     "metadata": {},
     "output_type": "execute_result"
    }
   ],
   "source": [
    "a= preprocessing.fit_transform(data)\n",
    "type(a)"
   ]
  },
  {
   "cell_type": "markdown",
   "metadata": {},
   "source": [
    "**We have conducted all the feature engineering discussed into a custom transformer which we can use to apply fit onto training data and then transform the testing data.**\n",
    "\n",
    "\n",
    "### **This concludes the EDA**"
   ]
  },
  {
   "cell_type": "markdown",
   "metadata": {},
   "source": [
    "### Miscellaneous work- Please ignore"
   ]
  },
  {
   "cell_type": "code",
   "execution_count": 328,
   "metadata": {},
   "outputs": [
    {
     "data": {
      "text/plain": [
       "(0.5375342246590131, 0.8510193756691949)"
      ]
     },
     "execution_count": 328,
     "metadata": {},
     "output_type": "execute_result"
    }
   ],
   "source": [
    "#xgb= XGBRegressor()\n",
    "#xgb.fit(X_train, y_train)\n",
    "#train_pred= xgb.predict(X_train)\n",
    "#final_pred= xgb.predict(X_test)\n",
    "#r2_score(y_test, final_pred), r2_score(y_train, train_pred)\n",
    "\n",
    "#param_grid= [{'n_estimators':[500,750,1000], 'max_depth': [4,5,6], 'eta': [0.01, 0.1, 0.3]}]\n",
    "#grid_search= GridSearchCV(xgb, param_grid, cv=5, scoring= 'neg_mean_squared_error', return_train_score= True )\n",
    "#grid_search.fit(X_train, y_train)\n",
    "\n",
    "#final_model= grid_search.best_estimator_\n",
    "#final_pred= final_model.predict(X_test)\n",
    "#r2_score(y_test, final_pred)\n",
    "\n",
    "#y_pred= final_model.predict(X_train)\n",
    "#r2_score(y_train, y_pred)"
   ]
  },
  {
   "cell_type": "code",
   "execution_count": 159,
   "metadata": {},
   "outputs": [],
   "source": [
    "\"\"\"\n",
    "CatBoostRegressor\n",
    "model_cb = CatBoostRegressor()\n",
    "param_grid = {'iterations': [100, 150, 200],\n",
    "        'learning_rate': [0.03, 0.1],\n",
    "        'depth': [4, 6, 8],\n",
    "        'l2_leaf_reg': [0.2, 0.5, 1, 3]}\n",
    "\n",
    "grid_search= GridSearchCV(model_cb, param_grid, cv=5, scoring= 'neg_mean_squared_error', return_train_score= True )\n",
    "grid_search.fit(X_train, y_train)\n",
    "\"\"\"\n"
   ]
  },
  {
   "cell_type": "code",
   "execution_count": 141,
   "metadata": {},
   "outputs": [],
   "source": [
    "#grid_search.best_params_"
   ]
  },
  {
   "cell_type": "code",
   "execution_count": 142,
   "metadata": {},
   "outputs": [
    {
     "data": {
      "text/plain": [
       "'\\nfinal_model= grid_search.best_estimator_\\nfinal_pred= final_model.predict(X_test)\\ny_pred= final_model.predict(X_train)\\nr2_score(y_train, y_pred), r2_score(y_test, final_pred)\\n'"
      ]
     },
     "execution_count": 142,
     "metadata": {},
     "output_type": "execute_result"
    }
   ],
   "source": [
    "\"\"\"\n",
    "final_model= grid_search.best_estimator_\n",
    "final_pred= final_model.predict(X_test)\n",
    "y_pred= final_model.predict(X_train)\n",
    "r2_score(y_train, y_pred), r2_score(y_test, final_pred)\n",
    "\"\"\"\n"
   ]
  },
  {
   "cell_type": "code",
   "execution_count": 143,
   "metadata": {},
   "outputs": [
    {
     "data": {
      "text/plain": [
       "\"\\nfrom sklearn.model_selection import RandomizedSearchCV\\nrandom_grid = {\\n                'n_estimators': [10, 20, 40, 50, 100, 150, 200, 500],\\n                'max_features': [2,4,6,8,10,14,18,22],\\n                'max_depth': [5, 7, 9, 11, 15,18],\\n                'bootstrap': [True, False],\\n                'min_samples_leaf': [4,8,12,16]\\n                }\\nrf = RandomForestRegressor()\\nrf_random = RandomizedSearchCV(estimator = rf, param_distributions = random_grid, n_iter = 100, cv = 3, verbose=2, random_state=42, n_jobs = -1)\\nrf_random.fit(X_train, y_train)\\nrf_random.best_params_\\n\\n\""
      ]
     },
     "execution_count": 143,
     "metadata": {},
     "output_type": "execute_result"
    }
   ],
   "source": [
    "\"\"\"\n",
    "from sklearn.model_selection import RandomizedSearchCV\n",
    "random_grid = {\n",
    "                'n_estimators': [10, 20, 40, 50, 100, 150, 200, 500],\n",
    "                'max_features': [2,4,6,8,10,14,18,22],\n",
    "                'max_depth': [5, 7, 9, 11, 15,18],\n",
    "                'bootstrap': [True, False],\n",
    "                'min_samples_leaf': [4,8,12,16]\n",
    "                }\n",
    "rf = RandomForestRegressor()\n",
    "rf_random = RandomizedSearchCV(estimator = rf, param_distributions = random_grid, n_iter = 100, cv = 3, verbose=2, random_state=42, n_jobs = -1)\n",
    "rf_random.fit(X_train, y_train)\n",
    "rf_random.best_params_\n",
    "\n",
    "\"\"\"\n"
   ]
  },
  {
   "cell_type": "code",
   "execution_count": 144,
   "metadata": {},
   "outputs": [
    {
     "data": {
      "text/plain": [
       "'\\nfinal_pred= rf_random.predict(X_test)\\ny_pred= rf_random.predict(X_train)\\nr2_score(y_train, y_pred),r2_score(y_test, final_pred)\\n'"
      ]
     },
     "execution_count": 144,
     "metadata": {},
     "output_type": "execute_result"
    }
   ],
   "source": [
    "\"\"\"\n",
    "final_pred= rf_random.predict(X_test)\n",
    "y_pred= rf_random.predict(X_train)\n",
    "r2_score(y_train, y_pred),r2_score(y_test, final_pred)\n",
    "\"\"\"\n"
   ]
  },
  {
   "cell_type": "code",
   "execution_count": null,
   "metadata": {},
   "outputs": [],
   "source": [
    "\"\"\"\n",
    "Testing transformations\n",
    "\n",
    "y_train_log= np.log1p(y_train)\n",
    "\n",
    "y_test_log= np.log1p(y_test)\n",
    "\n",
    "from scipy.stats import boxcox\n",
    "from scipy.special import inv_boxcox\n",
    "y_train_boxcox,fitted_lambda= boxcox(y_train,lmbda=None)\n",
    "boxcox(y_train,lmbda=None)\n",
    "\n",
    "\n",
    "y_train_boxcox\n",
    "y_test_boxcox= boxcox(y_test, lmbda= 0.3467646810593698)\n",
    "y_test_boxcox\n",
    "\n",
    "inv_boxcox(y_test_boxcox,0.3467646810593698)\n",
    "\n",
    "\"\"\"\n"
   ]
  }
 ],
 "metadata": {
  "kernelspec": {
   "display_name": "Python 3",
   "language": "python",
   "name": "python3"
  },
  "language_info": {
   "codemirror_mode": {
    "name": "ipython",
    "version": 3
   },
   "file_extension": ".py",
   "mimetype": "text/x-python",
   "name": "python",
   "nbconvert_exporter": "python",
   "pygments_lexer": "ipython3",
   "version": "3.7.6"
  },
  "vscode": {
   "interpreter": {
    "hash": "40d3a090f54c6569ab1632332b64b2c03c39dcf918b08424e98f38b5ae0af88f"
   }
  }
 },
 "nbformat": 4,
 "nbformat_minor": 2
}
